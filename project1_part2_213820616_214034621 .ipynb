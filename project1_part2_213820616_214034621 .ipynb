{
 "cells": [
  {
   "cell_type": "markdown",
   "metadata": {
    "application/vnd.databricks.v1+cell": {
     "cellMetadata": {
      "byteLimit": 2048000,
      "rowLimit": 10000
     },
     "inputWidgets": {},
     "nuid": "9bf6f18a-5511-453d-a283-4e3de2276f24",
     "showTitle": false,
     "tableResultSettingsMap": {},
     "title": ""
    }
   },
   "source": [
    "# Project 1 - Starter Notebook\n"
   ]
  },
  {
   "cell_type": "code",
   "execution_count": 0,
   "metadata": {
    "application/vnd.databricks.v1+cell": {
     "cellMetadata": {
      "byteLimit": 2048000,
      "rowLimit": 10000
     },
     "inputWidgets": {},
     "nuid": "d4dffdc6-9b10-4156-84e3-2aa633287766",
     "showTitle": false,
     "tableResultSettingsMap": {},
     "title": ""
    }
   },
   "outputs": [],
   "source": [
    "from pyspark import SparkContext\n",
    "from pyspark.sql import SparkSession\n",
    " \n",
    "spark = SparkSession.builder.appName(\"my_project_1\").getOrCreate()\n"
   ]
  },
  {
   "cell_type": "markdown",
   "metadata": {
    "application/vnd.databricks.v1+cell": {
     "cellMetadata": {
      "byteLimit": 2048000,
      "rowLimit": 10000
     },
     "inputWidgets": {},
     "nuid": "579829f5-7738-4fb9-99e4-972192e1def9",
     "showTitle": false,
     "tableResultSettingsMap": {},
     "title": ""
    }
   },
   "source": [
    "Importing all spark data types and spark functions for your convenience."
   ]
  },
  {
   "cell_type": "code",
   "execution_count": 0,
   "metadata": {
    "application/vnd.databricks.v1+cell": {
     "cellMetadata": {
      "byteLimit": 2048000,
      "rowLimit": 10000
     },
     "inputWidgets": {},
     "nuid": "d6e4411a-9b08-48bb-a30a-b4ba7f591532",
     "showTitle": false,
     "tableResultSettingsMap": {},
     "title": ""
    }
   },
   "outputs": [],
   "source": [
    "from pyspark.sql.types import *\n",
    "from pyspark.sql.functions import *"
   ]
  },
  {
   "cell_type": "code",
   "execution_count": 0,
   "metadata": {
    "application/vnd.databricks.v1+cell": {
     "cellMetadata": {
      "byteLimit": 2048000,
      "rowLimit": 10000
     },
     "inputWidgets": {},
     "nuid": "b349e896-490f-4440-94cd-40a65cc635f1",
     "showTitle": false,
     "tableResultSettingsMap": {},
     "title": ""
    }
   },
   "outputs": [],
   "source": [
    "# Read a CSV into a dataframe\n",
    "# There is a smarter version, that will first check if there is a Parquet file and use it\n",
    "def load_csv_file(filename, schema):\n",
    "  # Reads the relevant file from distributed file system using the given schema\n",
    "\n",
    "  allowed_files = {'Daily program data': ('Daily program data', \"|\"),\n",
    "                   'demographic': ('demographic', \"|\")}\n",
    "\n",
    "  if filename not in allowed_files.keys():\n",
    "    print(f'You were trying to access unknown file \\\"{filename}\\\". Only valid options are {allowed_files.keys()}')\n",
    "    return None\n",
    "\n",
    "  filepath = allowed_files[filename][0]\n",
    "  dataPath = f\"dbfs:/mnt/coursedata2024/fwm-stb-data/{filepath}\"\n",
    "  delimiter = allowed_files[filename][1]\n",
    "\n",
    "  df = spark.read.format(\"csv\")\\\n",
    "    .option(\"header\",\"false\")\\\n",
    "    .option(\"delimiter\",delimiter)\\\n",
    "    .schema(schema)\\\n",
    "    .load(dataPath)\n",
    "  return df\n",
    "\n",
    "# This dict holds the correct schemata for easily loading the CSVs\n",
    "schemas_dict = {'Daily program data':\n",
    "                  StructType([\n",
    "                    StructField('prog_code', StringType()),\n",
    "                    StructField('title', StringType()),\n",
    "                    StructField('genre', StringType()),\n",
    "                    StructField('air_date', StringType()),\n",
    "                    StructField('air_time', StringType()),\n",
    "                    StructField('Duration', FloatType())\n",
    "                  ]),\n",
    "                'viewing':\n",
    "                  StructType([\n",
    "                    StructField('device_id', StringType()),\n",
    "                    StructField('event_date', StringType()),\n",
    "                    StructField('event_time', IntegerType()),\n",
    "                    StructField('mso_code', StringType()),\n",
    "                    StructField('prog_code', StringType()),\n",
    "                    StructField('station_num', StringType())\n",
    "                  ]),\n",
    "                'viewing_full':\n",
    "                  StructType([\n",
    "                    StructField('mso_code', StringType()),\n",
    "                    StructField('device_id', StringType()),\n",
    "                    StructField('event_date', IntegerType()),\n",
    "                    StructField('event_time', IntegerType()),\n",
    "                    StructField('station_num', StringType()),\n",
    "                    StructField('prog_code', StringType())\n",
    "                  ]),\n",
    "                'demographic':\n",
    "                  StructType([StructField('household_id',StringType()),\n",
    "                    StructField('household_size',IntegerType()),\n",
    "                    StructField('num_adults',IntegerType()),\n",
    "                    StructField('num_generations',IntegerType()),\n",
    "                    StructField('adult_range',StringType()),\n",
    "                    StructField('marital_status',StringType()),\n",
    "                    StructField('race_code',StringType()),\n",
    "                    StructField('presence_children',StringType()),\n",
    "                    StructField('num_children',IntegerType()),\n",
    "                    StructField('age_children',StringType()), #format like range - 'bitwise'\n",
    "                    StructField('age_range_children',StringType()),\n",
    "                    StructField('dwelling_type',StringType()),\n",
    "                    StructField('home_owner_status',StringType()),\n",
    "                    StructField('length_residence',IntegerType()),\n",
    "                    StructField('home_market_value',StringType()),\n",
    "                    StructField('num_vehicles',IntegerType()),\n",
    "                    StructField('vehicle_make',StringType()),\n",
    "                    StructField('vehicle_model',StringType()),\n",
    "                    StructField('vehicle_year',IntegerType()),\n",
    "                    StructField('net_worth',IntegerType()),\n",
    "                    StructField('income',StringType()),\n",
    "                    StructField('gender_individual',StringType()),\n",
    "                    StructField('age_individual',IntegerType()),\n",
    "                    StructField('education_highest',StringType()),\n",
    "                    StructField('occupation_highest',StringType()),\n",
    "                    StructField('education_1',StringType()),\n",
    "                    StructField('occupation_1',StringType()),\n",
    "                    StructField('age_2',IntegerType()),\n",
    "                    StructField('education_2',StringType()),\n",
    "                    StructField('occupation_2',StringType()),\n",
    "                    StructField('age_3',IntegerType()),\n",
    "                    StructField('education_3',StringType()),\n",
    "                    StructField('occupation_3',StringType()),\n",
    "                    StructField('age_4',IntegerType()),\n",
    "                    StructField('education_4',StringType()),\n",
    "                    StructField('occupation_4',StringType()),\n",
    "                    StructField('age_5',IntegerType()),\n",
    "                    StructField('education_5',StringType()),\n",
    "                    StructField('occupation_5',StringType()),\n",
    "                    StructField('polit_party_regist',StringType()),\n",
    "                    StructField('polit_party_input',StringType()),\n",
    "                    StructField('household_clusters',StringType()),\n",
    "                    StructField('insurance_groups',StringType()),\n",
    "                    StructField('financial_groups',StringType()),\n",
    "                    StructField('green_living',StringType())\n",
    "                  ])\n",
    "}"
   ]
  },
  {
   "cell_type": "markdown",
   "metadata": {
    "application/vnd.databricks.v1+cell": {
     "cellMetadata": {
      "byteLimit": 2048000,
      "rowLimit": 10000
     },
     "inputWidgets": {},
     "nuid": "d75618ed-374f-42cd-8a52-7502b98a0b23",
     "showTitle": false,
     "tableResultSettingsMap": {},
     "title": ""
    }
   },
   "source": [
    "# Read demogrphic data\n"
   ]
  },
  {
   "cell_type": "code",
   "execution_count": 0,
   "metadata": {
    "application/vnd.databricks.v1+cell": {
     "cellMetadata": {
      "byteLimit": 2048000,
      "rowLimit": 10000
     },
     "inputWidgets": {},
     "nuid": "4be54f16-04af-4c90-81c9-42a0abfd3156",
     "showTitle": false,
     "tableResultSettingsMap": {},
     "title": ""
    }
   },
   "outputs": [
    {
     "output_type": "stream",
     "name": "stdout",
     "output_type": "stream",
     "text": [
      "root\n |-- household_id: string (nullable = true)\n |-- household_size: integer (nullable = true)\n |-- num_adults: integer (nullable = true)\n |-- num_generations: integer (nullable = true)\n |-- adult_range: string (nullable = true)\n |-- marital_status: string (nullable = true)\n |-- race_code: string (nullable = true)\n |-- presence_children: string (nullable = true)\n |-- num_children: integer (nullable = true)\n |-- age_children: string (nullable = true)\n |-- age_range_children: string (nullable = true)\n |-- dwelling_type: string (nullable = true)\n |-- home_owner_status: string (nullable = true)\n |-- length_residence: integer (nullable = true)\n |-- home_market_value: string (nullable = true)\n |-- num_vehicles: integer (nullable = true)\n |-- vehicle_make: string (nullable = true)\n |-- vehicle_model: string (nullable = true)\n |-- vehicle_year: integer (nullable = true)\n |-- net_worth: integer (nullable = true)\n |-- income: string (nullable = true)\n |-- gender_individual: string (nullable = true)\n |-- age_individual: integer (nullable = true)\n |-- education_highest: string (nullable = true)\n |-- occupation_highest: string (nullable = true)\n |-- education_1: string (nullable = true)\n |-- occupation_1: string (nullable = true)\n |-- age_2: integer (nullable = true)\n |-- education_2: string (nullable = true)\n |-- occupation_2: string (nullable = true)\n |-- age_3: integer (nullable = true)\n |-- education_3: string (nullable = true)\n |-- occupation_3: string (nullable = true)\n |-- age_4: integer (nullable = true)\n |-- education_4: string (nullable = true)\n |-- occupation_4: string (nullable = true)\n |-- age_5: integer (nullable = true)\n |-- education_5: string (nullable = true)\n |-- occupation_5: string (nullable = true)\n |-- polit_party_regist: string (nullable = true)\n |-- polit_party_input: string (nullable = true)\n |-- household_clusters: string (nullable = true)\n |-- insurance_groups: string (nullable = true)\n |-- financial_groups: string (nullable = true)\n |-- green_living: string (nullable = true)\n\ndemo_df contains 357721 records!\n"
     ]
    },
    {
     "output_type": "display_data",
     "data": {
      "text/html": [
       "<style scoped>\n",
       "  .table-result-container {\n",
       "    max-height: 300px;\n",
       "    overflow: auto;\n",
       "  }\n",
       "  table, th, td {\n",
       "    border: 1px solid black;\n",
       "    border-collapse: collapse;\n",
       "  }\n",
       "  th, td {\n",
       "    padding: 5px;\n",
       "  }\n",
       "  th {\n",
       "    text-align: left;\n",
       "  }\n",
       "</style><div class='table-result-container'><table class='table-result'><thead style='background-color: white'><tr><th>household_id</th><th>household_size</th><th>num_adults</th><th>num_generations</th><th>adult_range</th><th>marital_status</th><th>race_code</th><th>presence_children</th><th>num_children</th><th>age_children</th><th>age_range_children</th><th>dwelling_type</th><th>home_owner_status</th><th>length_residence</th><th>home_market_value</th><th>num_vehicles</th><th>vehicle_make</th><th>vehicle_model</th><th>vehicle_year</th><th>net_worth</th><th>income</th><th>gender_individual</th><th>age_individual</th><th>education_highest</th><th>occupation_highest</th><th>education_1</th><th>occupation_1</th><th>age_2</th><th>education_2</th><th>occupation_2</th><th>age_3</th><th>education_3</th><th>occupation_3</th><th>age_4</th><th>education_4</th><th>occupation_4</th><th>age_5</th><th>education_5</th><th>occupation_5</th><th>polit_party_regist</th><th>polit_party_input</th><th>household_clusters</th><th>insurance_groups</th><th>financial_groups</th><th>green_living</th></tr></thead><tbody><tr><td>00000015</td><td>2</td><td>2</td><td>1</td><td>000000000000100000000</td><td>S</td><td>B</td><td>null</td><td>null</td><td>0000000000000000000</td><td>000000000000000</td><td>S</td><td>O</td><td>5</td><td>E</td><td>null</td><td>null</td><td>null</td><td>null</td><td>6</td><td>4</td><td>M</td><td>60</td><td>4</td><td>null</td><td>null</td><td>null</td><td>null</td><td>null</td><td>null</td><td>null</td><td>null</td><td>null</td><td>null</td><td>null</td><td>null</td><td>null</td><td>null</td><td>null</td><td>null</td><td>D</td><td>443</td><td>02C3</td><td>08C3</td><td>null</td></tr><tr><td>00000024</td><td>2</td><td>2</td><td>1</td><td>000000000100000000000</td><td>null</td><td>W</td><td>null</td><td>null</td><td>0000000000000000000</td><td>000000000000000</td><td>M</td><td>O</td><td>null</td><td>F</td><td>null</td><td>null</td><td>null</td><td>null</td><td>7</td><td>7</td><td>F</td><td>46</td><td>3</td><td>Z</td><td>null</td><td>null</td><td>null</td><td>null</td><td>null</td><td>null</td><td>null</td><td>null</td><td>null</td><td>null</td><td>null</td><td>null</td><td>null</td><td>null</td><td>null</td><td>R</td><td>223</td><td>09O3</td><td>03O3</td><td>null</td></tr><tr><td>00000026</td><td>null</td><td>null</td><td>null</td><td>000000000000000000000</td><td>null</td><td>null</td><td>null</td><td>null</td><td>0000000000000000000</td><td>000000000000000</td><td>S</td><td>null</td><td>null</td><td>F</td><td>null</td><td>null</td><td>null</td><td>null</td><td>null</td><td>null</td><td>null</td><td>null</td><td>null</td><td>null</td><td>null</td><td>null</td><td>null</td><td>null</td><td>null</td><td>null</td><td>null</td><td>null</td><td>null</td><td>null</td><td>null</td><td>null</td><td>null</td><td>null</td><td>null</td><td>null</td><td>46G</td><td>04CG</td><td>08CG</td><td>null</td></tr><tr><td>00000028</td><td>3</td><td>2</td><td>2</td><td>000000110000000000000</td><td>S</td><td>W</td><td>Y</td><td>1</td><td>0000010000000000000</td><td>000001000000000</td><td>S</td><td>O</td><td>3</td><td>H</td><td>null</td><td>null</td><td>null</td><td>null</td><td>5</td><td>7</td><td>M</td><td>38</td><td>2</td><td>4</td><td>null</td><td>null</td><td>34</td><td>1</td><td>7</td><td>null</td><td>null</td><td>null</td><td>null</td><td>null</td><td>null</td><td>null</td><td>null</td><td>null</td><td>null</td><td>V</td><td>473</td><td>11R3</td><td>09C3</td><td>1</td></tr><tr><td>00000035</td><td>1</td><td>1</td><td>1</td><td>000000000100000000000</td><td>null</td><td>W</td><td>null</td><td>null</td><td>0000000000000000000</td><td>000000000000000</td><td>null</td><td>null</td><td>null</td><td>G</td><td>null</td><td>null</td><td>null</td><td>null</td><td>4</td><td>null</td><td>M</td><td>50</td><td>2</td><td>1</td><td>null</td><td>null</td><td>null</td><td>null</td><td>null</td><td>null</td><td>null</td><td>null</td><td>null</td><td>null</td><td>null</td><td>null</td><td>null</td><td>null</td><td>null</td><td>D</td><td>523</td><td>13C3</td><td>08C3</td><td>null</td></tr><tr><td>00000036</td><td>null</td><td>null</td><td>null</td><td>000000000000000000000</td><td>null</td><td>null</td><td>null</td><td>null</td><td>0000000000000000000</td><td>000000000000000</td><td>null</td><td>null</td><td>null</td><td>G</td><td>null</td><td>null</td><td>null</td><td>null</td><td>null</td><td>null</td><td>null</td><td>null</td><td>null</td><td>null</td><td>null</td><td>null</td><td>null</td><td>null</td><td>null</td><td>null</td><td>null</td><td>null</td><td>null</td><td>null</td><td>null</td><td>null</td><td>null</td><td>null</td><td>null</td><td>null</td><td>51G</td><td>10RG</td><td>10RG</td><td>null</td></tr></tbody></table></div>"
      ]
     },
     "metadata": {
      "application/vnd.databricks.v1+output": {
       "addedWidgets": {},
       "aggData": [],
       "aggError": "",
       "aggOverflow": false,
       "aggSchema": [],
       "aggSeriesLimitReached": false,
       "aggType": "",
       "arguments": {},
       "columnCustomDisplayInfos": {},
       "data": [
        [
         "00000015",
         2,
         2,
         1,
         "000000000000100000000",
         "S",
         "B",
         null,
         null,
         "0000000000000000000",
         "000000000000000",
         "S",
         "O",
         5,
         "E",
         null,
         null,
         null,
         null,
         6,
         "4",
         "M",
         60,
         "4",
         null,
         null,
         null,
         null,
         null,
         null,
         null,
         null,
         null,
         null,
         null,
         null,
         null,
         null,
         null,
         null,
         "D",
         "443",
         "02C3",
         "08C3",
         null
        ],
        [
         "00000024",
         2,
         2,
         1,
         "000000000100000000000",
         null,
         "W",
         null,
         null,
         "0000000000000000000",
         "000000000000000",
         "M",
         "O",
         null,
         "F",
         null,
         null,
         null,
         null,
         7,
         "7",
         "F",
         46,
         "3",
         "Z",
         null,
         null,
         null,
         null,
         null,
         null,
         null,
         null,
         null,
         null,
         null,
         null,
         null,
         null,
         null,
         "R",
         "223",
         "09O3",
         "03O3",
         null
        ],
        [
         "00000026",
         null,
         null,
         null,
         "000000000000000000000",
         null,
         null,
         null,
         null,
         "0000000000000000000",
         "000000000000000",
         "S",
         null,
         null,
         "F",
         null,
         null,
         null,
         null,
         null,
         null,
         null,
         null,
         null,
         null,
         null,
         null,
         null,
         null,
         null,
         null,
         null,
         null,
         null,
         null,
         null,
         null,
         null,
         null,
         null,
         null,
         "46G",
         "04CG",
         "08CG",
         null
        ],
        [
         "00000028",
         3,
         2,
         2,
         "000000110000000000000",
         "S",
         "W",
         "Y",
         1,
         "0000010000000000000",
         "000001000000000",
         "S",
         "O",
         3,
         "H",
         null,
         null,
         null,
         null,
         5,
         "7",
         "M",
         38,
         "2",
         "4",
         null,
         null,
         34,
         "1",
         "7",
         null,
         null,
         null,
         null,
         null,
         null,
         null,
         null,
         null,
         null,
         "V",
         "473",
         "11R3",
         "09C3",
         "1"
        ],
        [
         "00000035",
         1,
         1,
         1,
         "000000000100000000000",
         null,
         "W",
         null,
         null,
         "0000000000000000000",
         "000000000000000",
         null,
         null,
         null,
         "G",
         null,
         null,
         null,
         null,
         4,
         null,
         "M",
         50,
         "2",
         "1",
         null,
         null,
         null,
         null,
         null,
         null,
         null,
         null,
         null,
         null,
         null,
         null,
         null,
         null,
         null,
         "D",
         "523",
         "13C3",
         "08C3",
         null
        ],
        [
         "00000036",
         null,
         null,
         null,
         "000000000000000000000",
         null,
         null,
         null,
         null,
         "0000000000000000000",
         "000000000000000",
         null,
         null,
         null,
         "G",
         null,
         null,
         null,
         null,
         null,
         null,
         null,
         null,
         null,
         null,
         null,
         null,
         null,
         null,
         null,
         null,
         null,
         null,
         null,
         null,
         null,
         null,
         null,
         null,
         null,
         null,
         "51G",
         "10RG",
         "10RG",
         null
        ]
       ],
       "datasetInfos": [],
       "dbfsResultPath": null,
       "isJsonSchema": true,
       "metadata": {},
       "overflow": false,
       "plotOptions": {
        "customPlotOptions": {},
        "displayType": "table",
        "pivotAggregation": null,
        "pivotColumns": null,
        "xColumns": null,
        "yColumns": null
       },
       "removedWidgets": [],
       "schema": [
        {
         "metadata": "{}",
         "name": "household_id",
         "type": "\"string\""
        },
        {
         "metadata": "{}",
         "name": "household_size",
         "type": "\"integer\""
        },
        {
         "metadata": "{}",
         "name": "num_adults",
         "type": "\"integer\""
        },
        {
         "metadata": "{}",
         "name": "num_generations",
         "type": "\"integer\""
        },
        {
         "metadata": "{}",
         "name": "adult_range",
         "type": "\"string\""
        },
        {
         "metadata": "{}",
         "name": "marital_status",
         "type": "\"string\""
        },
        {
         "metadata": "{}",
         "name": "race_code",
         "type": "\"string\""
        },
        {
         "metadata": "{}",
         "name": "presence_children",
         "type": "\"string\""
        },
        {
         "metadata": "{}",
         "name": "num_children",
         "type": "\"integer\""
        },
        {
         "metadata": "{}",
         "name": "age_children",
         "type": "\"string\""
        },
        {
         "metadata": "{}",
         "name": "age_range_children",
         "type": "\"string\""
        },
        {
         "metadata": "{}",
         "name": "dwelling_type",
         "type": "\"string\""
        },
        {
         "metadata": "{}",
         "name": "home_owner_status",
         "type": "\"string\""
        },
        {
         "metadata": "{}",
         "name": "length_residence",
         "type": "\"integer\""
        },
        {
         "metadata": "{}",
         "name": "home_market_value",
         "type": "\"string\""
        },
        {
         "metadata": "{}",
         "name": "num_vehicles",
         "type": "\"integer\""
        },
        {
         "metadata": "{}",
         "name": "vehicle_make",
         "type": "\"string\""
        },
        {
         "metadata": "{}",
         "name": "vehicle_model",
         "type": "\"string\""
        },
        {
         "metadata": "{}",
         "name": "vehicle_year",
         "type": "\"integer\""
        },
        {
         "metadata": "{}",
         "name": "net_worth",
         "type": "\"integer\""
        },
        {
         "metadata": "{}",
         "name": "income",
         "type": "\"string\""
        },
        {
         "metadata": "{}",
         "name": "gender_individual",
         "type": "\"string\""
        },
        {
         "metadata": "{}",
         "name": "age_individual",
         "type": "\"integer\""
        },
        {
         "metadata": "{}",
         "name": "education_highest",
         "type": "\"string\""
        },
        {
         "metadata": "{}",
         "name": "occupation_highest",
         "type": "\"string\""
        },
        {
         "metadata": "{}",
         "name": "education_1",
         "type": "\"string\""
        },
        {
         "metadata": "{}",
         "name": "occupation_1",
         "type": "\"string\""
        },
        {
         "metadata": "{}",
         "name": "age_2",
         "type": "\"integer\""
        },
        {
         "metadata": "{}",
         "name": "education_2",
         "type": "\"string\""
        },
        {
         "metadata": "{}",
         "name": "occupation_2",
         "type": "\"string\""
        },
        {
         "metadata": "{}",
         "name": "age_3",
         "type": "\"integer\""
        },
        {
         "metadata": "{}",
         "name": "education_3",
         "type": "\"string\""
        },
        {
         "metadata": "{}",
         "name": "occupation_3",
         "type": "\"string\""
        },
        {
         "metadata": "{}",
         "name": "age_4",
         "type": "\"integer\""
        },
        {
         "metadata": "{}",
         "name": "education_4",
         "type": "\"string\""
        },
        {
         "metadata": "{}",
         "name": "occupation_4",
         "type": "\"string\""
        },
        {
         "metadata": "{}",
         "name": "age_5",
         "type": "\"integer\""
        },
        {
         "metadata": "{}",
         "name": "education_5",
         "type": "\"string\""
        },
        {
         "metadata": "{}",
         "name": "occupation_5",
         "type": "\"string\""
        },
        {
         "metadata": "{}",
         "name": "polit_party_regist",
         "type": "\"string\""
        },
        {
         "metadata": "{}",
         "name": "polit_party_input",
         "type": "\"string\""
        },
        {
         "metadata": "{}",
         "name": "household_clusters",
         "type": "\"string\""
        },
        {
         "metadata": "{}",
         "name": "insurance_groups",
         "type": "\"string\""
        },
        {
         "metadata": "{}",
         "name": "financial_groups",
         "type": "\"string\""
        },
        {
         "metadata": "{}",
         "name": "green_living",
         "type": "\"string\""
        }
       ],
       "type": "table"
      }
     },
     "output_type": "display_data"
    },
    {
     "output_type": "stream",
     "name": "stdout",
     "output_type": "stream",
     "text": [
      "CPU times: user 84.8 ms, sys: 12.8 ms, total: 97.6 ms\nWall time: 24.2 s\n"
     ]
    }
   ],
   "source": [
    "%%time\n",
    "# demographic data filename is 'demographic'\n",
    "demo_df = load_csv_file('demographic', schemas_dict['demographic'])\n",
    "demo_df.count()\n",
    "demo_df.printSchema()\n",
    "print(f'demo_df contains {demo_df.count()} records!')\n",
    "display(demo_df.limit(6))"
   ]
  },
  {
   "cell_type": "markdown",
   "metadata": {
    "application/vnd.databricks.v1+cell": {
     "cellMetadata": {
      "byteLimit": 2048000,
      "rowLimit": 10000
     },
     "inputWidgets": {},
     "nuid": "fc877be4-441e-4ffb-946c-af0d57012e93",
     "showTitle": false,
     "tableResultSettingsMap": {},
     "title": ""
    }
   },
   "source": [
    "# Read Daily program data"
   ]
  },
  {
   "cell_type": "code",
   "execution_count": 0,
   "metadata": {
    "application/vnd.databricks.v1+cell": {
     "cellMetadata": {
      "byteLimit": 2048000,
      "rowLimit": 10000
     },
     "inputWidgets": {},
     "nuid": "337f900c-e411-418c-9126-12171701156a",
     "showTitle": false,
     "tableResultSettingsMap": {},
     "title": ""
    }
   },
   "outputs": [
    {
     "output_type": "stream",
     "name": "stdout",
     "output_type": "stream",
     "text": [
      "root\n |-- prog_code: string (nullable = true)\n |-- title: string (nullable = true)\n |-- genre: string (nullable = true)\n |-- air_date: string (nullable = true)\n |-- air_time: string (nullable = true)\n |-- Duration: float (nullable = true)\n\ndaily_prog_df contains 13194849 records!\n"
     ]
    },
    {
     "output_type": "display_data",
     "data": {
      "text/html": [
       "<style scoped>\n",
       "  .table-result-container {\n",
       "    max-height: 300px;\n",
       "    overflow: auto;\n",
       "  }\n",
       "  table, th, td {\n",
       "    border: 1px solid black;\n",
       "    border-collapse: collapse;\n",
       "  }\n",
       "  th, td {\n",
       "    padding: 5px;\n",
       "  }\n",
       "  th {\n",
       "    text-align: left;\n",
       "  }\n",
       "</style><div class='table-result-container'><table class='table-result'><thead style='background-color: white'><tr><th>prog_code</th><th>title</th><th>genre</th><th>air_date</th><th>air_time</th><th>Duration</th></tr></thead><tbody><tr><td>EP000000250035</td><td>21 Jump Street</td><td>Crime drama</td><td>20151219</td><td>050000</td><td>60.0</td></tr><tr><td>EP000000250035</td><td>21 Jump Street</td><td>Crime drama</td><td>20151219</td><td>110000</td><td>60.0</td></tr><tr><td>EP000000250063</td><td>21 Jump Street</td><td>Crime drama</td><td>20151219</td><td>180000</td><td>60.0</td></tr><tr><td>EP000000510007</td><td>A Different World</td><td>Sitcom</td><td>20151219</td><td>100000</td><td>30.0</td></tr><tr><td>EP000000510008</td><td>A Different World</td><td>Sitcom</td><td>20151219</td><td>103000</td><td>30.0</td></tr><tr><td>EP000000510159</td><td>A Different World</td><td>Sitcom</td><td>20151219</td><td>080300</td><td>29.0</td></tr></tbody></table></div>"
      ]
     },
     "metadata": {
      "application/vnd.databricks.v1+output": {
       "addedWidgets": {},
       "aggData": [],
       "aggError": "",
       "aggOverflow": false,
       "aggSchema": [],
       "aggSeriesLimitReached": false,
       "aggType": "",
       "arguments": {},
       "columnCustomDisplayInfos": {},
       "data": [
        [
         "EP000000250035",
         "21 Jump Street",
         "Crime drama",
         "20151219",
         "050000",
         60.0
        ],
        [
         "EP000000250035",
         "21 Jump Street",
         "Crime drama",
         "20151219",
         "110000",
         60.0
        ],
        [
         "EP000000250063",
         "21 Jump Street",
         "Crime drama",
         "20151219",
         "180000",
         60.0
        ],
        [
         "EP000000510007",
         "A Different World",
         "Sitcom",
         "20151219",
         "100000",
         30.0
        ],
        [
         "EP000000510008",
         "A Different World",
         "Sitcom",
         "20151219",
         "103000",
         30.0
        ],
        [
         "EP000000510159",
         "A Different World",
         "Sitcom",
         "20151219",
         "080300",
         29.0
        ]
       ],
       "datasetInfos": [],
       "dbfsResultPath": null,
       "isJsonSchema": true,
       "metadata": {},
       "overflow": false,
       "plotOptions": {
        "customPlotOptions": {},
        "displayType": "table",
        "pivotAggregation": null,
        "pivotColumns": null,
        "xColumns": null,
        "yColumns": null
       },
       "removedWidgets": [],
       "schema": [
        {
         "metadata": "{}",
         "name": "prog_code",
         "type": "\"string\""
        },
        {
         "metadata": "{}",
         "name": "title",
         "type": "\"string\""
        },
        {
         "metadata": "{}",
         "name": "genre",
         "type": "\"string\""
        },
        {
         "metadata": "{}",
         "name": "air_date",
         "type": "\"string\""
        },
        {
         "metadata": "{}",
         "name": "air_time",
         "type": "\"string\""
        },
        {
         "metadata": "{}",
         "name": "Duration",
         "type": "\"float\""
        }
       ],
       "type": "table"
      }
     },
     "output_type": "display_data"
    },
    {
     "output_type": "stream",
     "name": "stdout",
     "output_type": "stream",
     "text": [
      "CPU times: user 21 ms, sys: 4.67 ms, total: 25.6 ms\nWall time: 16.1 s\n"
     ]
    }
   ],
   "source": [
    "%%time\n",
    "# daily_program data filename is 'Daily program data'\n",
    "daily_prog_df = load_csv_file('Daily program data', schemas_dict['Daily program data'])\n",
    "\n",
    "daily_prog_df.printSchema()\n",
    "print(f'daily_prog_df contains {daily_prog_df.count()} records!')\n",
    "display(daily_prog_df.limit(6))"
   ]
  },
  {
   "cell_type": "markdown",
   "metadata": {
    "application/vnd.databricks.v1+cell": {
     "cellMetadata": {
      "byteLimit": 2048000,
      "rowLimit": 10000
     },
     "inputWidgets": {},
     "nuid": "27e339d4-c508-4a7c-8acb-2a43baa0da8e",
     "showTitle": false,
     "tableResultSettingsMap": {},
     "title": ""
    }
   },
   "source": [
    "# Read viewing data"
   ]
  },
  {
   "cell_type": "code",
   "execution_count": 0,
   "metadata": {
    "application/vnd.databricks.v1+cell": {
     "cellMetadata": {
      "byteLimit": 2048000,
      "rowLimit": 10000
     },
     "inputWidgets": {},
     "nuid": "a127c6a4-75cf-40ba-a0f5-a2ca5c0b5bfe",
     "showTitle": false,
     "tableResultSettingsMap": {},
     "title": ""
    }
   },
   "outputs": [
    {
     "output_type": "display_data",
     "data": {
      "text/html": [
       "<style scoped>\n",
       "  .table-result-container {\n",
       "    max-height: 300px;\n",
       "    overflow: auto;\n",
       "  }\n",
       "  table, th, td {\n",
       "    border: 1px solid black;\n",
       "    border-collapse: collapse;\n",
       "  }\n",
       "  th, td {\n",
       "    padding: 5px;\n",
       "  }\n",
       "  th {\n",
       "    text-align: left;\n",
       "  }\n",
       "</style><div class='table-result-container'><table class='table-result'><thead style='background-color: white'><tr><th>mso_code</th><th>device_id</th><th>event_date</th><th>event_time</th><th>station_num</th><th>prog_code</th></tr></thead><tbody><tr><td>01540</td><td>0000000050f3</td><td>20150222</td><td>193802</td><td>61812</td><td>EP009279780033</td></tr><tr><td>01540</td><td>0000000050f3</td><td>20150222</td><td>195314</td><td>31709</td><td>EP021056430002</td></tr><tr><td>01540</td><td>0000000050f3</td><td>20150222</td><td>200151</td><td>61812</td><td>EP009279780033</td></tr><tr><td>01540</td><td>000000005518</td><td>20150222</td><td>111139</td><td>46784</td><td>EP004891370013</td></tr><tr><td>01540</td><td>000000005518</td><td>20150222</td><td>190000</td><td>14771</td><td>EP012124070127</td></tr><tr><td>01540</td><td>000000005518</td><td>20150222</td><td>200000</td><td>14771</td><td>EP010237320166</td></tr></tbody></table></div>"
      ]
     },
     "metadata": {
      "application/vnd.databricks.v1+output": {
       "addedWidgets": {},
       "aggData": [],
       "aggError": "",
       "aggOverflow": false,
       "aggSchema": [],
       "aggSeriesLimitReached": false,
       "aggType": "",
       "arguments": {},
       "columnCustomDisplayInfos": {},
       "data": [
        [
         "01540",
         "0000000050f3",
         20150222,
         193802,
         "61812",
         "EP009279780033"
        ],
        [
         "01540",
         "0000000050f3",
         20150222,
         195314,
         "31709",
         "EP021056430002"
        ],
        [
         "01540",
         "0000000050f3",
         20150222,
         200151,
         "61812",
         "EP009279780033"
        ],
        [
         "01540",
         "000000005518",
         20150222,
         111139,
         "46784",
         "EP004891370013"
        ],
        [
         "01540",
         "000000005518",
         20150222,
         190000,
         "14771",
         "EP012124070127"
        ],
        [
         "01540",
         "000000005518",
         20150222,
         200000,
         "14771",
         "EP010237320166"
        ]
       ],
       "datasetInfos": [],
       "dbfsResultPath": null,
       "isJsonSchema": true,
       "metadata": {},
       "overflow": false,
       "plotOptions": {
        "customPlotOptions": {},
        "displayType": "table",
        "pivotAggregation": null,
        "pivotColumns": null,
        "xColumns": null,
        "yColumns": null
       },
       "removedWidgets": [],
       "schema": [
        {
         "metadata": "{}",
         "name": "mso_code",
         "type": "\"string\""
        },
        {
         "metadata": "{}",
         "name": "device_id",
         "type": "\"string\""
        },
        {
         "metadata": "{}",
         "name": "event_date",
         "type": "\"integer\""
        },
        {
         "metadata": "{}",
         "name": "event_time",
         "type": "\"integer\""
        },
        {
         "metadata": "{}",
         "name": "station_num",
         "type": "\"string\""
        },
        {
         "metadata": "{}",
         "name": "prog_code",
         "type": "\"string\""
        }
       ],
       "type": "table"
      }
     },
     "output_type": "display_data"
    },
    {
     "output_type": "stream",
     "name": "stdout",
     "output_type": "stream",
     "text": [
      "viewing10m_df contains 9935852 rows!\n"
     ]
    }
   ],
   "source": [
    "dataPath = \"dbfs:/FileStore/ddm/10m_viewing\"\n",
    "\n",
    "viewing10m_df = spark.read.format(\"csv\")\\\n",
    "    .option(\"header\",\"true\")\\\n",
    "    .option(\"delimiter\",\",\")\\\n",
    "    .schema(schemas_dict['viewing_full'])\\\n",
    "    .load(dataPath)\n",
    "\n",
    "display(viewing10m_df.limit(6))\n",
    "print(f'viewing10m_df contains {viewing10m_df.count()} rows!')"
   ]
  },
  {
   "cell_type": "markdown",
   "metadata": {
    "application/vnd.databricks.v1+cell": {
     "cellMetadata": {
      "byteLimit": 2048000,
      "rowLimit": 10000
     },
     "inputWidgets": {},
     "nuid": "1c12a188-ba94-431f-ace1-668c36be86ff",
     "showTitle": false,
     "tableResultSettingsMap": {},
     "title": ""
    }
   },
   "source": [
    "# Read reference data"
   ]
  },
  {
   "cell_type": "markdown",
   "metadata": {
    "application/vnd.databricks.v1+cell": {
     "cellMetadata": {
      "byteLimit": 2048000,
      "rowLimit": 10000
     },
     "inputWidgets": {},
     "nuid": "08701cf0-0ea4-4af6-b678-b6b6f984c8d5",
     "showTitle": false,
     "tableResultSettingsMap": {},
     "title": ""
    }
   },
   "source": [
    "Note that we removed the 'System Type' column."
   ]
  },
  {
   "cell_type": "code",
   "execution_count": 0,
   "metadata": {
    "application/vnd.databricks.v1+cell": {
     "cellMetadata": {
      "byteLimit": 2048000,
      "rowLimit": 10000
     },
     "inputWidgets": {},
     "nuid": "4852dbfb-72ea-4ef2-8574-a8e5477a2adb",
     "showTitle": false,
     "tableResultSettingsMap": {},
     "title": ""
    }
   },
   "outputs": [
    {
     "output_type": "display_data",
     "data": {
      "text/html": [
       "<style scoped>\n",
       "  .table-result-container {\n",
       "    max-height: 300px;\n",
       "    overflow: auto;\n",
       "  }\n",
       "  table, th, td {\n",
       "    border: 1px solid black;\n",
       "    border-collapse: collapse;\n",
       "  }\n",
       "  th, td {\n",
       "    padding: 5px;\n",
       "  }\n",
       "  th {\n",
       "    text-align: left;\n",
       "  }\n",
       "</style><div class='table-result-container'><table class='table-result'><thead style='background-color: white'><tr><th>device_id</th><th>dma</th><th>dma_code</th><th>household_id</th><th>zipcode</th></tr></thead><tbody><tr><td>0000000050f3</td><td>Toledo</td><td>547</td><td>1471346</td><td>43609</td></tr><tr><td>000000006785</td><td>Amarillo</td><td>634</td><td>1924512</td><td>79119</td></tr><tr><td>000000007320</td><td>Lake Charles</td><td>643</td><td>3154808</td><td>70634</td></tr><tr><td>000000007df9</td><td>Lake Charles</td><td>643</td><td>1924566</td><td>70601</td></tr><tr><td>000000009595</td><td>Lexington</td><td>541</td><td>1600886</td><td>40601</td></tr><tr><td>000000009c6a</td><td>Houston</td><td>618</td><td>1924713</td><td>77339</td></tr></tbody></table></div>"
      ]
     },
     "metadata": {
      "application/vnd.databricks.v1+output": {
       "addedWidgets": {},
       "aggData": [],
       "aggError": "",
       "aggOverflow": false,
       "aggSchema": [],
       "aggSeriesLimitReached": false,
       "aggType": "",
       "arguments": {},
       "columnCustomDisplayInfos": {},
       "data": [
        [
         "0000000050f3",
         "Toledo",
         "547",
         "1471346",
         43609
        ],
        [
         "000000006785",
         "Amarillo",
         "634",
         "1924512",
         79119
        ],
        [
         "000000007320",
         "Lake Charles",
         "643",
         "3154808",
         70634
        ],
        [
         "000000007df9",
         "Lake Charles",
         "643",
         "1924566",
         70601
        ],
        [
         "000000009595",
         "Lexington",
         "541",
         "1600886",
         40601
        ],
        [
         "000000009c6a",
         "Houston",
         "618",
         "1924713",
         77339
        ]
       ],
       "datasetInfos": [],
       "dbfsResultPath": null,
       "isJsonSchema": true,
       "metadata": {},
       "overflow": false,
       "plotOptions": {
        "customPlotOptions": {},
        "displayType": "table",
        "pivotAggregation": null,
        "pivotColumns": null,
        "xColumns": null,
        "yColumns": null
       },
       "removedWidgets": [],
       "schema": [
        {
         "metadata": "{}",
         "name": "device_id",
         "type": "\"string\""
        },
        {
         "metadata": "{}",
         "name": "dma",
         "type": "\"string\""
        },
        {
         "metadata": "{}",
         "name": "dma_code",
         "type": "\"string\""
        },
        {
         "metadata": "{}",
         "name": "household_id",
         "type": "\"string\""
        },
        {
         "metadata": "{}",
         "name": "zipcode",
         "type": "\"long\""
        }
       ],
       "type": "table"
      }
     },
     "output_type": "display_data"
    },
    {
     "output_type": "stream",
     "name": "stdout",
     "output_type": "stream",
     "text": [
      "ref_data contains 704172 rows!\n"
     ]
    }
   ],
   "source": [
    "# Read the new parquet\n",
    "ref_data_schema = StructType([\n",
    "    StructField('device_id', StringType()),\n",
    "    StructField('dma', StringType()),\n",
    "    StructField('dma_code', StringType()),\n",
    "    StructField('household_id', IntegerType()),\n",
    "    StructField('zipcode', IntegerType())\n",
    "])\n",
    "\n",
    "# Reading as a Parquet\n",
    "dataPath = f\"dbfs:/FileStore/ddm/ref_data\"\n",
    "ref_data = spark.read.format('parquet') \\\n",
    "                    .option(\"inferSchema\",\"true\")\\\n",
    "                    .load(dataPath)\n",
    "                    \n",
    "display(ref_data.limit(6))\n",
    "print(f'ref_data contains {ref_data.count()} rows!')"
   ]
  },
  {
   "cell_type": "code",
   "execution_count": 0,
   "metadata": {
    "application/vnd.databricks.v1+cell": {
     "cellMetadata": {
      "byteLimit": 2048000,
      "rowLimit": 10000
     },
     "inputWidgets": {},
     "nuid": "61bd0657-9e4d-4cf4-9088-22bdd74d5c69",
     "showTitle": false,
     "tableResultSettingsMap": {},
     "title": ""
    }
   },
   "outputs": [
    {
     "output_type": "display_data",
     "data": {
      "text/html": [
       "<style scoped>\n",
       "  .table-result-container {\n",
       "    max-height: 300px;\n",
       "    overflow: auto;\n",
       "  }\n",
       "  table, th, td {\n",
       "    border: 1px solid black;\n",
       "    border-collapse: collapse;\n",
       "  }\n",
       "  th, td {\n",
       "    padding: 5px;\n",
       "  }\n",
       "  th {\n",
       "    text-align: left;\n",
       "  }\n",
       "</style><div class='table-result-container'><table class='table-result'><thead style='background-color: white'><tr><th>prog_code</th><th>title</th><th>genre</th><th>air_date</th><th>Duration</th><th>cnt_title</th><th>genre_array</th><th>is_suspicious_genre</th></tr></thead><tbody><tr><td>EP000000250035</td><td>21 Jump Street</td><td>Crime drama</td><td>20151219</td><td>60.0</td><td>0</td><td>List(Crime drama)</td><td>false</td></tr><tr><td>EP000000250035</td><td>21 Jump Street</td><td>Crime drama</td><td>20151219</td><td>60.0</td><td>0</td><td>List(Crime drama)</td><td>false</td></tr><tr><td>EP000000250063</td><td>21 Jump Street</td><td>Crime drama</td><td>20151219</td><td>60.0</td><td>0</td><td>List(Crime drama)</td><td>false</td></tr><tr><td>EP000000510007</td><td>A Different World</td><td>Sitcom</td><td>20151219</td><td>30.0</td><td>0</td><td>List(Sitcom)</td><td>false</td></tr><tr><td>EP000000510008</td><td>A Different World</td><td>Sitcom</td><td>20151219</td><td>30.0</td><td>0</td><td>List(Sitcom)</td><td>false</td></tr><tr><td>EP000000510159</td><td>A Different World</td><td>Sitcom</td><td>20151219</td><td>29.0</td><td>0</td><td>List(Sitcom)</td><td>false</td></tr></tbody></table></div>"
      ]
     },
     "metadata": {
      "application/vnd.databricks.v1+output": {
       "addedWidgets": {},
       "aggData": [],
       "aggError": "",
       "aggOverflow": false,
       "aggSchema": [],
       "aggSeriesLimitReached": false,
       "aggType": "",
       "arguments": {},
       "columnCustomDisplayInfos": {},
       "data": [
        [
         "EP000000250035",
         "21 Jump Street",
         "Crime drama",
         "20151219",
         60.0,
         0,
         [
          "Crime drama"
         ],
         false
        ],
        [
         "EP000000250035",
         "21 Jump Street",
         "Crime drama",
         "20151219",
         60.0,
         0,
         [
          "Crime drama"
         ],
         false
        ],
        [
         "EP000000250063",
         "21 Jump Street",
         "Crime drama",
         "20151219",
         60.0,
         0,
         [
          "Crime drama"
         ],
         false
        ],
        [
         "EP000000510007",
         "A Different World",
         "Sitcom",
         "20151219",
         30.0,
         0,
         [
          "Sitcom"
         ],
         false
        ],
        [
         "EP000000510008",
         "A Different World",
         "Sitcom",
         "20151219",
         30.0,
         0,
         [
          "Sitcom"
         ],
         false
        ],
        [
         "EP000000510159",
         "A Different World",
         "Sitcom",
         "20151219",
         29.0,
         0,
         [
          "Sitcom"
         ],
         false
        ]
       ],
       "datasetInfos": [],
       "dbfsResultPath": null,
       "isJsonSchema": true,
       "metadata": {},
       "overflow": false,
       "plotOptions": {
        "customPlotOptions": {},
        "displayType": "table",
        "pivotAggregation": null,
        "pivotColumns": null,
        "xColumns": null,
        "yColumns": null
       },
       "removedWidgets": [],
       "schema": [
        {
         "metadata": "{}",
         "name": "prog_code",
         "type": "\"string\""
        },
        {
         "metadata": "{}",
         "name": "title",
         "type": "\"string\""
        },
        {
         "metadata": "{}",
         "name": "genre",
         "type": "\"string\""
        },
        {
         "metadata": "{}",
         "name": "air_date",
         "type": "\"string\""
        },
        {
         "metadata": "{}",
         "name": "Duration",
         "type": "\"float\""
        },
        {
         "metadata": "{}",
         "name": "cnt_title",
         "type": "\"integer\""
        },
        {
         "metadata": "{}",
         "name": "genre_array",
         "type": "{\"type\":\"array\",\"elementType\":\"string\",\"containsNull\":false}"
        },
        {
         "metadata": "{}",
         "name": "is_suspicious_genre",
         "type": "\"boolean\""
        }
       ],
       "type": "table"
      }
     },
     "output_type": "display_data"
    },
    {
     "output_type": "stream",
     "name": "stdout",
     "output_type": "stream",
     "text": [
      " contains 13194849 rows!\n"
     ]
    }
   ],
   "source": [
    "daily_prog_df = daily_prog_df.drop('air_time')\n",
    "avg_duration = daily_prog_df.select(avg(col(\"Duration\"))).first()[0]\n",
    "suspicious =[\"Collectibles\", \"Art\", \"Snowmobile\", \"Public affairs\", \"Animated\", \"Music\"]\n",
    "title_word = [\"better\", \"girls\", \"the\", \"call\"]\n",
    "suspicious_genre = False\n",
    "daily_prog_temp = daily_prog_df.withColumn(\n",
    "    'cnt_title',\n",
    "    (\n",
    "    when(lower(col('title')).contains('better'),1).otherwise(0) +\n",
    "    when(lower(col('title')).contains('girls'),1).otherwise(0) +\n",
    "    when(lower(col('title')).contains('the'),1).otherwise(0) +\n",
    "    when(lower(col('title')).contains('call'), 1).otherwise(0)\n",
    "    )\n",
    ")\n",
    "daily_prog_temp = daily_prog_temp.withColumn(\n",
    "    \"genre_array\",\n",
    "    split(col(\"genre\"), \",\")\n",
    ")\n",
    "\n",
    "daily_prog_temp = daily_prog_temp.withColumn(\n",
    "    \"genre_array\",\n",
    "    expr(\"transform(genre_array, x -> trim(x))\")\n",
    ")\n",
    "\n",
    "daily_prog_temp = daily_prog_temp.withColumn(\n",
    "    \"is_suspicious_genre\",\n",
    "    expr(f\"\"\"\n",
    "        size(\n",
    "            filter(\n",
    "                genre_array,\n",
    "                g -> array_contains(array({','.join([f'\"{g}\"' for g in suspicious])}), g)\n",
    "            )\n",
    "        ) > 0\n",
    "    \"\"\")\n",
    ")\n",
    "display(daily_prog_temp.limit(6))\n",
    "print(f' contains {daily_prog_temp.count()} rows!') "
   ]
  },
  {
   "cell_type": "code",
   "execution_count": 0,
   "metadata": {
    "application/vnd.databricks.v1+cell": {
     "cellMetadata": {
      "byteLimit": 2048000,
      "rowLimit": 10000
     },
     "inputWidgets": {},
     "nuid": "09d9f520-f29b-4499-9db5-87cc55be7739",
     "showTitle": false,
     "tableResultSettingsMap": {},
     "title": ""
    }
   },
   "outputs": [],
   "source": [
    "ref_data = ref_data.withColumn(\"household_id\", lpad(col(\"household_id\"), 8, \"0\"))"
   ]
  },
  {
   "cell_type": "code",
   "execution_count": 0,
   "metadata": {
    "application/vnd.databricks.v1+cell": {
     "cellMetadata": {
      "byteLimit": 2048000,
      "rowLimit": 10000
     },
     "inputWidgets": {},
     "nuid": "3b1f5eb5-a6ce-4c12-8174-baf2fc583583",
     "showTitle": false,
     "tableResultSettingsMap": {},
     "title": ""
    }
   },
   "outputs": [
    {
     "output_type": "display_data",
     "data": {
      "text/html": [
       "<style scoped>\n",
       "  .table-result-container {\n",
       "    max-height: 300px;\n",
       "    overflow: auto;\n",
       "  }\n",
       "  table, th, td {\n",
       "    border: 1px solid black;\n",
       "    border-collapse: collapse;\n",
       "  }\n",
       "  th, td {\n",
       "    padding: 5px;\n",
       "  }\n",
       "  th {\n",
       "    text-align: left;\n",
       "  }\n",
       "</style><div class='table-result-container'><table class='table-result'><thead style='background-color: white'><tr><th>genre</th><th>total_count</th></tr></thead><tbody><tr><td>News</td><td>615305</td></tr><tr><td>Reality</td><td>610476</td></tr><tr><td>Talk</td><td>537723</td></tr><tr><td>Comedy</td><td>509672</td></tr><tr><td>Sitcom</td><td>502753</td></tr></tbody></table></div>"
      ]
     },
     "metadata": {
      "application/vnd.databricks.v1+output": {
       "addedWidgets": {},
       "aggData": [],
       "aggError": "",
       "aggOverflow": false,
       "aggSchema": [],
       "aggSeriesLimitReached": false,
       "aggType": "",
       "arguments": {},
       "columnCustomDisplayInfos": {},
       "data": [
        [
         "News",
         615305
        ],
        [
         "Reality",
         610476
        ],
        [
         "Talk",
         537723
        ],
        [
         "Comedy",
         509672
        ],
        [
         "Sitcom",
         502753
        ]
       ],
       "datasetInfos": [],
       "dbfsResultPath": null,
       "isJsonSchema": true,
       "metadata": {},
       "overflow": false,
       "plotOptions": {
        "customPlotOptions": {},
        "displayType": "table",
        "pivotAggregation": null,
        "pivotColumns": null,
        "xColumns": null,
        "yColumns": null
       },
       "removedWidgets": [],
       "schema": [
        {
         "metadata": "{}",
         "name": "genre",
         "type": "\"string\""
        },
        {
         "metadata": "{}",
         "name": "total_count",
         "type": "\"long\""
        }
       ],
       "type": "table"
      }
     },
     "output_type": "display_data"
    },
    {
     "output_type": "display_data",
     "data": {
      "text/html": [
       "<style scoped>\n",
       "  .table-result-container {\n",
       "    max-height: 300px;\n",
       "    overflow: auto;\n",
       "  }\n",
       "  table, th, td {\n",
       "    border: 1px solid black;\n",
       "    border-collapse: collapse;\n",
       "  }\n",
       "  th, td {\n",
       "    padding: 5px;\n",
       "  }\n",
       "  th {\n",
       "    text-align: left;\n",
       "  }\n",
       "</style><div class='table-result-container'><table class='table-result'><thead style='background-color: white'><tr><th>total_viewers_top5</th></tr></thead><tbody><tr><td>2775929</td></tr></tbody></table></div>"
      ]
     },
     "metadata": {
      "application/vnd.databricks.v1+output": {
       "addedWidgets": {},
       "aggData": [],
       "aggError": "",
       "aggOverflow": false,
       "aggSchema": [],
       "aggSeriesLimitReached": false,
       "aggType": "",
       "arguments": {},
       "columnCustomDisplayInfos": {},
       "data": [
        [
         2775929
        ]
       ],
       "datasetInfos": [],
       "dbfsResultPath": null,
       "isJsonSchema": true,
       "metadata": {},
       "overflow": false,
       "plotOptions": {
        "customPlotOptions": {},
        "displayType": "table",
        "pivotAggregation": null,
        "pivotColumns": null,
        "xColumns": null,
        "yColumns": null
       },
       "removedWidgets": [],
       "schema": [
        {
         "metadata": "{}",
         "name": "total_viewers_top5",
         "type": "\"long\""
        }
       ],
       "type": "table"
      }
     },
     "output_type": "display_data"
    }
   ],
   "source": [
    "genre_lookup = daily_prog_temp \\\n",
    "    .select('prog_code', 'genre_array') \\\n",
    "    .filter(col('prog_code').isNotNull() & col('genre_array').isNotNull()) \\\n",
    "    .withColumn('genre', explode('genre_array')) \\\n",
    "    .select('prog_code', 'genre').dropDuplicates(['genre', 'prog_code'])\n",
    "\n",
    "\n",
    "temp4 = viewing10m_df.select('prog_code', 'device_id') \\\n",
    "    .join(genre_lookup, on='prog_code', how='inner')\n",
    "\n",
    "temp4 = temp4.join(ref_data.select('device_id', 'household_id'), on='device_id', how='inner')\n",
    "\n",
    "temp4 = temp4.join(demo_df.select('household_id', 'household_size'), on='household_id', how='inner')\n",
    "\n",
    "temp4 = temp4.select('genre', 'household_id', 'household_size').dropDuplicates(['genre', 'household_id'])\n",
    "\n",
    "temp4 = temp4.groupBy('genre').agg(\n",
    "    sum('household_size').alias('total_count')\n",
    ").orderBy(col('total_count').desc())\n",
    "\n",
    "display(temp4.limit(5))\n",
    "top5_total = temp4.limit(5).agg(\n",
    "    sum('total_count').alias('total_viewers_top5')\n",
    ")\n",
    "\n",
    "display(top5_total)\n",
    "   "
   ]
  },
  {
   "cell_type": "code",
   "execution_count": 0,
   "metadata": {
    "application/vnd.databricks.v1+cell": {
     "cellMetadata": {
      "byteLimit": 2048000,
      "rowLimit": 10000
     },
     "inputWidgets": {},
     "nuid": "0ba18b09-f654-45f3-b1cb-33432fe5fb2b",
     "showTitle": false,
     "tableResultSettingsMap": {},
     "title": ""
    }
   },
   "outputs": [
    {
     "output_type": "display_data",
     "data": {
      "text/html": [
       "<style scoped>\n",
       "  .table-result-container {\n",
       "    max-height: 300px;\n",
       "    overflow: auto;\n",
       "  }\n",
       "  table, th, td {\n",
       "    border: 1px solid black;\n",
       "    border-collapse: collapse;\n",
       "  }\n",
       "  th, td {\n",
       "    padding: 5px;\n",
       "  }\n",
       "  th {\n",
       "    text-align: left;\n",
       "  }\n",
       "</style><div class='table-result-container'><table class='table-result'><thead style='background-color: white'><tr><th>DMA</th><th>total_device</th></tr></thead><tbody><tr><td>Charleston-Huntington</td><td>44803</td></tr><tr><td>Wilkes Barre-Scranton-Hztn</td><td>43561</td></tr><tr><td>Seattle-Tacoma</td><td>29892</td></tr><tr><td>Toledo</td><td>27169</td></tr><tr><td>Little Rock-Pine Bluff</td><td>27133</td></tr></tbody></table></div>"
      ]
     },
     "metadata": {
      "application/vnd.databricks.v1+output": {
       "addedWidgets": {},
       "aggData": [],
       "aggError": "",
       "aggOverflow": false,
       "aggSchema": [],
       "aggSeriesLimitReached": false,
       "aggType": "",
       "arguments": {},
       "columnCustomDisplayInfos": {},
       "data": [
        [
         "Charleston-Huntington",
         44803
        ],
        [
         "Wilkes Barre-Scranton-Hztn",
         43561
        ],
        [
         "Seattle-Tacoma",
         29892
        ],
        [
         "Toledo",
         27169
        ],
        [
         "Little Rock-Pine Bluff",
         27133
        ]
       ],
       "datasetInfos": [],
       "dbfsResultPath": null,
       "isJsonSchema": true,
       "metadata": {},
       "overflow": false,
       "plotOptions": {
        "customPlotOptions": {},
        "displayType": "table",
        "pivotAggregation": null,
        "pivotColumns": null,
        "xColumns": null,
        "yColumns": null
       },
       "removedWidgets": [],
       "schema": [
        {
         "metadata": "{}",
         "name": "DMA",
         "type": "\"string\""
        },
        {
         "metadata": "{}",
         "name": "total_device",
         "type": "\"long\""
        }
       ],
       "type": "table"
      }
     },
     "output_type": "display_data"
    },
    {
     "output_type": "display_data",
     "data": {
      "text/html": [
       "<style scoped>\n",
       "  .table-result-container {\n",
       "    max-height: 300px;\n",
       "    overflow: auto;\n",
       "  }\n",
       "  table, th, td {\n",
       "    border: 1px solid black;\n",
       "    border-collapse: collapse;\n",
       "  }\n",
       "  th, td {\n",
       "    padding: 5px;\n",
       "  }\n",
       "  th {\n",
       "    text-align: left;\n",
       "  }\n",
       "</style><div class='table-result-container'><table class='table-result'><thead style='background-color: white'><tr><th>total_people_in_top5_dmas</th></tr></thead><tbody><tr><td>194272</td></tr></tbody></table></div>"
      ]
     },
     "metadata": {
      "application/vnd.databricks.v1+output": {
       "addedWidgets": {},
       "aggData": [],
       "aggError": "",
       "aggOverflow": false,
       "aggSchema": [],
       "aggSeriesLimitReached": false,
       "aggType": "",
       "arguments": {},
       "columnCustomDisplayInfos": {},
       "data": [
        [
         194272
        ]
       ],
       "datasetInfos": [],
       "dbfsResultPath": null,
       "isJsonSchema": true,
       "metadata": {},
       "overflow": false,
       "plotOptions": {
        "customPlotOptions": {},
        "displayType": "table",
        "pivotAggregation": null,
        "pivotColumns": null,
        "xColumns": null,
        "yColumns": null
       },
       "removedWidgets": [],
       "schema": [
        {
         "metadata": "{}",
         "name": "total_people_in_top5_dmas",
         "type": "\"long\""
        }
       ],
       "type": "table"
      }
     },
     "output_type": "display_data"
    }
   ],
   "source": [
    "# Step 1: Count devices per DMA\n",
    "dma_device_count_df = ref_data \\\n",
    "    .filter(col('DMA').isNotNull()) \\\n",
    "    .groupBy('DMA') \\\n",
    "    .agg(countDistinct('device_id').alias('total_device'))\n",
    "\n",
    "# Step 2: Join household-level info (household_id, DMA, household_size)\n",
    "dma_people_df = ref_data.select('household_id', 'DMA').dropDuplicates(['household_id']) \\\n",
    "    .join(\n",
    "        demo_df.select('household_id', 'household_size'),\n",
    "        on='household_id',\n",
    "        how='inner'\n",
    "    )\n",
    "\n",
    "# Step 3: Sum household sizes per DMA\n",
    "dma_people_sum_df = dma_people_df.groupBy('DMA').agg(\n",
    "    sum('household_size').alias('total_people')\n",
    ")\n",
    "\n",
    "# Step 4: Join both (device count + people count)\n",
    "dma_stats_df = dma_device_count_df.join(dma_people_sum_df, on='DMA', how='inner') \\\n",
    "    .orderBy(col('total_device').desc())\n",
    "\n",
    "# Step 5: Total people in top 5 DMAs\n",
    "top5_people_total = dma_stats_df.limit(5).agg(\n",
    "    sum('total_people').alias('total_people_in_top5_dmas')\n",
    ")\n",
    "\n",
    "dma_stats_df = dma_stats_df.drop('total_people')\n",
    "display(dma_stats_df.limit(5))\n",
    "display(top5_people_total)\n"
   ]
  },
  {
   "cell_type": "code",
   "execution_count": 0,
   "metadata": {
    "application/vnd.databricks.v1+cell": {
     "cellMetadata": {
      "byteLimit": 2048000,
      "rowLimit": 10000
     },
     "inputWidgets": {},
     "nuid": "67c3fd86-8d35-4b78-8e7e-420cdc5dd2fa",
     "showTitle": false,
     "tableResultSettingsMap": {},
     "title": ""
    }
   },
   "outputs": [
    {
     "output_type": "display_data",
     "data": {
      "text/html": [
       "<style scoped>\n",
       "  .table-result-container {\n",
       "    max-height: 300px;\n",
       "    overflow: auto;\n",
       "  }\n",
       "  table, th, td {\n",
       "    border: 1px solid black;\n",
       "    border-collapse: collapse;\n",
       "  }\n",
       "  th, td {\n",
       "    padding: 5px;\n",
       "  }\n",
       "  th {\n",
       "    text-align: left;\n",
       "  }\n",
       "</style><div class='table-result-container'><table class='table-result'><thead style='background-color: white'><tr><th>title</th><th>total_household</th></tr></thead><tbody><tr><td>College Basketball</td><td>74693</td></tr><tr><td>Paid Programming</td><td>73049</td></tr><tr><td>SportsCenter</td><td>58838</td></tr><tr><td>The Big Bang Theory</td><td>53317</td></tr><tr><td>Today</td><td>44178</td></tr></tbody></table></div>"
      ]
     },
     "metadata": {
      "application/vnd.databricks.v1+output": {
       "addedWidgets": {},
       "aggData": [],
       "aggError": "",
       "aggOverflow": false,
       "aggSchema": [],
       "aggSeriesLimitReached": false,
       "aggType": "",
       "arguments": {},
       "columnCustomDisplayInfos": {},
       "data": [
        [
         "College Basketball",
         74693
        ],
        [
         "Paid Programming",
         73049
        ],
        [
         "SportsCenter",
         58838
        ],
        [
         "The Big Bang Theory",
         53317
        ],
        [
         "Today",
         44178
        ]
       ],
       "datasetInfos": [],
       "dbfsResultPath": null,
       "isJsonSchema": true,
       "metadata": {},
       "overflow": false,
       "plotOptions": {
        "customPlotOptions": {},
        "displayType": "table",
        "pivotAggregation": null,
        "pivotColumns": null,
        "xColumns": null,
        "yColumns": null
       },
       "removedWidgets": [],
       "schema": [
        {
         "metadata": "{}",
         "name": "title",
         "type": "\"string\""
        },
        {
         "metadata": "{}",
         "name": "total_household",
         "type": "\"long\""
        }
       ],
       "type": "table"
      }
     },
     "output_type": "display_data"
    },
    {
     "output_type": "display_data",
     "data": {
      "text/html": [
       "<style scoped>\n",
       "  .table-result-container {\n",
       "    max-height: 300px;\n",
       "    overflow: auto;\n",
       "  }\n",
       "  table, th, td {\n",
       "    border: 1px solid black;\n",
       "    border-collapse: collapse;\n",
       "  }\n",
       "  th, td {\n",
       "    padding: 5px;\n",
       "  }\n",
       "  th {\n",
       "    text-align: left;\n",
       "  }\n",
       "</style><div class='table-result-container'><table class='table-result'><thead style='background-color: white'><tr><th>total_people_top5</th></tr></thead><tbody><tr><td>304075</td></tr></tbody></table></div>"
      ]
     },
     "metadata": {
      "application/vnd.databricks.v1+output": {
       "addedWidgets": {},
       "aggData": [],
       "aggError": "",
       "aggOverflow": false,
       "aggSchema": [],
       "aggSeriesLimitReached": false,
       "aggType": "",
       "arguments": {},
       "columnCustomDisplayInfos": {},
       "data": [
        [
         304075
        ]
       ],
       "datasetInfos": [],
       "dbfsResultPath": null,
       "isJsonSchema": true,
       "metadata": {},
       "overflow": false,
       "plotOptions": {
        "customPlotOptions": {},
        "displayType": "table",
        "pivotAggregation": null,
        "pivotColumns": null,
        "xColumns": null,
        "yColumns": null
       },
       "removedWidgets": [],
       "schema": [
        {
         "metadata": "{}",
         "name": "total_people_top5",
         "type": "\"long\""
        }
       ],
       "type": "table"
      }
     },
     "output_type": "display_data"
    }
   ],
   "source": [
    "program_title = demo_df.select('household_id','household_size','presence_children') \\\n",
    ".filter(col('presence_children') == 'Y') \\\n",
    ".join(ref_data.select('household_id','device_id'),on='household_id',  how='inner')\n",
    "\n",
    "program_title = viewing10m_df.select('device_id','prog_code').join(program_title,on='device_id',  how='inner')\n",
    "\n",
    "program_views = daily_prog_df.select('prog_code', 'title') \\\n",
    "    .filter(col('title').isNotNull())\n",
    "\n",
    "program_title = program_title.join(program_views,on='prog_code',  how='inner')\n",
    "\n",
    "program_title = program_title.select('household_id', 'title', 'household_size').dropDuplicates(['household_id', 'title'])\n",
    "\n",
    "program_title = program_title.groupBy('title').agg(sum('household_size').alias('total_household')).orderBy(col('total_household').desc())\n",
    "\n",
    "display(program_title.limit(5))\n",
    "top5_total = program_title.limit(5).agg(\n",
    "    sum('total_household').alias('total_people_top5')\n",
    ")\n",
    "display(top5_total)"
   ]
  },
  {
   "cell_type": "markdown",
   "metadata": {
    "application/vnd.databricks.v1+cell": {
     "cellMetadata": {
      "byteLimit": 2048000,
      "rowLimit": 10000
     },
     "inputWidgets": {},
     "nuid": "119cd728-04d1-4700-bce4-dd98cf312039",
     "showTitle": false,
     "tableResultSettingsMap": {},
     "title": ""
    }
   },
   "source": [
    "**part 2.2:**"
   ]
  },
  {
   "cell_type": "code",
   "execution_count": 0,
   "metadata": {
    "application/vnd.databricks.v1+cell": {
     "cellMetadata": {
      "byteLimit": 2048000,
      "rowLimit": 10000
     },
     "inputWidgets": {},
     "nuid": "60a3ec43-a1dd-42a1-9792-a08a5f62d41d",
     "showTitle": false,
     "tableResultSettingsMap": {},
     "title": ""
    }
   },
   "outputs": [
    {
     "output_type": "display_data",
     "data": {
      "text/html": [
       "<style scoped>\n",
       "  .table-result-container {\n",
       "    max-height: 300px;\n",
       "    overflow: auto;\n",
       "  }\n",
       "  table, th, td {\n",
       "    border: 1px solid black;\n",
       "    border-collapse: collapse;\n",
       "  }\n",
       "  th, td {\n",
       "    padding: 5px;\n",
       "  }\n",
       "  th {\n",
       "    text-align: left;\n",
       "  }\n",
       "</style><div class='table-result-container'><table class='table-result'><thead style='background-color: white'><tr><th>DMA</th><th>avg_income</th><th>avg_net_worth</th><th>wealth_score</th></tr></thead><tbody><tr><td>San Antonio</td><td>11.0</td><td>7.0</td><td>1.623931623931624</td></tr><tr><td>San Francisco-Oak-San Jose</td><td>9.046762589928058</td><td>7.616906474820144</td><td>1.5422277562565332</td></tr><tr><td>Baltimore</td><td>8.691560759674426</td><td>7.681279451663573</td><td>1.5220570915273188</td></tr><tr><td>Sacramnto-Stkton-Modesto</td><td>8.428257111425427</td><td>7.475561841898475</td><td>1.478945452542812</td></tr><tr><td>Bend, OR</td><td>7.9191377945564145</td><td>7.62631675089813</td><td>1.4565329736126789</td></tr><tr><td>Houston</td><td>8.973525427902967</td><td>6.70705578130772</td><td>1.435499606907069</td></tr><tr><td>Austin</td><td>8.64573437203116</td><td>6.84495534866046</td><td>1.4256070844518498</td></tr><tr><td>Miami-Ft. Lauderdale</td><td>7.838935574229692</td><td>7.362184873949579</td><td>1.421015585721468</td></tr><tr><td>Seattle-Tacoma</td><td>7.882006761550983</td><td>7.288492841938312</td><td>1.4161407504201444</td></tr><tr><td>Detroit</td><td>8.832123698327548</td><td>6.099400441779741</td><td>1.3571052908383296</td></tr></tbody></table></div>"
      ]
     },
     "metadata": {
      "application/vnd.databricks.v1+output": {
       "addedWidgets": {},
       "aggData": [],
       "aggError": "",
       "aggOverflow": false,
       "aggSchema": [],
       "aggSeriesLimitReached": false,
       "aggType": "",
       "arguments": {},
       "columnCustomDisplayInfos": {},
       "data": [
        [
         "San Antonio",
         11.0,
         7.0,
         1.623931623931624
        ],
        [
         "San Francisco-Oak-San Jose",
         9.046762589928058,
         7.616906474820144,
         1.5422277562565332
        ],
        [
         "Baltimore",
         8.691560759674426,
         7.681279451663573,
         1.5220570915273188
        ],
        [
         "Sacramnto-Stkton-Modesto",
         8.428257111425427,
         7.475561841898475,
         1.478945452542812
        ],
        [
         "Bend, OR",
         7.9191377945564145,
         7.62631675089813,
         1.4565329736126789
        ],
        [
         "Houston",
         8.973525427902967,
         6.70705578130772,
         1.435499606907069
        ],
        [
         "Austin",
         8.64573437203116,
         6.84495534866046,
         1.4256070844518498
        ],
        [
         "Miami-Ft. Lauderdale",
         7.838935574229692,
         7.362184873949579,
         1.421015585721468
        ],
        [
         "Seattle-Tacoma",
         7.882006761550983,
         7.288492841938312,
         1.4161407504201444
        ],
        [
         "Detroit",
         8.832123698327548,
         6.099400441779741,
         1.3571052908383296
        ]
       ],
       "datasetInfos": [],
       "dbfsResultPath": null,
       "isJsonSchema": true,
       "metadata": {},
       "overflow": false,
       "plotOptions": {
        "customPlotOptions": {},
        "displayType": "table",
        "pivotAggregation": null,
        "pivotColumns": null,
        "xColumns": null,
        "yColumns": null
       },
       "removedWidgets": [],
       "schema": [
        {
         "metadata": "{}",
         "name": "DMA",
         "type": "\"string\""
        },
        {
         "metadata": "{}",
         "name": "avg_income",
         "type": "\"double\""
        },
        {
         "metadata": "{}",
         "name": "avg_net_worth",
         "type": "\"double\""
        },
        {
         "metadata": "{}",
         "name": "wealth_score",
         "type": "\"double\""
        }
       ],
       "type": "table"
      }
     },
     "output_type": "display_data"
    }
   ],
   "source": [
    "demo_clean = demo_df.select('household_id','net_worth', 'income')\\\n",
    ".withColumn('income',\n",
    "                             when(col('income') == 'A', 10.0)\n",
    "                             .when(col('income') == 'B', 11.0)\n",
    "                             .when(col('income') == 'C', 12.0)\n",
    "                             .when(col('income') == 'D', 13.0)\n",
    "                             .otherwise(col('income').cast(\"double\"))\n",
    "                             )\\\n",
    "    .filter(col('income').isNotNull() & col('net_worth').isNotNull())  # ✅ filter rows manually\n",
    "# demo_clean= demo_clean.fillna({'net_worth':0})\n",
    "# demo_clean= demo_clean.fillna({'income':0})\n",
    "\n",
    "max_vals = demo_clean.agg(\n",
    "    max('income').alias('max_income'),\n",
    "    max('net_worth').alias('max_net_worth')\n",
    ")\n",
    "row = max_vals.first()\n",
    "\n",
    "max_income = row['max_income']\n",
    "max_net_worth = row['max_net_worth']\n",
    "\n",
    "demo_clean = demo_clean.join(ref_data.select('household_id','DMA'),on='household_id',  how='inner')\n",
    "\n",
    "# Step 1: Calculate avg income and net worth per DMA\n",
    "dma_avg = demo_clean.groupBy('DMA').agg(\n",
    "    avg('income').alias('avg_income'),\n",
    "    avg('net_worth').alias('avg_net_worth')\n",
    ")\n",
    "\n",
    "# Step 2: Compute wealth_score after the averages\n",
    "demo_clean = dma_avg.withColumn(\n",
    "    'wealth_score',\n",
    "    (col('avg_income') / max_income) + (col('avg_net_worth') / max_net_worth)\n",
    ").orderBy(col('wealth_score').desc()).limit(10)\n",
    "\n",
    "# Step 3: Display\n",
    "display(demo_clean)\n",
    "\n"
   ]
  },
  {
   "cell_type": "code",
   "execution_count": 0,
   "metadata": {
    "application/vnd.databricks.v1+cell": {
     "cellMetadata": {
      "byteLimit": 2048000,
      "rowLimit": 10000
     },
     "inputWidgets": {},
     "nuid": "6d54607c-98ae-4a49-892b-58035eafdd56",
     "showTitle": false,
     "tableResultSettingsMap": {},
     "title": ""
    }
   },
   "outputs": [
    {
     "output_type": "display_data",
     "data": {
      "text/html": [
       "<style scoped>\n",
       "  .table-result-container {\n",
       "    max-height: 300px;\n",
       "    overflow: auto;\n",
       "  }\n",
       "  table, th, td {\n",
       "    border: 1px solid black;\n",
       "    border-collapse: collapse;\n",
       "  }\n",
       "  th, td {\n",
       "    padding: 5px;\n",
       "  }\n",
       "  th {\n",
       "    text-align: left;\n",
       "  }\n",
       "</style><div class='table-result-container'><table class='table-result'><thead style='background-color: white'><tr><th>DMA</th><th>genre</th><th>device_count</th></tr></thead><tbody><tr><td>Austin</td><td>News</td><td>6507</td></tr><tr><td>Austin</td><td>Reality</td><td>5773</td></tr><tr><td>Austin</td><td>Talk</td><td>5564</td></tr><tr><td>Austin</td><td>Comedy</td><td>4701</td></tr><tr><td>Austin</td><td>Drama</td><td>4600</td></tr><tr><td>Austin</td><td>Sitcom</td><td>4367</td></tr><tr><td>Austin</td><td>Documentary</td><td>3920</td></tr><tr><td>Austin</td><td>Entertainment</td><td>3796</td></tr><tr><td>Austin</td><td>Adventure</td><td>3685</td></tr><tr><td>Austin</td><td>Action</td><td>3547</td></tr><tr><td>Austin</td><td>Crime drama</td><td>3518</td></tr><tr><td>Austin</td><td>Consumer</td><td>3195</td></tr><tr><td>Austin</td><td>Sports event</td><td>2727</td></tr><tr><td>Austin</td><td>Special</td><td>2725</td></tr><tr><td>Austin</td><td>Newsmagazine</td><td>2712</td></tr><tr><td>Austin</td><td>Suspense</td><td>2643</td></tr><tr><td>Austin</td><td>House/garden</td><td>2518</td></tr><tr><td>Austin</td><td>Sports non-event</td><td>2508</td></tr><tr><td>Austin</td><td>Mystery</td><td>2476</td></tr><tr><td>Austin</td><td>Animated</td><td>2460</td></tr><tr><td>Austin</td><td>Crime</td><td>2421</td></tr><tr><td>Austin</td><td>Children</td><td>2316</td></tr><tr><td>Austin</td><td>Fantasy</td><td>2299</td></tr><tr><td>Austin</td><td>Game show</td><td>2126</td></tr><tr><td>Austin</td><td>Interview</td><td>1980</td></tr><tr><td>Austin</td><td>Shopping</td><td>1931</td></tr><tr><td>Austin</td><td>Home improvement</td><td>1785</td></tr><tr><td>Austin</td><td>Science fiction</td><td>1773</td></tr><tr><td>Austin</td><td>Politics</td><td>1757</td></tr><tr><td>Austin</td><td>Basketball</td><td>1739</td></tr><tr><td>Austin</td><td>Public affairs</td><td>1730</td></tr><tr><td>Austin</td><td>Educational</td><td>1657</td></tr><tr><td>Austin</td><td>Law</td><td>1641</td></tr><tr><td>Austin</td><td>Music</td><td>1595</td></tr><tr><td>Austin</td><td>Travel</td><td>1590</td></tr><tr><td>Austin</td><td>Romance</td><td>1568</td></tr><tr><td>Austin</td><td>Cooking</td><td>1497</td></tr><tr><td>Austin</td><td>Sports talk</td><td>1399</td></tr><tr><td>Austin</td><td>History</td><td>1391</td></tr><tr><td>Austin</td><td>How-to</td><td>1321</td></tr><tr><td>Austin</td><td>Bus./financial</td><td>1248</td></tr><tr><td>Austin</td><td>Horror</td><td>1227</td></tr><tr><td>Austin</td><td>Medical</td><td>1210</td></tr><tr><td>Austin</td><td>Science</td><td>1207</td></tr><tr><td>Austin</td><td>Animals</td><td>1096</td></tr><tr><td>Austin</td><td>Paranormal</td><td>1041</td></tr><tr><td>Austin</td><td>Western</td><td>1003</td></tr><tr><td>Austin</td><td>Soap</td><td>988</td></tr><tr><td>Austin</td><td>Outdoors</td><td>968</td></tr><tr><td>Austin</td><td>Religious</td><td>959</td></tr><tr><td>Austin</td><td>Weather</td><td>948</td></tr><tr><td>Austin</td><td>Nature</td><td>934</td></tr><tr><td>Austin</td><td>Romance-comedy</td><td>890</td></tr><tr><td>Austin</td><td>Comedy-drama</td><td>884</td></tr><tr><td>Austin</td><td>Golf</td><td>806</td></tr><tr><td>Austin</td><td>Fashion</td><td>700</td></tr><tr><td>Austin</td><td>Historical drama</td><td>696</td></tr><tr><td>Austin</td><td>Auto racing</td><td>671</td></tr><tr><td>Austin</td><td>War</td><td>668</td></tr><tr><td>Austin</td><td>Auto</td><td>621</td></tr><tr><td>Austin</td><td>Awards</td><td>591</td></tr><tr><td>Austin</td><td>Community</td><td>571</td></tr><tr><td>Austin</td><td>Health</td><td>569</td></tr><tr><td>Austin</td><td>Variety</td><td>542</td></tr><tr><td>Austin</td><td>Biography</td><td>536</td></tr><tr><td>Austin</td><td>Docudrama</td><td>500</td></tr><tr><td>Austin</td><td>Football</td><td>454</td></tr><tr><td>Austin</td><td>Musical</td><td>394</td></tr><tr><td>Austin</td><td>Collectibles</td><td>369</td></tr><tr><td>Austin</td><td>Anthology</td><td>340</td></tr><tr><td>Austin</td><td>Parenting</td><td>325</td></tr><tr><td>Austin</td><td>Hockey</td><td>324</td></tr><tr><td>Austin</td><td>Soccer</td><td>303</td></tr><tr><td>Austin</td><td>Art</td><td>296</td></tr><tr><td>Austin</td><td>Pro wrestling</td><td>263</td></tr><tr><td>Austin</td><td>Fishing</td><td>241</td></tr><tr><td>Austin</td><td>Auction</td><td>233</td></tr><tr><td>Austin</td><td>Baseball</td><td>232</td></tr><tr><td>Austin</td><td>Dance</td><td>215</td></tr><tr><td>Austin</td><td>Mixed martial arts</td><td>208</td></tr><tr><td>Austin</td><td>Technology</td><td>196</td></tr><tr><td>Austin</td><td>Hunting</td><td>186</td></tr><tr><td>Austin</td><td>Aviation</td><td>161</td></tr><tr><td>Austin</td><td>Gymnastics</td><td>147</td></tr><tr><td>Austin</td><td>Spanish</td><td>142</td></tr><tr><td>Austin</td><td>Figure skating</td><td>134</td></tr><tr><td>Austin</td><td>Military</td><td>131</td></tr><tr><td>Austin</td><td>Dog show</td><td>122</td></tr><tr><td>Austin</td><td>Musical comedy</td><td>116</td></tr><tr><td>Austin</td><td>Environment</td><td>115</td></tr><tr><td>Austin</td><td>Martial arts</td><td>99</td></tr><tr><td>Austin</td><td>Skiing</td><td>91</td></tr><tr><td>Austin</td><td>Softball</td><td>81</td></tr><tr><td>Austin</td><td>Rodeo</td><td>77</td></tr><tr><td>Austin</td><td>Adults only</td><td>73</td></tr><tr><td>Austin</td><td>Shooting</td><td>63</td></tr><tr><td>Austin</td><td>Self improvement</td><td>61</td></tr><tr><td>Austin</td><td>Standup</td><td>59</td></tr><tr><td>Austin</td><td>Rugby</td><td>58</td></tr><tr><td>Austin</td><td>Action sports</td><td>57</td></tr><tr><td>Austin</td><td>Boxing</td><td>51</td></tr><tr><td>Austin</td><td>Anime</td><td>46</td></tr><tr><td>Austin</td><td>Motorcycle racing</td><td>42</td></tr><tr><td>Austin</td><td>Poker</td><td>34</td></tr><tr><td>Austin</td><td>Card games</td><td>34</td></tr><tr><td>Austin</td><td>Motorcycle</td><td>33</td></tr><tr><td>Austin</td><td>Agriculture</td><td>29</td></tr><tr><td>Austin</td><td>Exercise</td><td>28</td></tr><tr><td>Austin</td><td>Miniseries</td><td>28</td></tr><tr><td>Austin</td><td>Snowboarding</td><td>25</td></tr><tr><td>Austin</td><td>Bowling</td><td>25</td></tr><tr><td>Austin</td><td>Performing arts</td><td>21</td></tr><tr><td>Austin</td><td>Drag racing</td><td>21</td></tr><tr><td>Austin</td><td>Gay/lesbian</td><td>19</td></tr><tr><td>Austin</td><td>Intl soccer</td><td>17</td></tr><tr><td>Austin</td><td>Curling</td><td>16</td></tr><tr><td>Austin</td><td>Track/field</td><td>15</td></tr><tr><td>Austin</td><td>Wrestling</td><td>14</td></tr><tr><td>Austin</td><td>Playoff sports</td><td>14</td></tr><tr><td>Austin</td><td>Arts/crafts</td><td>12</td></tr><tr><td>Austin</td><td>Motorsports</td><td>11</td></tr><tr><td>Austin</td><td>Cricket</td><td>10</td></tr><tr><td>Austin</td><td>Snowmobile</td><td>10</td></tr><tr><td>Austin</td><td>Archery</td><td>9</td></tr><tr><td>Austin</td><td>Luge</td><td>9</td></tr><tr><td>Austin</td><td>Triathlon</td><td>8</td></tr><tr><td>Austin</td><td>Cheerleading</td><td>6</td></tr><tr><td>Austin</td><td>Equestrian</td><td>6</td></tr><tr><td>Austin</td><td>Computers</td><td>3</td></tr><tr><td>Austin</td><td>Event</td><td>3</td></tr><tr><td>Austin</td><td>Tennis</td><td>3</td></tr><tr><td>Austin</td><td>Volleyball</td><td>3</td></tr><tr><td>Austin</td><td>Lacrosse</td><td>2</td></tr><tr><td>Austin</td><td>Horse</td><td>2</td></tr><tr><td>Austin</td><td>Boat racing</td><td>2</td></tr><tr><td>Austin</td><td>Yacht racing</td><td>2</td></tr><tr><td>Austin</td><td>Bicycle racing</td><td>2</td></tr><tr><td>Austin</td><td>Music special</td><td>2</td></tr><tr><td>Austin</td><td>Watersports</td><td>1</td></tr><tr><td>Austin</td><td>Kayaking</td><td>1</td></tr><tr><td>Austin</td><td>Running</td><td>1</td></tr><tr><td>Bend, OR</td><td>News</td><td>6410</td></tr><tr><td>Bend, OR</td><td>Reality</td><td>5850</td></tr><tr><td>Bend, OR</td><td>Talk</td><td>5607</td></tr><tr><td>Bend, OR</td><td>Comedy</td><td>5303</td></tr><tr><td>Bend, OR</td><td>Sitcom</td><td>5235</td></tr><tr><td>Bend, OR</td><td>Drama</td><td>4341</td></tr><tr><td>Bend, OR</td><td>Adventure</td><td>3935</td></tr><tr><td>Bend, OR</td><td>Consumer</td><td>3908</td></tr><tr><td>Bend, OR</td><td>Documentary</td><td>3757</td></tr><tr><td>Bend, OR</td><td>Crime drama</td><td>3693</td></tr><tr><td>Bend, OR</td><td>Entertainment</td><td>3646</td></tr><tr><td>Bend, OR</td><td>Action</td><td>3439</td></tr><tr><td>Bend, OR</td><td>Animated</td><td>3233</td></tr><tr><td>Bend, OR</td><td>Children</td><td>3017</td></tr><tr><td>Bend, OR</td><td>Shopping</td><td>3015</td></tr><tr><td>Bend, OR</td><td>Newsmagazine</td><td>2871</td></tr><tr><td>Bend, OR</td><td>Crime</td><td>2645</td></tr><tr><td>Bend, OR</td><td>Special</td><td>2619</td></tr><tr><td>Bend, OR</td><td>Sports non-event</td><td>2598</td></tr><tr><td>Bend, OR</td><td>Mystery</td><td>2532</td></tr><tr><td>Bend, OR</td><td>Fantasy</td><td>2483</td></tr><tr><td>Bend, OR</td><td>Game show</td><td>2476</td></tr><tr><td>Bend, OR</td><td>Sports event</td><td>2405</td></tr><tr><td>Bend, OR</td><td>Suspense</td><td>2291</td></tr><tr><td>Bend, OR</td><td>House/garden</td><td>2194</td></tr><tr><td>Bend, OR</td><td>Educational</td><td>2165</td></tr><tr><td>Bend, OR</td><td>Law</td><td>2107</td></tr><tr><td>Bend, OR</td><td>Music</td><td>1980</td></tr><tr><td>Bend, OR</td><td>Travel</td><td>1980</td></tr><tr><td>Bend, OR</td><td>Public affairs</td><td>1957</td></tr><tr><td>Bend, OR</td><td>Interview</td><td>1788</td></tr><tr><td>Bend, OR</td><td>Cooking</td><td>1748</td></tr><tr><td>Bend, OR</td><td>How-to</td><td>1632</td></tr><tr><td>Bend, OR</td><td>Home improvement</td><td>1617</td></tr><tr><td>Bend, OR</td><td>Science fiction</td><td>1599</td></tr><tr><td>Bend, OR</td><td>Politics</td><td>1545</td></tr><tr><td>Bend, OR</td><td>Basketball</td><td>1544</td></tr><tr><td>Bend, OR</td><td>Outdoors</td><td>1541</td></tr><tr><td>Bend, OR</td><td>Bus./financial</td><td>1532</td></tr><tr><td>Bend, OR</td><td>Animals</td><td>1373</td></tr><tr><td>Bend, OR</td><td>Romance</td><td>1306</td></tr><tr><td>Bend, OR</td><td>Sports talk</td><td>1276</td></tr><tr><td>Bend, OR</td><td>Nature</td><td>1201</td></tr><tr><td>Bend, OR</td><td>Science</td><td>1187</td></tr><tr><td>Bend, OR</td><td>Medical</td><td>1150</td></tr><tr><td>Bend, OR</td><td>History</td><td>1131</td></tr><tr><td>Bend, OR</td><td>Health</td><td>1056</td></tr><tr><td>Bend, OR</td><td>Horror</td><td>1016</td></tr><tr><td>Bend, OR</td><td>Western</td><td>996</td></tr><tr><td>Bend, OR</td><td>Soap</td><td>979</td></tr><tr><td>Bend, OR</td><td>Romance-comedy</td><td>857</td></tr><tr><td>Bend, OR</td><td>Paranormal</td><td>818</td></tr><tr><td>Bend, OR</td><td>Weather</td><td>796</td></tr><tr><td>Bend, OR</td><td>Comedy-drama</td><td>722</td></tr><tr><td>Bend, OR</td><td>Historical drama</td><td>668</td></tr><tr><td>Bend, OR</td><td>Fashion</td><td>644</td></tr><tr><td>Bend, OR</td><td>Religious</td><td>628</td></tr><tr><td>Bend, OR</td><td>Biography</td><td>622</td></tr><tr><td>Bend, OR</td><td>Auto</td><td>615</td></tr><tr><td>Bend, OR</td><td>Auto racing</td><td>600</td></tr><tr><td>Bend, OR</td><td>War</td><td>584</td></tr><tr><td>Bend, OR</td><td>Golf</td><td>567</td></tr><tr><td>Bend, OR</td><td>Fishing</td><td>557</td></tr><tr><td>Bend, OR</td><td>Awards</td><td>528</td></tr><tr><td>Bend, OR</td><td>Docudrama</td><td>512</td></tr><tr><td>Bend, OR</td><td>Football</td><td>497</td></tr><tr><td>Bend, OR</td><td>Anthology</td><td>471</td></tr><tr><td>Bend, OR</td><td>Collectibles</td><td>450</td></tr><tr><td>Bend, OR</td><td>Hunting</td><td>410</td></tr><tr><td>Bend, OR</td><td>Musical</td><td>402</td></tr><tr><td>Bend, OR</td><td>Community</td><td>393</td></tr><tr><td>Bend, OR</td><td>Hockey</td><td>345</td></tr><tr><td>Bend, OR</td><td>Art</td><td>337</td></tr><tr><td>Bend, OR</td><td>Variety</td><td>325</td></tr><tr><td>Bend, OR</td><td>Soccer</td><td>315</td></tr><tr><td>Bend, OR</td><td>Parenting</td><td>292</td></tr><tr><td>Bend, OR</td><td>Technology</td><td>265</td></tr><tr><td>Bend, OR</td><td>Musical comedy</td><td>252</td></tr><tr><td>Bend, OR</td><td>Auction</td><td>241</td></tr><tr><td>Bend, OR</td><td>Exercise</td><td>230</td></tr><tr><td>Bend, OR</td><td>Mixed martial arts</td><td>214</td></tr><tr><td>Bend, OR</td><td>Dog show</td><td>208</td></tr><tr><td>Bend, OR</td><td>Skiing</td><td>203</td></tr><tr><td>Bend, OR</td><td>Pro wrestling</td><td>168</td></tr><tr><td>Bend, OR</td><td>Action sports</td><td>167</td></tr><tr><td>Bend, OR</td><td>Aviation</td><td>155</td></tr><tr><td>Bend, OR</td><td>Environment</td><td>153</td></tr><tr><td>Bend, OR</td><td>Military</td><td>149</td></tr><tr><td>Bend, OR</td><td>Dance</td><td>141</td></tr><tr><td>Bend, OR</td><td>Baseball</td><td>141</td></tr><tr><td>Bend, OR</td><td>Figure skating</td><td>128</td></tr><tr><td>Bend, OR</td><td>Standup</td><td>123</td></tr><tr><td>Bend, OR</td><td>Motorsports</td><td>120</td></tr><tr><td>Bend, OR</td><td>Tennis</td><td>114</td></tr><tr><td>Bend, OR</td><td>Gymnastics</td><td>112</td></tr><tr><td>Bend, OR</td><td>Motorcycle</td><td>105</td></tr><tr><td>Bend, OR</td><td>Self improvement</td><td>96</td></tr><tr><td>Bend, OR</td><td>Martial arts</td><td>91</td></tr><tr><td>Bend, OR</td><td>Horse</td><td>86</td></tr><tr><td>Bend, OR</td><td>Rugby</td><td>81</td></tr><tr><td>Bend, OR</td><td>Adults only</td><td>81</td></tr><tr><td>Bend, OR</td><td>Boxing</td><td>74</td></tr><tr><td>Bend, OR</td><td>Anime</td><td>72</td></tr><tr><td>Bend, OR</td><td>Spanish</td><td>70</td></tr><tr><td>Bend, OR</td><td>Drag racing</td><td>61</td></tr><tr><td>Bend, OR</td><td>Card games</td><td>54</td></tr><tr><td>Bend, OR</td><td>Poker</td><td>53</td></tr><tr><td>Bend, OR</td><td>Motorcycle racing</td><td>48</td></tr><tr><td>Bend, OR</td><td>Triathlon</td><td>43</td></tr><tr><td>Bend, OR</td><td>Agriculture</td><td>43</td></tr><tr><td>Bend, OR</td><td>Rodeo</td><td>43</td></tr><tr><td>Bend, OR</td><td>Shooting</td><td>42</td></tr><tr><td>Bend, OR</td><td>Swimming</td><td>29</td></tr><tr><td>Bend, OR</td><td>Snowboarding</td><td>28</td></tr><tr><td>Bend, OR</td><td>Bicycle racing</td><td>24</td></tr><tr><td>Bend, OR</td><td>Bowling</td><td>22</td></tr><tr><td>Bend, OR</td><td>Wrestling</td><td>22</td></tr><tr><td>Bend, OR</td><td>Volleyball</td><td>22</td></tr><tr><td>Bend, OR</td><td>Watersports</td><td>21</td></tr><tr><td>Bend, OR</td><td>Miniseries</td><td>20</td></tr><tr><td>Bend, OR</td><td>Gay/lesbian</td><td>20</td></tr><tr><td>Bend, OR</td><td>Intl soccer</td><td>19</td></tr><tr><td>Bend, OR</td><td>Equestrian</td><td>19</td></tr><tr><td>Bend, OR</td><td>Arts/crafts</td><td>18</td></tr><tr><td>Bend, OR</td><td>Archery</td><td>18</td></tr><tr><td>Bend, OR</td><td>Debate</td><td>17</td></tr><tr><td>Bend, OR</td><td>Performing arts</td><td>17</td></tr><tr><td>Bend, OR</td><td>Cricket</td><td>16</td></tr><tr><td>Bend, OR</td><td>Computers</td><td>15</td></tr><tr><td>Bend, OR</td><td>Luge</td><td>14</td></tr><tr><td>Bend, OR</td><td>Surfing</td><td>14</td></tr><tr><td>Bend, OR</td><td>Snowmobile</td><td>14</td></tr><tr><td>Bend, OR</td><td>Running</td><td>13</td></tr><tr><td>Bend, OR</td><td>Yacht racing</td><td>13</td></tr><tr><td>Bend, OR</td><td>Speed skating</td><td>12</td></tr><tr><td>Bend, OR</td><td>Bobsled</td><td>10</td></tr><tr><td>Bend, OR</td><td>Softball</td><td>8</td></tr><tr><td>Bend, OR</td><td>Track/field</td><td>8</td></tr><tr><td>Bend, OR</td><td>Boat racing</td><td>8</td></tr><tr><td>Bend, OR</td><td>Curling</td><td>7</td></tr><tr><td>Bend, OR</td><td>Playoff sports</td><td>6</td></tr><tr><td>Bend, OR</td><td>Skeleton</td><td>6</td></tr><tr><td>Bend, OR</td><td>Water polo</td><td>5</td></tr><tr><td>Bend, OR</td><td>Lacrosse</td><td>5</td></tr><tr><td>Bend, OR</td><td>Event</td><td>5</td></tr><tr><td>Bend, OR</td><td>Sailing</td><td>5</td></tr><tr><td>Bend, OR</td><td>Cheerleading</td><td>5</td></tr><tr><td>Bend, OR</td><td>Olympics</td><td>5</td></tr><tr><td>Bend, OR</td><td>Music special</td><td>3</td></tr><tr><td>Bend, OR</td><td>Kayaking</td><td>3</td></tr><tr><td>Bend, OR</td><td>Diving</td><td>2</td></tr><tr><td>Detroit</td><td>News</td><td>762</td></tr><tr><td>Detroit</td><td>Reality</td><td>741</td></tr><tr><td>Detroit</td><td>Talk</td><td>685</td></tr><tr><td>Detroit</td><td>Comedy</td><td>622</td></tr><tr><td>Detroit</td><td>Sitcom</td><td>597</td></tr><tr><td>Detroit</td><td>Drama</td><td>531</td></tr><tr><td>Detroit</td><td>Adventure</td><td>516</td></tr><tr><td>Detroit</td><td>Documentary</td><td>497</td></tr><tr><td>Detroit</td><td>Entertainment</td><td>493</td></tr><tr><td>Detroit</td><td>Crime drama</td><td>488</td></tr><tr><td>Detroit</td><td>Action</td><td>479</td></tr><tr><td>Detroit</td><td>Sports event</td><td>430</td></tr><tr><td>Detroit</td><td>Sports non-event</td><td>417</td></tr><tr><td>Detroit</td><td>Newsmagazine</td><td>399</td></tr><tr><td>Detroit</td><td>Suspense</td><td>387</td></tr><tr><td>Detroit</td><td>Special</td><td>377</td></tr><tr><td>Detroit</td><td>Consumer</td><td>366</td></tr><tr><td>Detroit</td><td>House/garden</td><td>354</td></tr><tr><td>Detroit</td><td>Mystery</td><td>330</td></tr><tr><td>Detroit</td><td>Crime</td><td>328</td></tr><tr><td>Detroit</td><td>Fantasy</td><td>313</td></tr><tr><td>Detroit</td><td>Animated</td><td>312</td></tr><tr><td>Detroit</td><td>Basketball</td><td>294</td></tr><tr><td>Detroit</td><td>Children</td><td>292</td></tr><tr><td>Detroit</td><td>Game show</td><td>274</td></tr><tr><td>Detroit</td><td>Home improvement</td><td>255</td></tr><tr><td>Detroit</td><td>Cooking</td><td>248</td></tr><tr><td>Detroit</td><td>Science fiction</td><td>247</td></tr><tr><td>Detroit</td><td>Outdoors</td><td>239</td></tr><tr><td>Detroit</td><td>Interview</td><td>236</td></tr><tr><td>Detroit</td><td>Sports talk</td><td>225</td></tr><tr><td>Detroit</td><td>How-to</td><td>224</td></tr><tr><td>Detroit</td><td>Law</td><td>223</td></tr><tr><td>Detroit</td><td>Music</td><td>209</td></tr><tr><td>Detroit</td><td>Shopping</td><td>208</td></tr><tr><td>Detroit</td><td>Travel</td><td>207</td></tr><tr><td>Detroit</td><td>Educational</td><td>207</td></tr><tr><td>Detroit</td><td>Romance</td><td>205</td></tr><tr><td>Detroit</td><td>Animals</td><td>195</td></tr><tr><td>Detroit</td><td>History</td><td>171</td></tr><tr><td>Detroit</td><td>Science</td><td>163</td></tr><tr><td>Detroit</td><td>Horror</td><td>162</td></tr><tr><td>Detroit</td><td>Weather</td><td>160</td></tr><tr><td>Detroit</td><td>Nature</td><td>159</td></tr><tr><td>Detroit</td><td>Auto racing</td><td>159</td></tr><tr><td>Detroit</td><td>Politics</td><td>155</td></tr><tr><td>Detroit</td><td>Public affairs</td><td>148</td></tr><tr><td>Detroit</td><td>Soap</td><td>146</td></tr><tr><td>Detroit</td><td>Romance-comedy</td><td>137</td></tr><tr><td>Detroit</td><td>Hockey</td><td>130</td></tr><tr><td>Detroit</td><td>Religious</td><td>128</td></tr><tr><td>Detroit</td><td>Golf</td><td>123</td></tr><tr><td>Detroit</td><td>Paranormal</td><td>121</td></tr><tr><td>Detroit</td><td>Variety</td><td>116</td></tr><tr><td>Detroit</td><td>Western</td><td>113</td></tr><tr><td>Detroit</td><td>Medical</td><td>111</td></tr><tr><td>Detroit</td><td>Fashion</td><td>109</td></tr><tr><td>Detroit</td><td>Bus./financial</td><td>108</td></tr><tr><td>Detroit</td><td>Comedy-drama</td><td>107</td></tr><tr><td>Detroit</td><td>Historical drama</td><td>101</td></tr><tr><td>Detroit</td><td>Auto</td><td>91</td></tr><tr><td>Detroit</td><td>Football</td><td>81</td></tr><tr><td>Detroit</td><td>Musical</td><td>78</td></tr><tr><td>Detroit</td><td>Docudrama</td><td>76</td></tr><tr><td>Detroit</td><td>Biography</td><td>75</td></tr><tr><td>Detroit</td><td>Fishing</td><td>74</td></tr><tr><td>Detroit</td><td>Awards</td><td>71</td></tr><tr><td>Detroit</td><td>Health</td><td>67</td></tr><tr><td>Detroit</td><td>War</td><td>67</td></tr><tr><td>Detroit</td><td>Collectibles</td><td>51</td></tr><tr><td>Detroit</td><td>Technology</td><td>48</td></tr><tr><td>Detroit</td><td>Hunting</td><td>46</td></tr><tr><td>Detroit</td><td>Baseball</td><td>41</td></tr><tr><td>Detroit</td><td>Parenting</td><td>40</td></tr><tr><td>Detroit</td><td>Auction</td><td>36</td></tr><tr><td>Detroit</td><td>Anthology</td><td>35</td></tr><tr><td>Detroit</td><td>Action sports</td><td>34</td></tr><tr><td>Detroit</td><td>Community</td><td>33</td></tr><tr><td>Detroit</td><td>Pro wrestling</td><td>33</td></tr><tr><td>Detroit</td><td>Mixed martial arts</td><td>33</td></tr><tr><td>Detroit</td><td>Self improvement</td><td>32</td></tr><tr><td>Detroit</td><td>Dog show</td><td>29</td></tr><tr><td>Detroit</td><td>Gymnastics</td><td>28</td></tr><tr><td>Detroit</td><td>Figure skating</td><td>25</td></tr><tr><td>Detroit</td><td>Dance</td><td>24</td></tr><tr><td>Detroit</td><td>Agriculture</td><td>21</td></tr><tr><td>Detroit</td><td>Military</td><td>18</td></tr><tr><td>Detroit</td><td>Soccer</td><td>18</td></tr><tr><td>Detroit</td><td>Art</td><td>18</td></tr><tr><td>Detroit</td><td>Aviation</td><td>17</td></tr><tr><td>Detroit</td><td>Bowling</td><td>16</td></tr><tr><td>Detroit</td><td>Musical comedy</td><td>16</td></tr><tr><td>Detroit</td><td>Martial arts</td><td>15</td></tr><tr><td>Detroit</td><td>Card games</td><td>13</td></tr><tr><td>Detroit</td><td>Poker</td><td>13</td></tr><tr><td>Detroit</td><td>Boxing</td><td>12</td></tr><tr><td>Detroit</td><td>Standup</td><td>11</td></tr><tr><td>Detroit</td><td>Adults only</td><td>10</td></tr><tr><td>Detroit</td><td>Performing arts</td><td>10</td></tr><tr><td>Detroit</td><td>Shooting</td><td>9</td></tr><tr><td>Detroit</td><td>Rugby</td><td>8</td></tr><tr><td>Detroit</td><td>Motorcycle racing</td><td>8</td></tr><tr><td>Detroit</td><td>Environment</td><td>8</td></tr><tr><td>Detroit</td><td>Spanish</td><td>7</td></tr><tr><td>Detroit</td><td>Miniseries</td><td>7</td></tr><tr><td>Detroit</td><td>Wrestling</td><td>7</td></tr><tr><td>Detroit</td><td>Anime</td><td>7</td></tr><tr><td>Detroit</td><td>Drag racing</td><td>6</td></tr><tr><td>Detroit</td><td>Swimming</td><td>6</td></tr><tr><td>Detroit</td><td>Horse</td><td>5</td></tr><tr><td>Detroit</td><td>Motorsports</td><td>5</td></tr><tr><td>Detroit</td><td>Diving</td><td>5</td></tr><tr><td>Detroit</td><td>Exercise</td><td>5</td></tr><tr><td>Detroit</td><td>Debate</td><td>5</td></tr><tr><td>Detroit</td><td>Skiing</td><td>4</td></tr><tr><td>Detroit</td><td>Luge</td><td>3</td></tr><tr><td>Detroit</td><td>Gay/lesbian</td><td>3</td></tr><tr><td>Detroit</td><td>Curling</td><td>3</td></tr><tr><td>Detroit</td><td>Running</td><td>2</td></tr><tr><td>Detroit</td><td>Arts/crafts</td><td>2</td></tr><tr><td>Detroit</td><td>Cricket</td><td>2</td></tr><tr><td>Detroit</td><td>Track/field</td><td>2</td></tr><tr><td>Detroit</td><td>Music special</td><td>2</td></tr><tr><td>Detroit</td><td>Motorcycle</td><td>2</td></tr><tr><td>Detroit</td><td>Computers</td><td>2</td></tr><tr><td>Detroit</td><td>Snowboarding</td><td>1</td></tr><tr><td>Detroit</td><td>Cheerleading</td><td>1</td></tr><tr><td>Detroit</td><td>Yacht racing</td><td>1</td></tr><tr><td>Detroit</td><td>Archery</td><td>1</td></tr><tr><td>Detroit</td><td>Softball</td><td>1</td></tr><tr><td>Houston</td><td>News</td><td>8147</td></tr><tr><td>Houston</td><td>Reality</td><td>7689</td></tr><tr><td>Houston</td><td>Talk</td><td>6838</td></tr><tr><td>Houston</td><td>Sitcom</td><td>6068</td></tr><tr><td>Houston</td><td>Comedy</td><td>6025</td></tr><tr><td>Houston</td><td>Drama</td><td>5655</td></tr><tr><td>Houston</td><td>Documentary</td><td>5386</td></tr><tr><td>Houston</td><td>Adventure</td><td>4924</td></tr><tr><td>Houston</td><td>Consumer</td><td>4600</td></tr><tr><td>Houston</td><td>Action</td><td>4531</td></tr><tr><td>Houston</td><td>Crime drama</td><td>4483</td></tr><tr><td>Houston</td><td>Entertainment</td><td>4417</td></tr><tr><td>Houston</td><td>Suspense</td><td>3540</td></tr><tr><td>Houston</td><td>Special</td><td>3483</td></tr><tr><td>Houston</td><td>Mystery</td><td>3336</td></tr><tr><td>Houston</td><td>Animated</td><td>3327</td></tr><tr><td>Houston</td><td>Newsmagazine</td><td>3202</td></tr><tr><td>Houston</td><td>Crime</td><td>3171</td></tr><tr><td>Houston</td><td>Sports non-event</td><td>3073</td></tr><tr><td>Houston</td><td>Children</td><td>3071</td></tr><tr><td>Houston</td><td>Fantasy</td><td>3016</td></tr><tr><td>Houston</td><td>House/garden</td><td>2925</td></tr><tr><td>Houston</td><td>Sports event</td><td>2858</td></tr><tr><td>Houston</td><td>Game show</td><td>2816</td></tr><tr><td>Houston</td><td>Shopping</td><td>2434</td></tr><tr><td>Houston</td><td>Interview</td><td>2375</td></tr><tr><td>Houston</td><td>Science fiction</td><td>2313</td></tr><tr><td>Houston</td><td>Travel</td><td>2075</td></tr><tr><td>Houston</td><td>Romance</td><td>2057</td></tr><tr><td>Houston</td><td>Home improvement</td><td>2017</td></tr><tr><td>Houston</td><td>Public affairs</td><td>1998</td></tr><tr><td>Houston</td><td>Politics</td><td>1997</td></tr><tr><td>Houston</td><td>Law</td><td>1985</td></tr><tr><td>Houston</td><td>History</td><td>1927</td></tr><tr><td>Houston</td><td>Educational</td><td>1842</td></tr><tr><td>Houston</td><td>Music</td><td>1841</td></tr><tr><td>Houston</td><td>How-to</td><td>1703</td></tr><tr><td>Houston</td><td>Basketball</td><td>1680</td></tr><tr><td>Houston</td><td>Religious</td><td>1655</td></tr><tr><td>Houston</td><td>Cooking</td><td>1653</td></tr><tr><td>Houston</td><td>Sports talk</td><td>1626</td></tr><tr><td>Houston</td><td>Paranormal</td><td>1573</td></tr><tr><td>Houston</td><td>Horror</td><td>1532</td></tr><tr><td>Houston</td><td>Soap</td><td>1506</td></tr><tr><td>Houston</td><td>Animals</td><td>1387</td></tr><tr><td>Houston</td><td>Outdoors</td><td>1339</td></tr><tr><td>Houston</td><td>Nature</td><td>1319</td></tr><tr><td>Houston</td><td>Science</td><td>1315</td></tr><tr><td>Houston</td><td>Medical</td><td>1264</td></tr><tr><td>Houston</td><td>Bus./financial</td><td>1237</td></tr><tr><td>Houston</td><td>Comedy-drama</td><td>1214</td></tr><tr><td>Houston</td><td>Romance-comedy</td><td>1205</td></tr><tr><td>Houston</td><td>Weather</td><td>1196</td></tr><tr><td>Houston</td><td>Golf</td><td>970</td></tr><tr><td>Houston</td><td>Fashion</td><td>929</td></tr><tr><td>Houston</td><td>Historical drama</td><td>851</td></tr><tr><td>Houston</td><td>Auto</td><td>773</td></tr><tr><td>Houston</td><td>Awards</td><td>767</td></tr><tr><td>Houston</td><td>Biography</td><td>756</td></tr><tr><td>Houston</td><td>Western</td><td>755</td></tr><tr><td>Houston</td><td>Auto racing</td><td>754</td></tr><tr><td>Houston</td><td>War</td><td>749</td></tr><tr><td>Houston</td><td>Football</td><td>708</td></tr><tr><td>Houston</td><td>Docudrama</td><td>659</td></tr><tr><td>Houston</td><td>Health</td><td>564</td></tr><tr><td>Houston</td><td>Musical</td><td>562</td></tr><tr><td>Houston</td><td>Spanish</td><td>533</td></tr><tr><td>Houston</td><td>Collectibles</td><td>515</td></tr><tr><td>Houston</td><td>Parenting</td><td>502</td></tr><tr><td>Houston</td><td>Variety</td><td>496</td></tr><tr><td>Houston</td><td>Art</td><td>429</td></tr><tr><td>Houston</td><td>Fishing</td><td>421</td></tr><tr><td>Houston</td><td>Community</td><td>416</td></tr><tr><td>Houston</td><td>Auction</td><td>336</td></tr><tr><td>Houston</td><td>Hunting</td><td>320</td></tr><tr><td>Houston</td><td>Pro wrestling</td><td>317</td></tr><tr><td>Houston</td><td>Technology</td><td>317</td></tr><tr><td>Houston</td><td>Anthology</td><td>292</td></tr><tr><td>Houston</td><td>Soccer</td><td>288</td></tr><tr><td>Houston</td><td>Dance</td><td>256</td></tr><tr><td>Houston</td><td>Hockey</td><td>254</td></tr><tr><td>Houston</td><td>Aviation</td><td>236</td></tr><tr><td>Houston</td><td>Mixed martial arts</td><td>229</td></tr><tr><td>Houston</td><td>Baseball</td><td>174</td></tr><tr><td>Houston</td><td>Military</td><td>168</td></tr><tr><td>Houston</td><td>Adults only</td><td>145</td></tr><tr><td>Houston</td><td>Dog show</td><td>140</td></tr><tr><td>Houston</td><td>Exercise</td><td>136</td></tr><tr><td>Houston</td><td>Gymnastics</td><td>134</td></tr><tr><td>Houston</td><td>Figure skating</td><td>131</td></tr><tr><td>Houston</td><td>Martial arts</td><td>113</td></tr><tr><td>Houston</td><td>Self improvement</td><td>105</td></tr><tr><td>Houston</td><td>Musical comedy</td><td>100</td></tr><tr><td>Houston</td><td>Standup</td><td>92</td></tr><tr><td>Houston</td><td>Action sports</td><td>92</td></tr><tr><td>Houston</td><td>Environment</td><td>89</td></tr><tr><td>Houston</td><td>Softball</td><td>87</td></tr><tr><td>Houston</td><td>Shooting</td><td>87</td></tr><tr><td>Houston</td><td>Skiing</td><td>81</td></tr><tr><td>Houston</td><td>Anime</td><td>73</td></tr><tr><td>Houston</td><td>Boxing</td><td>66</td></tr><tr><td>Houston</td><td>Arts/crafts</td><td>62</td></tr><tr><td>Houston</td><td>Rodeo</td><td>62</td></tr><tr><td>Houston</td><td>Rugby</td><td>53</td></tr><tr><td>Houston</td><td>Agriculture</td><td>49</td></tr><tr><td>Houston</td><td>Motorcycle racing</td><td>46</td></tr><tr><td>Houston</td><td>Wrestling</td><td>42</td></tr><tr><td>Houston</td><td>Motorcycle</td><td>37</td></tr><tr><td>Houston</td><td>Bowling</td><td>34</td></tr><tr><td>Houston</td><td>Drag racing</td><td>29</td></tr><tr><td>Houston</td><td>Motorsports</td><td>27</td></tr><tr><td>Houston</td><td>Performing arts</td><td>25</td></tr><tr><td>Houston</td><td>Miniseries</td><td>25</td></tr><tr><td>Houston</td><td>Card games</td><td>23</td></tr><tr><td>Houston</td><td>Track/field</td><td>23</td></tr><tr><td>Houston</td><td>Curling</td><td>22</td></tr><tr><td>Houston</td><td>Poker</td><td>21</td></tr><tr><td>Houston</td><td>Gay/lesbian</td><td>18</td></tr><tr><td>Houston</td><td>Luge</td><td>17</td></tr><tr><td>Houston</td><td>Equestrian</td><td>15</td></tr><tr><td>Houston</td><td>Archery</td><td>12</td></tr><tr><td>Houston</td><td>Intl soccer</td><td>8</td></tr><tr><td>Houston</td><td>Computers</td><td>8</td></tr><tr><td>Houston</td><td>Yacht racing</td><td>7</td></tr><tr><td>Houston</td><td>Cricket</td><td>7</td></tr><tr><td>Houston</td><td>Snowboarding</td><td>6</td></tr><tr><td>Houston</td><td>Boat racing</td><td>5</td></tr><tr><td>Houston</td><td>Snowmobile</td><td>4</td></tr><tr><td>Houston</td><td>Playoff sports</td><td>4</td></tr><tr><td>Houston</td><td>Event</td><td>3</td></tr><tr><td>Houston</td><td>Horse</td><td>3</td></tr><tr><td>Houston</td><td>Bicycle racing</td><td>2</td></tr><tr><td>Houston</td><td>Lacrosse</td><td>2</td></tr><tr><td>Houston</td><td>Tennis</td><td>2</td></tr><tr><td>Houston</td><td>Music special</td><td>2</td></tr><tr><td>Houston</td><td>Holiday special</td><td>2</td></tr><tr><td>Houston</td><td>Speed skating</td><td>2</td></tr><tr><td>Houston</td><td>Watersports</td><td>1</td></tr><tr><td>Houston</td><td>Running</td><td>1</td></tr><tr><td>Houston</td><td>Kayaking</td><td>1</td></tr><tr><td>Houston</td><td>Cheerleading</td><td>1</td></tr><tr><td>Sacramnto-Stkton-Modesto</td><td>News</td><td>6145</td></tr><tr><td>Sacramnto-Stkton-Modesto</td><td>Reality</td><td>5897</td></tr><tr><td>Sacramnto-Stkton-Modesto</td><td>Comedy</td><td>5238</td></tr><tr><td>Sacramnto-Stkton-Modesto</td><td>Talk</td><td>5085</td></tr><tr><td>Sacramnto-Stkton-Modesto</td><td>Sitcom</td><td>4904</td></tr><tr><td>Sacramnto-Stkton-Modesto</td><td>Drama</td><td>4700</td></tr><tr><td>Sacramnto-Stkton-Modesto</td><td>Adventure</td><td>4053</td></tr><tr><td>Sacramnto-Stkton-Modesto</td><td>Action</td><td>3723</td></tr><tr><td>Sacramnto-Stkton-Modesto</td><td>Entertainment</td><td>3651</td></tr><tr><td>Sacramnto-Stkton-Modesto</td><td>Documentary</td><td>3632</td></tr><tr><td>Sacramnto-Stkton-Modesto</td><td>Crime drama</td><td>3582</td></tr><tr><td>Sacramnto-Stkton-Modesto</td><td>Consumer</td><td>3217</td></tr><tr><td>Sacramnto-Stkton-Modesto</td><td>Animated</td><td>3029</td></tr><tr><td>Sacramnto-Stkton-Modesto</td><td>Children</td><td>2909</td></tr><tr><td>Sacramnto-Stkton-Modesto</td><td>Newsmagazine</td><td>2854</td></tr><tr><td>Sacramnto-Stkton-Modesto</td><td>Suspense</td><td>2801</td></tr><tr><td>Sacramnto-Stkton-Modesto</td><td>Fantasy</td><td>2728</td></tr><tr><td>Sacramnto-Stkton-Modesto</td><td>Crime</td><td>2683</td></tr><tr><td>Sacramnto-Stkton-Modesto</td><td>Special</td><td>2662</td></tr><tr><td>Sacramnto-Stkton-Modesto</td><td>Mystery</td><td>2465</td></tr><tr><td>Sacramnto-Stkton-Modesto</td><td>Sports event</td><td>2459</td></tr><tr><td>Sacramnto-Stkton-Modesto</td><td>Sports non-event</td><td>2414</td></tr><tr><td>Sacramnto-Stkton-Modesto</td><td>Music</td><td>2136</td></tr><tr><td>Sacramnto-Stkton-Modesto</td><td>House/garden</td><td>2009</td></tr><tr><td>Sacramnto-Stkton-Modesto</td><td>Law</td><td>1998</td></tr><tr><td>Sacramnto-Stkton-Modesto</td><td>Game show</td><td>1954</td></tr><tr><td>Sacramnto-Stkton-Modesto</td><td>Science fiction</td><td>1909</td></tr><tr><td>Sacramnto-Stkton-Modesto</td><td>Travel</td><td>1892</td></tr><tr><td>Sacramnto-Stkton-Modesto</td><td>Cooking</td><td>1836</td></tr><tr><td>Sacramnto-Stkton-Modesto</td><td>Shopping</td><td>1721</td></tr><tr><td>Sacramnto-Stkton-Modesto</td><td>Educational</td><td>1640</td></tr><tr><td>Sacramnto-Stkton-Modesto</td><td>Interview</td><td>1603</td></tr><tr><td>Sacramnto-Stkton-Modesto</td><td>Basketball</td><td>1540</td></tr><tr><td>Sacramnto-Stkton-Modesto</td><td>Romance</td><td>1497</td></tr><tr><td>Sacramnto-Stkton-Modesto</td><td>Public affairs</td><td>1446</td></tr><tr><td>Sacramnto-Stkton-Modesto</td><td>Sports talk</td><td>1373</td></tr><tr><td>Sacramnto-Stkton-Modesto</td><td>Home improvement</td><td>1341</td></tr><tr><td>Sacramnto-Stkton-Modesto</td><td>Comedy-drama</td><td>1313</td></tr><tr><td>Sacramnto-Stkton-Modesto</td><td>Horror</td><td>1261</td></tr><tr><td>Sacramnto-Stkton-Modesto</td><td>Romance-comedy</td><td>1255</td></tr><tr><td>Sacramnto-Stkton-Modesto</td><td>Politics</td><td>1249</td></tr><tr><td>Sacramnto-Stkton-Modesto</td><td>How-to</td><td>1246</td></tr><tr><td>Sacramnto-Stkton-Modesto</td><td>Animals</td><td>1243</td></tr><tr><td>Sacramnto-Stkton-Modesto</td><td>Western</td><td>1176</td></tr><tr><td>Sacramnto-Stkton-Modesto</td><td>Outdoors</td><td>1126</td></tr><tr><td>Sacramnto-Stkton-Modesto</td><td>Medical</td><td>1090</td></tr><tr><td>Sacramnto-Stkton-Modesto</td><td>Bus./financial</td><td>1000</td></tr><tr><td>Sacramnto-Stkton-Modesto</td><td>Soap</td><td>970</td></tr><tr><td>Sacramnto-Stkton-Modesto</td><td>History</td><td>957</td></tr><tr><td>Sacramnto-Stkton-Modesto</td><td>Nature</td><td>910</td></tr><tr><td>Sacramnto-Stkton-Modesto</td><td>Paranormal</td><td>872</td></tr><tr><td>Sacramnto-Stkton-Modesto</td><td>Health</td><td>868</td></tr><tr><td>Sacramnto-Stkton-Modesto</td><td>Historical drama</td><td>820</td></tr><tr><td>Sacramnto-Stkton-Modesto</td><td>Science</td><td>814</td></tr><tr><td>Sacramnto-Stkton-Modesto</td><td>Golf</td><td>752</td></tr><tr><td>Sacramnto-Stkton-Modesto</td><td>Fashion</td><td>735</td></tr><tr><td>Sacramnto-Stkton-Modesto</td><td>Religious</td><td>677</td></tr><tr><td>Sacramnto-Stkton-Modesto</td><td>Auto</td><td>660</td></tr><tr><td>Sacramnto-Stkton-Modesto</td><td>Biography</td><td>646</td></tr><tr><td>Sacramnto-Stkton-Modesto</td><td>Awards</td><td>636</td></tr><tr><td>Sacramnto-Stkton-Modesto</td><td>Docudrama</td><td>635</td></tr><tr><td>Sacramnto-Stkton-Modesto</td><td>War</td><td>612</td></tr><tr><td>Sacramnto-Stkton-Modesto</td><td>Auto racing</td><td>567</td></tr><tr><td>Sacramnto-Stkton-Modesto</td><td>Weather</td><td>518</td></tr><tr><td>Sacramnto-Stkton-Modesto</td><td>Musical</td><td>512</td></tr><tr><td>Sacramnto-Stkton-Modesto</td><td>Variety</td><td>506</td></tr><tr><td>Sacramnto-Stkton-Modesto</td><td>Football</td><td>458</td></tr><tr><td>Sacramnto-Stkton-Modesto</td><td>Community</td><td>427</td></tr><tr><td>Sacramnto-Stkton-Modesto</td><td>Hockey</td><td>417</td></tr><tr><td>Sacramnto-Stkton-Modesto</td><td>Collectibles</td><td>400</td></tr><tr><td>Sacramnto-Stkton-Modesto</td><td>Fishing</td><td>367</td></tr><tr><td>Sacramnto-Stkton-Modesto</td><td>Parenting</td><td>365</td></tr><tr><td>Sacramnto-Stkton-Modesto</td><td>Anthology</td><td>342</td></tr><tr><td>Sacramnto-Stkton-Modesto</td><td>Soccer</td><td>309</td></tr><tr><td>Sacramnto-Stkton-Modesto</td><td>Art</td><td>307</td></tr><tr><td>Sacramnto-Stkton-Modesto</td><td>Spanish</td><td>297</td></tr><tr><td>Sacramnto-Stkton-Modesto</td><td>Mixed martial arts</td><td>270</td></tr><tr><td>Sacramnto-Stkton-Modesto</td><td>Pro wrestling</td><td>252</td></tr><tr><td>Sacramnto-Stkton-Modesto</td><td>Auction</td><td>250</td></tr><tr><td>Sacramnto-Stkton-Modesto</td><td>Musical comedy</td><td>240</td></tr><tr><td>Sacramnto-Stkton-Modesto</td><td>Hunting</td><td>222</td></tr><tr><td>Sacramnto-Stkton-Modesto</td><td>Baseball</td><td>222</td></tr><tr><td>Sacramnto-Stkton-Modesto</td><td>Dog show</td><td>213</td></tr><tr><td>Sacramnto-Stkton-Modesto</td><td>Action sports</td><td>196</td></tr><tr><td>Sacramnto-Stkton-Modesto</td><td>Technology</td><td>193</td></tr><tr><td>Sacramnto-Stkton-Modesto</td><td>Dance</td><td>164</td></tr><tr><td>Sacramnto-Stkton-Modesto</td><td>Martial arts</td><td>152</td></tr><tr><td>Sacramnto-Stkton-Modesto</td><td>Adults only</td><td>150</td></tr><tr><td>Sacramnto-Stkton-Modesto</td><td>Standup</td><td>149</td></tr><tr><td>Sacramnto-Stkton-Modesto</td><td>Boxing</td><td>140</td></tr><tr><td>Sacramnto-Stkton-Modesto</td><td>Figure skating</td><td>102</td></tr><tr><td>Sacramnto-Stkton-Modesto</td><td>Skiing</td><td>100</td></tr><tr><td>Sacramnto-Stkton-Modesto</td><td>Exercise</td><td>97</td></tr><tr><td>Sacramnto-Stkton-Modesto</td><td>Military</td><td>96</td></tr><tr><td>Sacramnto-Stkton-Modesto</td><td>Self improvement</td><td>90</td></tr><tr><td>Sacramnto-Stkton-Modesto</td><td>Aviation</td><td>90</td></tr><tr><td>Sacramnto-Stkton-Modesto</td><td>Card games</td><td>86</td></tr><tr><td>Sacramnto-Stkton-Modesto</td><td>Poker</td><td>84</td></tr><tr><td>Sacramnto-Stkton-Modesto</td><td>Gymnastics</td><td>81</td></tr><tr><td>Sacramnto-Stkton-Modesto</td><td>Anime</td><td>72</td></tr><tr><td>Sacramnto-Stkton-Modesto</td><td>Rugby</td><td>71</td></tr><tr><td>Sacramnto-Stkton-Modesto</td><td>Tennis</td><td>70</td></tr><tr><td>Sacramnto-Stkton-Modesto</td><td>Motorcycle</td><td>50</td></tr><tr><td>Sacramnto-Stkton-Modesto</td><td>Environment</td><td>48</td></tr><tr><td>Sacramnto-Stkton-Modesto</td><td>Performing arts</td><td>43</td></tr><tr><td>Sacramnto-Stkton-Modesto</td><td>Drag racing</td><td>43</td></tr><tr><td>Sacramnto-Stkton-Modesto</td><td>Shooting</td><td>41</td></tr><tr><td>Sacramnto-Stkton-Modesto</td><td>Miniseries</td><td>39</td></tr><tr><td>Sacramnto-Stkton-Modesto</td><td>Agriculture</td><td>37</td></tr><tr><td>Sacramnto-Stkton-Modesto</td><td>Gay/lesbian</td><td>32</td></tr><tr><td>Sacramnto-Stkton-Modesto</td><td>Snowboarding</td><td>32</td></tr><tr><td>Sacramnto-Stkton-Modesto</td><td>Wrestling</td><td>28</td></tr><tr><td>Sacramnto-Stkton-Modesto</td><td>Rodeo</td><td>27</td></tr><tr><td>Sacramnto-Stkton-Modesto</td><td>Motorcycle racing</td><td>26</td></tr><tr><td>Sacramnto-Stkton-Modesto</td><td>Swimming</td><td>19</td></tr><tr><td>Sacramnto-Stkton-Modesto</td><td>Arts/crafts</td><td>18</td></tr><tr><td>Sacramnto-Stkton-Modesto</td><td>Computers</td><td>15</td></tr><tr><td>Sacramnto-Stkton-Modesto</td><td>Curling</td><td>15</td></tr><tr><td>Sacramnto-Stkton-Modesto</td><td>Track/field</td><td>14</td></tr><tr><td>Sacramnto-Stkton-Modesto</td><td>Intl soccer</td><td>14</td></tr><tr><td>Sacramnto-Stkton-Modesto</td><td>Bowling</td><td>14</td></tr><tr><td>Sacramnto-Stkton-Modesto</td><td>Volleyball</td><td>13</td></tr><tr><td>Sacramnto-Stkton-Modesto</td><td>Music special</td><td>12</td></tr><tr><td>Sacramnto-Stkton-Modesto</td><td>Running</td><td>11</td></tr><tr><td>Sacramnto-Stkton-Modesto</td><td>Motorsports</td><td>9</td></tr><tr><td>Sacramnto-Stkton-Modesto</td><td>Cricket</td><td>9</td></tr><tr><td>Sacramnto-Stkton-Modesto</td><td>Horse</td><td>9</td></tr><tr><td>Sacramnto-Stkton-Modesto</td><td>Archery</td><td>8</td></tr><tr><td>Sacramnto-Stkton-Modesto</td><td>Watersports</td><td>8</td></tr><tr><td>Sacramnto-Stkton-Modesto</td><td>Debate</td><td>8</td></tr><tr><td>Sacramnto-Stkton-Modesto</td><td>Lacrosse</td><td>8</td></tr><tr><td>Sacramnto-Stkton-Modesto</td><td>Bicycle racing</td><td>7</td></tr><tr><td>Sacramnto-Stkton-Modesto</td><td>Snowmobile</td><td>7</td></tr><tr><td>Sacramnto-Stkton-Modesto</td><td>Yacht racing</td><td>5</td></tr><tr><td>Sacramnto-Stkton-Modesto</td><td>Equestrian</td><td>4</td></tr><tr><td>Sacramnto-Stkton-Modesto</td><td>Diving</td><td>4</td></tr><tr><td>Sacramnto-Stkton-Modesto</td><td>Surfing</td><td>4</td></tr><tr><td>Sacramnto-Stkton-Modesto</td><td>Playoff sports</td><td>3</td></tr><tr><td>Sacramnto-Stkton-Modesto</td><td>Boat racing</td><td>3</td></tr><tr><td>Sacramnto-Stkton-Modesto</td><td>Kayaking</td><td>3</td></tr><tr><td>Sacramnto-Stkton-Modesto</td><td>Mountain biking</td><td>2</td></tr><tr><td>Sacramnto-Stkton-Modesto</td><td>Speed skating</td><td>2</td></tr><tr><td>Sacramnto-Stkton-Modesto</td><td>Event</td><td>2</td></tr><tr><td>Sacramnto-Stkton-Modesto</td><td>Luge</td><td>2</td></tr><tr><td>Sacramnto-Stkton-Modesto</td><td>Holiday</td><td>1</td></tr><tr><td>Sacramnto-Stkton-Modesto</td><td>Cheerleading</td><td>1</td></tr><tr><td>Sacramnto-Stkton-Modesto</td><td>Softball</td><td>1</td></tr><tr><td>Sacramnto-Stkton-Modesto</td><td>Water polo</td><td>1</td></tr><tr><td>Sacramnto-Stkton-Modesto</td><td>Bobsled</td><td>1</td></tr><tr><td>Sacramnto-Stkton-Modesto</td><td>Darts</td><td>1</td></tr><tr><td>Sacramnto-Stkton-Modesto</td><td>Triathlon</td><td>1</td></tr><tr><td>Sacramnto-Stkton-Modesto</td><td>Skeleton</td><td>1</td></tr><tr><td>San Francisco-Oak-San Jose</td><td>Reality</td><td>190</td></tr><tr><td>San Francisco-Oak-San Jose</td><td>News</td><td>166</td></tr><tr><td>San Francisco-Oak-San Jose</td><td>Comedy</td><td>147</td></tr><tr><td>San Francisco-Oak-San Jose</td><td>Music</td><td>146</td></tr><tr><td>San Francisco-Oak-San Jose</td><td>Sitcom</td><td>143</td></tr><tr><td>San Francisco-Oak-San Jose</td><td>Talk</td><td>136</td></tr><tr><td>San Francisco-Oak-San Jose</td><td>Drama</td><td>128</td></tr><tr><td>San Francisco-Oak-San Jose</td><td>Documentary</td><td>127</td></tr><tr><td>San Francisco-Oak-San Jose</td><td>Adventure</td><td>116</td></tr><tr><td>San Francisco-Oak-San Jose</td><td>Children</td><td>107</td></tr><tr><td>San Francisco-Oak-San Jose</td><td>Action</td><td>102</td></tr><tr><td>San Francisco-Oak-San Jose</td><td>Entertainment</td><td>95</td></tr><tr><td>San Francisco-Oak-San Jose</td><td>Consumer</td><td>95</td></tr><tr><td>San Francisco-Oak-San Jose</td><td>Animated</td><td>92</td></tr><tr><td>San Francisco-Oak-San Jose</td><td>Crime</td><td>85</td></tr><tr><td>San Francisco-Oak-San Jose</td><td>Sports non-event</td><td>83</td></tr><tr><td>San Francisco-Oak-San Jose</td><td>Sports event</td><td>79</td></tr><tr><td>San Francisco-Oak-San Jose</td><td>Educational</td><td>79</td></tr><tr><td>San Francisco-Oak-San Jose</td><td>Crime drama</td><td>77</td></tr><tr><td>San Francisco-Oak-San Jose</td><td>Fantasy</td><td>71</td></tr><tr><td>San Francisco-Oak-San Jose</td><td>Special</td><td>69</td></tr><tr><td>San Francisco-Oak-San Jose</td><td>Newsmagazine</td><td>67</td></tr><tr><td>San Francisco-Oak-San Jose</td><td>Suspense</td><td>63</td></tr><tr><td>San Francisco-Oak-San Jose</td><td>Shopping</td><td>62</td></tr><tr><td>San Francisco-Oak-San Jose</td><td>Law</td><td>59</td></tr><tr><td>San Francisco-Oak-San Jose</td><td>House/garden</td><td>59</td></tr><tr><td>San Francisco-Oak-San Jose</td><td>Cooking</td><td>58</td></tr><tr><td>San Francisco-Oak-San Jose</td><td>Mystery</td><td>57</td></tr><tr><td>San Francisco-Oak-San Jose</td><td>Game show</td><td>56</td></tr><tr><td>San Francisco-Oak-San Jose</td><td>Science fiction</td><td>52</td></tr><tr><td>San Francisco-Oak-San Jose</td><td>Basketball</td><td>50</td></tr><tr><td>San Francisco-Oak-San Jose</td><td>Travel</td><td>48</td></tr><tr><td>San Francisco-Oak-San Jose</td><td>Animals</td><td>44</td></tr><tr><td>San Francisco-Oak-San Jose</td><td>Science</td><td>43</td></tr><tr><td>San Francisco-Oak-San Jose</td><td>How-to</td><td>42</td></tr><tr><td>San Francisco-Oak-San Jose</td><td>Sports talk</td><td>41</td></tr><tr><td>San Francisco-Oak-San Jose</td><td>Home improvement</td><td>41</td></tr><tr><td>San Francisco-Oak-San Jose</td><td>Comedy-drama</td><td>38</td></tr><tr><td>San Francisco-Oak-San Jose</td><td>Interview</td><td>38</td></tr><tr><td>San Francisco-Oak-San Jose</td><td>Soap</td><td>37</td></tr><tr><td>San Francisco-Oak-San Jose</td><td>Public affairs</td><td>36</td></tr><tr><td>San Francisco-Oak-San Jose</td><td>Outdoors</td><td>33</td></tr><tr><td>San Francisco-Oak-San Jose</td><td>Nature</td><td>33</td></tr><tr><td>San Francisco-Oak-San Jose</td><td>Religious</td><td>33</td></tr><tr><td>San Francisco-Oak-San Jose</td><td>Romance</td><td>32</td></tr><tr><td>San Francisco-Oak-San Jose</td><td>Spanish</td><td>31</td></tr><tr><td>San Francisco-Oak-San Jose</td><td>Romance-comedy</td><td>30</td></tr><tr><td>San Francisco-Oak-San Jose</td><td>Bus./financial</td><td>29</td></tr><tr><td>San Francisco-Oak-San Jose</td><td>Politics</td><td>28</td></tr><tr><td>San Francisco-Oak-San Jose</td><td>History</td><td>27</td></tr><tr><td>San Francisco-Oak-San Jose</td><td>Horror</td><td>27</td></tr><tr><td>San Francisco-Oak-San Jose</td><td>Medical</td><td>25</td></tr><tr><td>San Francisco-Oak-San Jose</td><td>Historical drama</td><td>24</td></tr><tr><td>San Francisco-Oak-San Jose</td><td>Variety</td><td>24</td></tr><tr><td>San Francisco-Oak-San Jose</td><td>Auto</td><td>22</td></tr><tr><td>San Francisco-Oak-San Jose</td><td>Fashion</td><td>22</td></tr><tr><td>San Francisco-Oak-San Jose</td><td>Paranormal</td><td>22</td></tr><tr><td>San Francisco-Oak-San Jose</td><td>Western</td><td>20</td></tr><tr><td>San Francisco-Oak-San Jose</td><td>Football</td><td>20</td></tr><tr><td>San Francisco-Oak-San Jose</td><td>Musical</td><td>19</td></tr><tr><td>San Francisco-Oak-San Jose</td><td>Weather</td><td>19</td></tr><tr><td>San Francisco-Oak-San Jose</td><td>Health</td><td>18</td></tr><tr><td>San Francisco-Oak-San Jose</td><td>Community</td><td>15</td></tr><tr><td>San Francisco-Oak-San Jose</td><td>Auto racing</td><td>15</td></tr><tr><td>San Francisco-Oak-San Jose</td><td>Docudrama</td><td>14</td></tr><tr><td>San Francisco-Oak-San Jose</td><td>Biography</td><td>13</td></tr><tr><td>San Francisco-Oak-San Jose</td><td>Parenting</td><td>13</td></tr><tr><td>San Francisco-Oak-San Jose</td><td>War</td><td>12</td></tr><tr><td>San Francisco-Oak-San Jose</td><td>Hockey</td><td>12</td></tr><tr><td>San Francisco-Oak-San Jose</td><td>Soccer</td><td>11</td></tr><tr><td>San Francisco-Oak-San Jose</td><td>Golf</td><td>11</td></tr><tr><td>San Francisco-Oak-San Jose</td><td>Fishing</td><td>10</td></tr><tr><td>San Francisco-Oak-San Jose</td><td>Art</td><td>9</td></tr><tr><td>San Francisco-Oak-San Jose</td><td>Technology</td><td>8</td></tr><tr><td>San Francisco-Oak-San Jose</td><td>Musical comedy</td><td>8</td></tr><tr><td>San Francisco-Oak-San Jose</td><td>Auction</td><td>8</td></tr><tr><td>San Francisco-Oak-San Jose</td><td>Collectibles</td><td>8</td></tr><tr><td>San Francisco-Oak-San Jose</td><td>Action sports</td><td>7</td></tr><tr><td>San Francisco-Oak-San Jose</td><td>Anthology</td><td>7</td></tr><tr><td>San Francisco-Oak-San Jose</td><td>Baseball</td><td>6</td></tr><tr><td>San Francisco-Oak-San Jose</td><td>Standup</td><td>6</td></tr><tr><td>San Francisco-Oak-San Jose</td><td>Boxing</td><td>5</td></tr><tr><td>San Francisco-Oak-San Jose</td><td>Dance</td><td>5</td></tr><tr><td>San Francisco-Oak-San Jose</td><td>Exercise</td><td>5</td></tr><tr><td>San Francisco-Oak-San Jose</td><td>Mixed martial arts</td><td>5</td></tr><tr><td>San Francisco-Oak-San Jose</td><td>Dog show</td><td>4</td></tr><tr><td>San Francisco-Oak-San Jose</td><td>Pro wrestling</td><td>4</td></tr><tr><td>San Francisco-Oak-San Jose</td><td>Anime</td><td>4</td></tr><tr><td>San Francisco-Oak-San Jose</td><td>Awards</td><td>4</td></tr><tr><td>San Francisco-Oak-San Jose</td><td>Card games</td><td>3</td></tr><tr><td>San Francisco-Oak-San Jose</td><td>Adults only</td><td>3</td></tr><tr><td>San Francisco-Oak-San Jose</td><td>Poker</td><td>3</td></tr><tr><td>San Francisco-Oak-San Jose</td><td>Skiing</td><td>3</td></tr><tr><td>San Francisco-Oak-San Jose</td><td>Computers</td><td>3</td></tr><tr><td>San Francisco-Oak-San Jose</td><td>Wrestling</td><td>3</td></tr><tr><td>San Francisco-Oak-San Jose</td><td>Military</td><td>2</td></tr><tr><td>San Francisco-Oak-San Jose</td><td>Snowboarding</td><td>2</td></tr><tr><td>San Francisco-Oak-San Jose</td><td>Rugby</td><td>2</td></tr><tr><td>San Francisco-Oak-San Jose</td><td>Aviation</td><td>2</td></tr><tr><td>San Francisco-Oak-San Jose</td><td>Tennis</td><td>2</td></tr><tr><td>San Francisco-Oak-San Jose</td><td>Gymnastics</td><td>2</td></tr><tr><td>San Francisco-Oak-San Jose</td><td>Gay/lesbian</td><td>2</td></tr><tr><td>San Francisco-Oak-San Jose</td><td>Martial arts</td><td>2</td></tr><tr><td>San Francisco-Oak-San Jose</td><td>Swimming</td><td>2</td></tr><tr><td>San Francisco-Oak-San Jose</td><td>Arts/crafts</td><td>2</td></tr><tr><td>San Francisco-Oak-San Jose</td><td>Performing arts</td><td>1</td></tr><tr><td>San Francisco-Oak-San Jose</td><td>Watersports</td><td>1</td></tr><tr><td>San Francisco-Oak-San Jose</td><td>Miniseries</td><td>1</td></tr><tr><td>San Francisco-Oak-San Jose</td><td>Event</td><td>1</td></tr><tr><td>San Francisco-Oak-San Jose</td><td>Triathlon</td><td>1</td></tr><tr><td>San Francisco-Oak-San Jose</td><td>Running</td><td>1</td></tr><tr><td>San Francisco-Oak-San Jose</td><td>Yacht racing</td><td>1</td></tr><tr><td>San Francisco-Oak-San Jose</td><td>Surfing</td><td>1</td></tr><tr><td>San Francisco-Oak-San Jose</td><td>Hunting</td><td>1</td></tr><tr><td>San Francisco-Oak-San Jose</td><td>Self improvement</td><td>1</td></tr><tr><td>San Francisco-Oak-San Jose</td><td>Snowmobile</td><td>1</td></tr><tr><td>San Francisco-Oak-San Jose</td><td>Bowling</td><td>1</td></tr><tr><td>San Francisco-Oak-San Jose</td><td>Motorcycle</td><td>1</td></tr><tr><td>San Francisco-Oak-San Jose</td><td>Agriculture</td><td>1</td></tr><tr><td>San Francisco-Oak-San Jose</td><td>Environment</td><td>1</td></tr><tr><td>San Francisco-Oak-San Jose</td><td>Figure skating</td><td>1</td></tr><tr><td>San Francisco-Oak-San Jose</td><td>Luge</td><td>1</td></tr><tr><td>Seattle-Tacoma</td><td>News</td><td>12180</td></tr><tr><td>Seattle-Tacoma</td><td>Reality</td><td>11519</td></tr><tr><td>Seattle-Tacoma</td><td>Talk</td><td>10190</td></tr><tr><td>Seattle-Tacoma</td><td>Comedy</td><td>10018</td></tr><tr><td>Seattle-Tacoma</td><td>Sitcom</td><td>9153</td></tr><tr><td>Seattle-Tacoma</td><td>Drama</td><td>9019</td></tr><tr><td>Seattle-Tacoma</td><td>Adventure</td><td>8262</td></tr><tr><td>Seattle-Tacoma</td><td>Documentary</td><td>7701</td></tr><tr><td>Seattle-Tacoma</td><td>Consumer</td><td>7641</td></tr><tr><td>Seattle-Tacoma</td><td>Crime drama</td><td>7507</td></tr><tr><td>Seattle-Tacoma</td><td>Action</td><td>7420</td></tr><tr><td>Seattle-Tacoma</td><td>Entertainment</td><td>6447</td></tr><tr><td>Seattle-Tacoma</td><td>Suspense</td><td>5579</td></tr><tr><td>Seattle-Tacoma</td><td>Special</td><td>5564</td></tr><tr><td>Seattle-Tacoma</td><td>Animated</td><td>5479</td></tr><tr><td>Seattle-Tacoma</td><td>Children</td><td>5418</td></tr><tr><td>Seattle-Tacoma</td><td>Mystery</td><td>5387</td></tr><tr><td>Seattle-Tacoma</td><td>Crime</td><td>5215</td></tr><tr><td>Seattle-Tacoma</td><td>Fantasy</td><td>5084</td></tr><tr><td>Seattle-Tacoma</td><td>Sports non-event</td><td>4754</td></tr><tr><td>Seattle-Tacoma</td><td>House/garden</td><td>4627</td></tr><tr><td>Seattle-Tacoma</td><td>Newsmagazine</td><td>4440</td></tr><tr><td>Seattle-Tacoma</td><td>Sports event</td><td>4210</td></tr><tr><td>Seattle-Tacoma</td><td>Travel</td><td>4085</td></tr><tr><td>Seattle-Tacoma</td><td>Science fiction</td><td>4023</td></tr><tr><td>Seattle-Tacoma</td><td>Music</td><td>4000</td></tr><tr><td>Seattle-Tacoma</td><td>Cooking</td><td>3854</td></tr><tr><td>Seattle-Tacoma</td><td>Shopping</td><td>3838</td></tr><tr><td>Seattle-Tacoma</td><td>Educational</td><td>3829</td></tr><tr><td>Seattle-Tacoma</td><td>Law</td><td>3772</td></tr><tr><td>Seattle-Tacoma</td><td>Game show</td><td>3744</td></tr><tr><td>Seattle-Tacoma</td><td>Interview</td><td>3584</td></tr><tr><td>Seattle-Tacoma</td><td>How-to</td><td>3236</td></tr><tr><td>Seattle-Tacoma</td><td>Home improvement</td><td>3121</td></tr><tr><td>Seattle-Tacoma</td><td>Outdoors</td><td>3113</td></tr><tr><td>Seattle-Tacoma</td><td>Animals</td><td>2899</td></tr><tr><td>Seattle-Tacoma</td><td>Public affairs</td><td>2849</td></tr><tr><td>Seattle-Tacoma</td><td>Politics</td><td>2684</td></tr><tr><td>Seattle-Tacoma</td><td>Romance</td><td>2637</td></tr><tr><td>Seattle-Tacoma</td><td>Medical</td><td>2629</td></tr><tr><td>Seattle-Tacoma</td><td>Basketball</td><td>2608</td></tr><tr><td>Seattle-Tacoma</td><td>Horror</td><td>2579</td></tr><tr><td>Seattle-Tacoma</td><td>Sports talk</td><td>2578</td></tr><tr><td>Seattle-Tacoma</td><td>Western</td><td>2454</td></tr><tr><td>Seattle-Tacoma</td><td>Science</td><td>2289</td></tr><tr><td>Seattle-Tacoma</td><td>Nature</td><td>2267</td></tr><tr><td>Seattle-Tacoma</td><td>Comedy-drama</td><td>2191</td></tr><tr><td>Seattle-Tacoma</td><td>Religious</td><td>2186</td></tr><tr><td>Seattle-Tacoma</td><td>History</td><td>2167</td></tr><tr><td>Seattle-Tacoma</td><td>Romance-comedy</td><td>2163</td></tr><tr><td>Seattle-Tacoma</td><td>Paranormal</td><td>1978</td></tr><tr><td>Seattle-Tacoma</td><td>Bus./financial</td><td>1880</td></tr><tr><td>Seattle-Tacoma</td><td>Health</td><td>1764</td></tr><tr><td>Seattle-Tacoma</td><td>Soap</td><td>1759</td></tr><tr><td>Seattle-Tacoma</td><td>Historical drama</td><td>1677</td></tr><tr><td>Seattle-Tacoma</td><td>Auto</td><td>1590</td></tr><tr><td>Seattle-Tacoma</td><td>Fashion</td><td>1446</td></tr><tr><td>Seattle-Tacoma</td><td>Awards</td><td>1312</td></tr><tr><td>Seattle-Tacoma</td><td>War</td><td>1286</td></tr><tr><td>Seattle-Tacoma</td><td>Auto racing</td><td>1247</td></tr><tr><td>Seattle-Tacoma</td><td>Docudrama</td><td>1182</td></tr><tr><td>Seattle-Tacoma</td><td>Golf</td><td>1135</td></tr><tr><td>Seattle-Tacoma</td><td>Biography</td><td>1130</td></tr><tr><td>Seattle-Tacoma</td><td>Fishing</td><td>1107</td></tr><tr><td>Seattle-Tacoma</td><td>Community</td><td>1067</td></tr><tr><td>Seattle-Tacoma</td><td>Football</td><td>1004</td></tr><tr><td>Seattle-Tacoma</td><td>Musical</td><td>989</td></tr><tr><td>Seattle-Tacoma</td><td>Weather</td><td>957</td></tr><tr><td>Seattle-Tacoma</td><td>Anthology</td><td>800</td></tr><tr><td>Seattle-Tacoma</td><td>Parenting</td><td>772</td></tr><tr><td>Seattle-Tacoma</td><td>Hunting</td><td>765</td></tr><tr><td>Seattle-Tacoma</td><td>Collectibles</td><td>762</td></tr><tr><td>Seattle-Tacoma</td><td>Hockey</td><td>668</td></tr><tr><td>Seattle-Tacoma</td><td>Variety</td><td>627</td></tr><tr><td>Seattle-Tacoma</td><td>Mixed martial arts</td><td>551</td></tr><tr><td>Seattle-Tacoma</td><td>Art</td><td>550</td></tr><tr><td>Seattle-Tacoma</td><td>Auction</td><td>530</td></tr><tr><td>Seattle-Tacoma</td><td>Soccer</td><td>489</td></tr><tr><td>Seattle-Tacoma</td><td>Dog show</td><td>487</td></tr><tr><td>Seattle-Tacoma</td><td>Pro wrestling</td><td>469</td></tr><tr><td>Seattle-Tacoma</td><td>Technology</td><td>451</td></tr><tr><td>Seattle-Tacoma</td><td>Musical comedy</td><td>433</td></tr><tr><td>Seattle-Tacoma</td><td>Action sports</td><td>384</td></tr><tr><td>Seattle-Tacoma</td><td>Self improvement</td><td>383</td></tr><tr><td>Seattle-Tacoma</td><td>Standup</td><td>325</td></tr><tr><td>Seattle-Tacoma</td><td>Baseball</td><td>292</td></tr><tr><td>Seattle-Tacoma</td><td>Dance</td><td>286</td></tr><tr><td>Seattle-Tacoma</td><td>Military</td><td>264</td></tr><tr><td>Seattle-Tacoma</td><td>Aviation</td><td>253</td></tr><tr><td>Seattle-Tacoma</td><td>Martial arts</td><td>249</td></tr><tr><td>Seattle-Tacoma</td><td>Figure skating</td><td>244</td></tr><tr><td>Seattle-Tacoma</td><td>Adults only</td><td>202</td></tr><tr><td>Seattle-Tacoma</td><td>Gymnastics</td><td>186</td></tr><tr><td>Seattle-Tacoma</td><td>Skiing</td><td>185</td></tr><tr><td>Seattle-Tacoma</td><td>Boxing</td><td>167</td></tr><tr><td>Seattle-Tacoma</td><td>Anime</td><td>154</td></tr><tr><td>Seattle-Tacoma</td><td>Environment</td><td>148</td></tr><tr><td>Seattle-Tacoma</td><td>Card games</td><td>138</td></tr><tr><td>Seattle-Tacoma</td><td>Poker</td><td>137</td></tr><tr><td>Seattle-Tacoma</td><td>Shooting</td><td>128</td></tr><tr><td>Seattle-Tacoma</td><td>Drag racing</td><td>126</td></tr><tr><td>Seattle-Tacoma</td><td>Rugby</td><td>118</td></tr><tr><td>Seattle-Tacoma</td><td>Motorcycle</td><td>105</td></tr><tr><td>Seattle-Tacoma</td><td>Tennis</td><td>101</td></tr><tr><td>Seattle-Tacoma</td><td>Arts/crafts</td><td>100</td></tr><tr><td>Seattle-Tacoma</td><td>Motorcycle racing</td><td>85</td></tr><tr><td>Seattle-Tacoma</td><td>Performing arts</td><td>74</td></tr><tr><td>Seattle-Tacoma</td><td>Exercise</td><td>64</td></tr><tr><td>Seattle-Tacoma</td><td>Rodeo</td><td>61</td></tr><tr><td>Seattle-Tacoma</td><td>Miniseries</td><td>57</td></tr><tr><td>Seattle-Tacoma</td><td>Snowboarding</td><td>56</td></tr><tr><td>Seattle-Tacoma</td><td>Spanish</td><td>55</td></tr><tr><td>Seattle-Tacoma</td><td>Gay/lesbian</td><td>49</td></tr><tr><td>Seattle-Tacoma</td><td>Bowling</td><td>37</td></tr><tr><td>Seattle-Tacoma</td><td>Agriculture</td><td>35</td></tr><tr><td>Seattle-Tacoma</td><td>Computers</td><td>34</td></tr><tr><td>Seattle-Tacoma</td><td>Motorsports</td><td>31</td></tr><tr><td>Seattle-Tacoma</td><td>Wrestling</td><td>31</td></tr><tr><td>Seattle-Tacoma</td><td>Swimming</td><td>31</td></tr><tr><td>Seattle-Tacoma</td><td>Archery</td><td>29</td></tr><tr><td>Seattle-Tacoma</td><td>Volleyball</td><td>29</td></tr><tr><td>Seattle-Tacoma</td><td>Music special</td><td>22</td></tr><tr><td>Seattle-Tacoma</td><td>Debate</td><td>22</td></tr><tr><td>Seattle-Tacoma</td><td>Intl soccer</td><td>21</td></tr><tr><td>Seattle-Tacoma</td><td>Cricket</td><td>20</td></tr><tr><td>Seattle-Tacoma</td><td>Horse</td><td>19</td></tr><tr><td>Seattle-Tacoma</td><td>Yacht racing</td><td>18</td></tr><tr><td>Seattle-Tacoma</td><td>Curling</td><td>17</td></tr><tr><td>Seattle-Tacoma</td><td>Speed skating</td><td>16</td></tr><tr><td>Seattle-Tacoma</td><td>Snowmobile</td><td>15</td></tr><tr><td>Seattle-Tacoma</td><td>Boat</td><td>15</td></tr><tr><td>Seattle-Tacoma</td><td>Track/field</td><td>14</td></tr><tr><td>Seattle-Tacoma</td><td>Bicycle racing</td><td>14</td></tr><tr><td>Seattle-Tacoma</td><td>Watersports</td><td>14</td></tr><tr><td>Seattle-Tacoma</td><td>Luge</td><td>12</td></tr><tr><td>Seattle-Tacoma</td><td>Softball</td><td>8</td></tr><tr><td>Seattle-Tacoma</td><td>Running</td><td>8</td></tr><tr><td>Seattle-Tacoma</td><td>Kayaking</td><td>7</td></tr><tr><td>Seattle-Tacoma</td><td>Surfing</td><td>6</td></tr><tr><td>Seattle-Tacoma</td><td>Playoff sports</td><td>5</td></tr><tr><td>Seattle-Tacoma</td><td>Fundraiser</td><td>5</td></tr><tr><td>Seattle-Tacoma</td><td>Boat racing</td><td>5</td></tr><tr><td>Seattle-Tacoma</td><td>Bobsled</td><td>4</td></tr><tr><td>Seattle-Tacoma</td><td>Lacrosse</td><td>4</td></tr><tr><td>Seattle-Tacoma</td><td>Event</td><td>4</td></tr><tr><td>Seattle-Tacoma</td><td>Sailing</td><td>3</td></tr><tr><td>Seattle-Tacoma</td><td>Water polo</td><td>3</td></tr><tr><td>Seattle-Tacoma</td><td>Aerobics</td><td>3</td></tr><tr><td>Seattle-Tacoma</td><td>Diving</td><td>2</td></tr><tr><td>Seattle-Tacoma</td><td>Holiday special</td><td>2</td></tr><tr><td>Seattle-Tacoma</td><td>Holiday</td><td>2</td></tr><tr><td>Seattle-Tacoma</td><td>Cheerleading</td><td>2</td></tr><tr><td>Seattle-Tacoma</td><td>Skeleton</td><td>2</td></tr><tr><td>Seattle-Tacoma</td><td>Mountain biking</td><td>2</td></tr><tr><td>Seattle-Tacoma</td><td>Equestrian</td><td>1</td></tr><tr><td>Seattle-Tacoma</td><td>Olympics</td><td>1</td></tr><tr><td>Seattle-Tacoma</td><td>Gaming</td><td>1</td></tr></tbody></table></div>"
      ]
     },
     "metadata": {
      "application/vnd.databricks.v1+output": {
       "addedWidgets": {},
       "aggData": [],
       "aggError": "",
       "aggOverflow": false,
       "aggSchema": [],
       "aggSeriesLimitReached": false,
       "aggType": "",
       "arguments": {},
       "columnCustomDisplayInfos": {},
       "data": [
        [
         "Austin",
         "News",
         6507
        ],
        [
         "Austin",
         "Reality",
         5773
        ],
        [
         "Austin",
         "Talk",
         5564
        ],
        [
         "Austin",
         "Comedy",
         4701
        ],
        [
         "Austin",
         "Drama",
         4600
        ],
        [
         "Austin",
         "Sitcom",
         4367
        ],
        [
         "Austin",
         "Documentary",
         3920
        ],
        [
         "Austin",
         "Entertainment",
         3796
        ],
        [
         "Austin",
         "Adventure",
         3685
        ],
        [
         "Austin",
         "Action",
         3547
        ],
        [
         "Austin",
         "Crime drama",
         3518
        ],
        [
         "Austin",
         "Consumer",
         3195
        ],
        [
         "Austin",
         "Sports event",
         2727
        ],
        [
         "Austin",
         "Special",
         2725
        ],
        [
         "Austin",
         "Newsmagazine",
         2712
        ],
        [
         "Austin",
         "Suspense",
         2643
        ],
        [
         "Austin",
         "House/garden",
         2518
        ],
        [
         "Austin",
         "Sports non-event",
         2508
        ],
        [
         "Austin",
         "Mystery",
         2476
        ],
        [
         "Austin",
         "Animated",
         2460
        ],
        [
         "Austin",
         "Crime",
         2421
        ],
        [
         "Austin",
         "Children",
         2316
        ],
        [
         "Austin",
         "Fantasy",
         2299
        ],
        [
         "Austin",
         "Game show",
         2126
        ],
        [
         "Austin",
         "Interview",
         1980
        ],
        [
         "Austin",
         "Shopping",
         1931
        ],
        [
         "Austin",
         "Home improvement",
         1785
        ],
        [
         "Austin",
         "Science fiction",
         1773
        ],
        [
         "Austin",
         "Politics",
         1757
        ],
        [
         "Austin",
         "Basketball",
         1739
        ],
        [
         "Austin",
         "Public affairs",
         1730
        ],
        [
         "Austin",
         "Educational",
         1657
        ],
        [
         "Austin",
         "Law",
         1641
        ],
        [
         "Austin",
         "Music",
         1595
        ],
        [
         "Austin",
         "Travel",
         1590
        ],
        [
         "Austin",
         "Romance",
         1568
        ],
        [
         "Austin",
         "Cooking",
         1497
        ],
        [
         "Austin",
         "Sports talk",
         1399
        ],
        [
         "Austin",
         "History",
         1391
        ],
        [
         "Austin",
         "How-to",
         1321
        ],
        [
         "Austin",
         "Bus./financial",
         1248
        ],
        [
         "Austin",
         "Horror",
         1227
        ],
        [
         "Austin",
         "Medical",
         1210
        ],
        [
         "Austin",
         "Science",
         1207
        ],
        [
         "Austin",
         "Animals",
         1096
        ],
        [
         "Austin",
         "Paranormal",
         1041
        ],
        [
         "Austin",
         "Western",
         1003
        ],
        [
         "Austin",
         "Soap",
         988
        ],
        [
         "Austin",
         "Outdoors",
         968
        ],
        [
         "Austin",
         "Religious",
         959
        ],
        [
         "Austin",
         "Weather",
         948
        ],
        [
         "Austin",
         "Nature",
         934
        ],
        [
         "Austin",
         "Romance-comedy",
         890
        ],
        [
         "Austin",
         "Comedy-drama",
         884
        ],
        [
         "Austin",
         "Golf",
         806
        ],
        [
         "Austin",
         "Fashion",
         700
        ],
        [
         "Austin",
         "Historical drama",
         696
        ],
        [
         "Austin",
         "Auto racing",
         671
        ],
        [
         "Austin",
         "War",
         668
        ],
        [
         "Austin",
         "Auto",
         621
        ],
        [
         "Austin",
         "Awards",
         591
        ],
        [
         "Austin",
         "Community",
         571
        ],
        [
         "Austin",
         "Health",
         569
        ],
        [
         "Austin",
         "Variety",
         542
        ],
        [
         "Austin",
         "Biography",
         536
        ],
        [
         "Austin",
         "Docudrama",
         500
        ],
        [
         "Austin",
         "Football",
         454
        ],
        [
         "Austin",
         "Musical",
         394
        ],
        [
         "Austin",
         "Collectibles",
         369
        ],
        [
         "Austin",
         "Anthology",
         340
        ],
        [
         "Austin",
         "Parenting",
         325
        ],
        [
         "Austin",
         "Hockey",
         324
        ],
        [
         "Austin",
         "Soccer",
         303
        ],
        [
         "Austin",
         "Art",
         296
        ],
        [
         "Austin",
         "Pro wrestling",
         263
        ],
        [
         "Austin",
         "Fishing",
         241
        ],
        [
         "Austin",
         "Auction",
         233
        ],
        [
         "Austin",
         "Baseball",
         232
        ],
        [
         "Austin",
         "Dance",
         215
        ],
        [
         "Austin",
         "Mixed martial arts",
         208
        ],
        [
         "Austin",
         "Technology",
         196
        ],
        [
         "Austin",
         "Hunting",
         186
        ],
        [
         "Austin",
         "Aviation",
         161
        ],
        [
         "Austin",
         "Gymnastics",
         147
        ],
        [
         "Austin",
         "Spanish",
         142
        ],
        [
         "Austin",
         "Figure skating",
         134
        ],
        [
         "Austin",
         "Military",
         131
        ],
        [
         "Austin",
         "Dog show",
         122
        ],
        [
         "Austin",
         "Musical comedy",
         116
        ],
        [
         "Austin",
         "Environment",
         115
        ],
        [
         "Austin",
         "Martial arts",
         99
        ],
        [
         "Austin",
         "Skiing",
         91
        ],
        [
         "Austin",
         "Softball",
         81
        ],
        [
         "Austin",
         "Rodeo",
         77
        ],
        [
         "Austin",
         "Adults only",
         73
        ],
        [
         "Austin",
         "Shooting",
         63
        ],
        [
         "Austin",
         "Self improvement",
         61
        ],
        [
         "Austin",
         "Standup",
         59
        ],
        [
         "Austin",
         "Rugby",
         58
        ],
        [
         "Austin",
         "Action sports",
         57
        ],
        [
         "Austin",
         "Boxing",
         51
        ],
        [
         "Austin",
         "Anime",
         46
        ],
        [
         "Austin",
         "Motorcycle racing",
         42
        ],
        [
         "Austin",
         "Poker",
         34
        ],
        [
         "Austin",
         "Card games",
         34
        ],
        [
         "Austin",
         "Motorcycle",
         33
        ],
        [
         "Austin",
         "Agriculture",
         29
        ],
        [
         "Austin",
         "Exercise",
         28
        ],
        [
         "Austin",
         "Miniseries",
         28
        ],
        [
         "Austin",
         "Snowboarding",
         25
        ],
        [
         "Austin",
         "Bowling",
         25
        ],
        [
         "Austin",
         "Performing arts",
         21
        ],
        [
         "Austin",
         "Drag racing",
         21
        ],
        [
         "Austin",
         "Gay/lesbian",
         19
        ],
        [
         "Austin",
         "Intl soccer",
         17
        ],
        [
         "Austin",
         "Curling",
         16
        ],
        [
         "Austin",
         "Track/field",
         15
        ],
        [
         "Austin",
         "Wrestling",
         14
        ],
        [
         "Austin",
         "Playoff sports",
         14
        ],
        [
         "Austin",
         "Arts/crafts",
         12
        ],
        [
         "Austin",
         "Motorsports",
         11
        ],
        [
         "Austin",
         "Cricket",
         10
        ],
        [
         "Austin",
         "Snowmobile",
         10
        ],
        [
         "Austin",
         "Archery",
         9
        ],
        [
         "Austin",
         "Luge",
         9
        ],
        [
         "Austin",
         "Triathlon",
         8
        ],
        [
         "Austin",
         "Cheerleading",
         6
        ],
        [
         "Austin",
         "Equestrian",
         6
        ],
        [
         "Austin",
         "Computers",
         3
        ],
        [
         "Austin",
         "Event",
         3
        ],
        [
         "Austin",
         "Tennis",
         3
        ],
        [
         "Austin",
         "Volleyball",
         3
        ],
        [
         "Austin",
         "Lacrosse",
         2
        ],
        [
         "Austin",
         "Horse",
         2
        ],
        [
         "Austin",
         "Boat racing",
         2
        ],
        [
         "Austin",
         "Yacht racing",
         2
        ],
        [
         "Austin",
         "Bicycle racing",
         2
        ],
        [
         "Austin",
         "Music special",
         2
        ],
        [
         "Austin",
         "Watersports",
         1
        ],
        [
         "Austin",
         "Kayaking",
         1
        ],
        [
         "Austin",
         "Running",
         1
        ],
        [
         "Bend, OR",
         "News",
         6410
        ],
        [
         "Bend, OR",
         "Reality",
         5850
        ],
        [
         "Bend, OR",
         "Talk",
         5607
        ],
        [
         "Bend, OR",
         "Comedy",
         5303
        ],
        [
         "Bend, OR",
         "Sitcom",
         5235
        ],
        [
         "Bend, OR",
         "Drama",
         4341
        ],
        [
         "Bend, OR",
         "Adventure",
         3935
        ],
        [
         "Bend, OR",
         "Consumer",
         3908
        ],
        [
         "Bend, OR",
         "Documentary",
         3757
        ],
        [
         "Bend, OR",
         "Crime drama",
         3693
        ],
        [
         "Bend, OR",
         "Entertainment",
         3646
        ],
        [
         "Bend, OR",
         "Action",
         3439
        ],
        [
         "Bend, OR",
         "Animated",
         3233
        ],
        [
         "Bend, OR",
         "Children",
         3017
        ],
        [
         "Bend, OR",
         "Shopping",
         3015
        ],
        [
         "Bend, OR",
         "Newsmagazine",
         2871
        ],
        [
         "Bend, OR",
         "Crime",
         2645
        ],
        [
         "Bend, OR",
         "Special",
         2619
        ],
        [
         "Bend, OR",
         "Sports non-event",
         2598
        ],
        [
         "Bend, OR",
         "Mystery",
         2532
        ],
        [
         "Bend, OR",
         "Fantasy",
         2483
        ],
        [
         "Bend, OR",
         "Game show",
         2476
        ],
        [
         "Bend, OR",
         "Sports event",
         2405
        ],
        [
         "Bend, OR",
         "Suspense",
         2291
        ],
        [
         "Bend, OR",
         "House/garden",
         2194
        ],
        [
         "Bend, OR",
         "Educational",
         2165
        ],
        [
         "Bend, OR",
         "Law",
         2107
        ],
        [
         "Bend, OR",
         "Music",
         1980
        ],
        [
         "Bend, OR",
         "Travel",
         1980
        ],
        [
         "Bend, OR",
         "Public affairs",
         1957
        ],
        [
         "Bend, OR",
         "Interview",
         1788
        ],
        [
         "Bend, OR",
         "Cooking",
         1748
        ],
        [
         "Bend, OR",
         "How-to",
         1632
        ],
        [
         "Bend, OR",
         "Home improvement",
         1617
        ],
        [
         "Bend, OR",
         "Science fiction",
         1599
        ],
        [
         "Bend, OR",
         "Politics",
         1545
        ],
        [
         "Bend, OR",
         "Basketball",
         1544
        ],
        [
         "Bend, OR",
         "Outdoors",
         1541
        ],
        [
         "Bend, OR",
         "Bus./financial",
         1532
        ],
        [
         "Bend, OR",
         "Animals",
         1373
        ],
        [
         "Bend, OR",
         "Romance",
         1306
        ],
        [
         "Bend, OR",
         "Sports talk",
         1276
        ],
        [
         "Bend, OR",
         "Nature",
         1201
        ],
        [
         "Bend, OR",
         "Science",
         1187
        ],
        [
         "Bend, OR",
         "Medical",
         1150
        ],
        [
         "Bend, OR",
         "History",
         1131
        ],
        [
         "Bend, OR",
         "Health",
         1056
        ],
        [
         "Bend, OR",
         "Horror",
         1016
        ],
        [
         "Bend, OR",
         "Western",
         996
        ],
        [
         "Bend, OR",
         "Soap",
         979
        ],
        [
         "Bend, OR",
         "Romance-comedy",
         857
        ],
        [
         "Bend, OR",
         "Paranormal",
         818
        ],
        [
         "Bend, OR",
         "Weather",
         796
        ],
        [
         "Bend, OR",
         "Comedy-drama",
         722
        ],
        [
         "Bend, OR",
         "Historical drama",
         668
        ],
        [
         "Bend, OR",
         "Fashion",
         644
        ],
        [
         "Bend, OR",
         "Religious",
         628
        ],
        [
         "Bend, OR",
         "Biography",
         622
        ],
        [
         "Bend, OR",
         "Auto",
         615
        ],
        [
         "Bend, OR",
         "Auto racing",
         600
        ],
        [
         "Bend, OR",
         "War",
         584
        ],
        [
         "Bend, OR",
         "Golf",
         567
        ],
        [
         "Bend, OR",
         "Fishing",
         557
        ],
        [
         "Bend, OR",
         "Awards",
         528
        ],
        [
         "Bend, OR",
         "Docudrama",
         512
        ],
        [
         "Bend, OR",
         "Football",
         497
        ],
        [
         "Bend, OR",
         "Anthology",
         471
        ],
        [
         "Bend, OR",
         "Collectibles",
         450
        ],
        [
         "Bend, OR",
         "Hunting",
         410
        ],
        [
         "Bend, OR",
         "Musical",
         402
        ],
        [
         "Bend, OR",
         "Community",
         393
        ],
        [
         "Bend, OR",
         "Hockey",
         345
        ],
        [
         "Bend, OR",
         "Art",
         337
        ],
        [
         "Bend, OR",
         "Variety",
         325
        ],
        [
         "Bend, OR",
         "Soccer",
         315
        ],
        [
         "Bend, OR",
         "Parenting",
         292
        ],
        [
         "Bend, OR",
         "Technology",
         265
        ],
        [
         "Bend, OR",
         "Musical comedy",
         252
        ],
        [
         "Bend, OR",
         "Auction",
         241
        ],
        [
         "Bend, OR",
         "Exercise",
         230
        ],
        [
         "Bend, OR",
         "Mixed martial arts",
         214
        ],
        [
         "Bend, OR",
         "Dog show",
         208
        ],
        [
         "Bend, OR",
         "Skiing",
         203
        ],
        [
         "Bend, OR",
         "Pro wrestling",
         168
        ],
        [
         "Bend, OR",
         "Action sports",
         167
        ],
        [
         "Bend, OR",
         "Aviation",
         155
        ],
        [
         "Bend, OR",
         "Environment",
         153
        ],
        [
         "Bend, OR",
         "Military",
         149
        ],
        [
         "Bend, OR",
         "Dance",
         141
        ],
        [
         "Bend, OR",
         "Baseball",
         141
        ],
        [
         "Bend, OR",
         "Figure skating",
         128
        ],
        [
         "Bend, OR",
         "Standup",
         123
        ],
        [
         "Bend, OR",
         "Motorsports",
         120
        ],
        [
         "Bend, OR",
         "Tennis",
         114
        ],
        [
         "Bend, OR",
         "Gymnastics",
         112
        ],
        [
         "Bend, OR",
         "Motorcycle",
         105
        ],
        [
         "Bend, OR",
         "Self improvement",
         96
        ],
        [
         "Bend, OR",
         "Martial arts",
         91
        ],
        [
         "Bend, OR",
         "Horse",
         86
        ],
        [
         "Bend, OR",
         "Rugby",
         81
        ],
        [
         "Bend, OR",
         "Adults only",
         81
        ],
        [
         "Bend, OR",
         "Boxing",
         74
        ],
        [
         "Bend, OR",
         "Anime",
         72
        ],
        [
         "Bend, OR",
         "Spanish",
         70
        ],
        [
         "Bend, OR",
         "Drag racing",
         61
        ],
        [
         "Bend, OR",
         "Card games",
         54
        ],
        [
         "Bend, OR",
         "Poker",
         53
        ],
        [
         "Bend, OR",
         "Motorcycle racing",
         48
        ],
        [
         "Bend, OR",
         "Triathlon",
         43
        ],
        [
         "Bend, OR",
         "Agriculture",
         43
        ],
        [
         "Bend, OR",
         "Rodeo",
         43
        ],
        [
         "Bend, OR",
         "Shooting",
         42
        ],
        [
         "Bend, OR",
         "Swimming",
         29
        ],
        [
         "Bend, OR",
         "Snowboarding",
         28
        ],
        [
         "Bend, OR",
         "Bicycle racing",
         24
        ],
        [
         "Bend, OR",
         "Bowling",
         22
        ],
        [
         "Bend, OR",
         "Wrestling",
         22
        ],
        [
         "Bend, OR",
         "Volleyball",
         22
        ],
        [
         "Bend, OR",
         "Watersports",
         21
        ],
        [
         "Bend, OR",
         "Miniseries",
         20
        ],
        [
         "Bend, OR",
         "Gay/lesbian",
         20
        ],
        [
         "Bend, OR",
         "Intl soccer",
         19
        ],
        [
         "Bend, OR",
         "Equestrian",
         19
        ],
        [
         "Bend, OR",
         "Arts/crafts",
         18
        ],
        [
         "Bend, OR",
         "Archery",
         18
        ],
        [
         "Bend, OR",
         "Debate",
         17
        ],
        [
         "Bend, OR",
         "Performing arts",
         17
        ],
        [
         "Bend, OR",
         "Cricket",
         16
        ],
        [
         "Bend, OR",
         "Computers",
         15
        ],
        [
         "Bend, OR",
         "Luge",
         14
        ],
        [
         "Bend, OR",
         "Surfing",
         14
        ],
        [
         "Bend, OR",
         "Snowmobile",
         14
        ],
        [
         "Bend, OR",
         "Running",
         13
        ],
        [
         "Bend, OR",
         "Yacht racing",
         13
        ],
        [
         "Bend, OR",
         "Speed skating",
         12
        ],
        [
         "Bend, OR",
         "Bobsled",
         10
        ],
        [
         "Bend, OR",
         "Softball",
         8
        ],
        [
         "Bend, OR",
         "Track/field",
         8
        ],
        [
         "Bend, OR",
         "Boat racing",
         8
        ],
        [
         "Bend, OR",
         "Curling",
         7
        ],
        [
         "Bend, OR",
         "Playoff sports",
         6
        ],
        [
         "Bend, OR",
         "Skeleton",
         6
        ],
        [
         "Bend, OR",
         "Water polo",
         5
        ],
        [
         "Bend, OR",
         "Lacrosse",
         5
        ],
        [
         "Bend, OR",
         "Event",
         5
        ],
        [
         "Bend, OR",
         "Sailing",
         5
        ],
        [
         "Bend, OR",
         "Cheerleading",
         5
        ],
        [
         "Bend, OR",
         "Olympics",
         5
        ],
        [
         "Bend, OR",
         "Music special",
         3
        ],
        [
         "Bend, OR",
         "Kayaking",
         3
        ],
        [
         "Bend, OR",
         "Diving",
         2
        ],
        [
         "Detroit",
         "News",
         762
        ],
        [
         "Detroit",
         "Reality",
         741
        ],
        [
         "Detroit",
         "Talk",
         685
        ],
        [
         "Detroit",
         "Comedy",
         622
        ],
        [
         "Detroit",
         "Sitcom",
         597
        ],
        [
         "Detroit",
         "Drama",
         531
        ],
        [
         "Detroit",
         "Adventure",
         516
        ],
        [
         "Detroit",
         "Documentary",
         497
        ],
        [
         "Detroit",
         "Entertainment",
         493
        ],
        [
         "Detroit",
         "Crime drama",
         488
        ],
        [
         "Detroit",
         "Action",
         479
        ],
        [
         "Detroit",
         "Sports event",
         430
        ],
        [
         "Detroit",
         "Sports non-event",
         417
        ],
        [
         "Detroit",
         "Newsmagazine",
         399
        ],
        [
         "Detroit",
         "Suspense",
         387
        ],
        [
         "Detroit",
         "Special",
         377
        ],
        [
         "Detroit",
         "Consumer",
         366
        ],
        [
         "Detroit",
         "House/garden",
         354
        ],
        [
         "Detroit",
         "Mystery",
         330
        ],
        [
         "Detroit",
         "Crime",
         328
        ],
        [
         "Detroit",
         "Fantasy",
         313
        ],
        [
         "Detroit",
         "Animated",
         312
        ],
        [
         "Detroit",
         "Basketball",
         294
        ],
        [
         "Detroit",
         "Children",
         292
        ],
        [
         "Detroit",
         "Game show",
         274
        ],
        [
         "Detroit",
         "Home improvement",
         255
        ],
        [
         "Detroit",
         "Cooking",
         248
        ],
        [
         "Detroit",
         "Science fiction",
         247
        ],
        [
         "Detroit",
         "Outdoors",
         239
        ],
        [
         "Detroit",
         "Interview",
         236
        ],
        [
         "Detroit",
         "Sports talk",
         225
        ],
        [
         "Detroit",
         "How-to",
         224
        ],
        [
         "Detroit",
         "Law",
         223
        ],
        [
         "Detroit",
         "Music",
         209
        ],
        [
         "Detroit",
         "Shopping",
         208
        ],
        [
         "Detroit",
         "Travel",
         207
        ],
        [
         "Detroit",
         "Educational",
         207
        ],
        [
         "Detroit",
         "Romance",
         205
        ],
        [
         "Detroit",
         "Animals",
         195
        ],
        [
         "Detroit",
         "History",
         171
        ],
        [
         "Detroit",
         "Science",
         163
        ],
        [
         "Detroit",
         "Horror",
         162
        ],
        [
         "Detroit",
         "Weather",
         160
        ],
        [
         "Detroit",
         "Nature",
         159
        ],
        [
         "Detroit",
         "Auto racing",
         159
        ],
        [
         "Detroit",
         "Politics",
         155
        ],
        [
         "Detroit",
         "Public affairs",
         148
        ],
        [
         "Detroit",
         "Soap",
         146
        ],
        [
         "Detroit",
         "Romance-comedy",
         137
        ],
        [
         "Detroit",
         "Hockey",
         130
        ],
        [
         "Detroit",
         "Religious",
         128
        ],
        [
         "Detroit",
         "Golf",
         123
        ],
        [
         "Detroit",
         "Paranormal",
         121
        ],
        [
         "Detroit",
         "Variety",
         116
        ],
        [
         "Detroit",
         "Western",
         113
        ],
        [
         "Detroit",
         "Medical",
         111
        ],
        [
         "Detroit",
         "Fashion",
         109
        ],
        [
         "Detroit",
         "Bus./financial",
         108
        ],
        [
         "Detroit",
         "Comedy-drama",
         107
        ],
        [
         "Detroit",
         "Historical drama",
         101
        ],
        [
         "Detroit",
         "Auto",
         91
        ],
        [
         "Detroit",
         "Football",
         81
        ],
        [
         "Detroit",
         "Musical",
         78
        ],
        [
         "Detroit",
         "Docudrama",
         76
        ],
        [
         "Detroit",
         "Biography",
         75
        ],
        [
         "Detroit",
         "Fishing",
         74
        ],
        [
         "Detroit",
         "Awards",
         71
        ],
        [
         "Detroit",
         "Health",
         67
        ],
        [
         "Detroit",
         "War",
         67
        ],
        [
         "Detroit",
         "Collectibles",
         51
        ],
        [
         "Detroit",
         "Technology",
         48
        ],
        [
         "Detroit",
         "Hunting",
         46
        ],
        [
         "Detroit",
         "Baseball",
         41
        ],
        [
         "Detroit",
         "Parenting",
         40
        ],
        [
         "Detroit",
         "Auction",
         36
        ],
        [
         "Detroit",
         "Anthology",
         35
        ],
        [
         "Detroit",
         "Action sports",
         34
        ],
        [
         "Detroit",
         "Community",
         33
        ],
        [
         "Detroit",
         "Pro wrestling",
         33
        ],
        [
         "Detroit",
         "Mixed martial arts",
         33
        ],
        [
         "Detroit",
         "Self improvement",
         32
        ],
        [
         "Detroit",
         "Dog show",
         29
        ],
        [
         "Detroit",
         "Gymnastics",
         28
        ],
        [
         "Detroit",
         "Figure skating",
         25
        ],
        [
         "Detroit",
         "Dance",
         24
        ],
        [
         "Detroit",
         "Agriculture",
         21
        ],
        [
         "Detroit",
         "Military",
         18
        ],
        [
         "Detroit",
         "Soccer",
         18
        ],
        [
         "Detroit",
         "Art",
         18
        ],
        [
         "Detroit",
         "Aviation",
         17
        ],
        [
         "Detroit",
         "Bowling",
         16
        ],
        [
         "Detroit",
         "Musical comedy",
         16
        ],
        [
         "Detroit",
         "Martial arts",
         15
        ],
        [
         "Detroit",
         "Card games",
         13
        ],
        [
         "Detroit",
         "Poker",
         13
        ],
        [
         "Detroit",
         "Boxing",
         12
        ],
        [
         "Detroit",
         "Standup",
         11
        ],
        [
         "Detroit",
         "Adults only",
         10
        ],
        [
         "Detroit",
         "Performing arts",
         10
        ],
        [
         "Detroit",
         "Shooting",
         9
        ],
        [
         "Detroit",
         "Rugby",
         8
        ],
        [
         "Detroit",
         "Motorcycle racing",
         8
        ],
        [
         "Detroit",
         "Environment",
         8
        ],
        [
         "Detroit",
         "Spanish",
         7
        ],
        [
         "Detroit",
         "Miniseries",
         7
        ],
        [
         "Detroit",
         "Wrestling",
         7
        ],
        [
         "Detroit",
         "Anime",
         7
        ],
        [
         "Detroit",
         "Drag racing",
         6
        ],
        [
         "Detroit",
         "Swimming",
         6
        ],
        [
         "Detroit",
         "Horse",
         5
        ],
        [
         "Detroit",
         "Motorsports",
         5
        ],
        [
         "Detroit",
         "Diving",
         5
        ],
        [
         "Detroit",
         "Exercise",
         5
        ],
        [
         "Detroit",
         "Debate",
         5
        ],
        [
         "Detroit",
         "Skiing",
         4
        ],
        [
         "Detroit",
         "Luge",
         3
        ],
        [
         "Detroit",
         "Gay/lesbian",
         3
        ],
        [
         "Detroit",
         "Curling",
         3
        ],
        [
         "Detroit",
         "Running",
         2
        ],
        [
         "Detroit",
         "Arts/crafts",
         2
        ],
        [
         "Detroit",
         "Cricket",
         2
        ],
        [
         "Detroit",
         "Track/field",
         2
        ],
        [
         "Detroit",
         "Music special",
         2
        ],
        [
         "Detroit",
         "Motorcycle",
         2
        ],
        [
         "Detroit",
         "Computers",
         2
        ],
        [
         "Detroit",
         "Snowboarding",
         1
        ],
        [
         "Detroit",
         "Cheerleading",
         1
        ],
        [
         "Detroit",
         "Yacht racing",
         1
        ],
        [
         "Detroit",
         "Archery",
         1
        ],
        [
         "Detroit",
         "Softball",
         1
        ],
        [
         "Houston",
         "News",
         8147
        ],
        [
         "Houston",
         "Reality",
         7689
        ],
        [
         "Houston",
         "Talk",
         6838
        ],
        [
         "Houston",
         "Sitcom",
         6068
        ],
        [
         "Houston",
         "Comedy",
         6025
        ],
        [
         "Houston",
         "Drama",
         5655
        ],
        [
         "Houston",
         "Documentary",
         5386
        ],
        [
         "Houston",
         "Adventure",
         4924
        ],
        [
         "Houston",
         "Consumer",
         4600
        ],
        [
         "Houston",
         "Action",
         4531
        ],
        [
         "Houston",
         "Crime drama",
         4483
        ],
        [
         "Houston",
         "Entertainment",
         4417
        ],
        [
         "Houston",
         "Suspense",
         3540
        ],
        [
         "Houston",
         "Special",
         3483
        ],
        [
         "Houston",
         "Mystery",
         3336
        ],
        [
         "Houston",
         "Animated",
         3327
        ],
        [
         "Houston",
         "Newsmagazine",
         3202
        ],
        [
         "Houston",
         "Crime",
         3171
        ],
        [
         "Houston",
         "Sports non-event",
         3073
        ],
        [
         "Houston",
         "Children",
         3071
        ],
        [
         "Houston",
         "Fantasy",
         3016
        ],
        [
         "Houston",
         "House/garden",
         2925
        ],
        [
         "Houston",
         "Sports event",
         2858
        ],
        [
         "Houston",
         "Game show",
         2816
        ],
        [
         "Houston",
         "Shopping",
         2434
        ],
        [
         "Houston",
         "Interview",
         2375
        ],
        [
         "Houston",
         "Science fiction",
         2313
        ],
        [
         "Houston",
         "Travel",
         2075
        ],
        [
         "Houston",
         "Romance",
         2057
        ],
        [
         "Houston",
         "Home improvement",
         2017
        ],
        [
         "Houston",
         "Public affairs",
         1998
        ],
        [
         "Houston",
         "Politics",
         1997
        ],
        [
         "Houston",
         "Law",
         1985
        ],
        [
         "Houston",
         "History",
         1927
        ],
        [
         "Houston",
         "Educational",
         1842
        ],
        [
         "Houston",
         "Music",
         1841
        ],
        [
         "Houston",
         "How-to",
         1703
        ],
        [
         "Houston",
         "Basketball",
         1680
        ],
        [
         "Houston",
         "Religious",
         1655
        ],
        [
         "Houston",
         "Cooking",
         1653
        ],
        [
         "Houston",
         "Sports talk",
         1626
        ],
        [
         "Houston",
         "Paranormal",
         1573
        ],
        [
         "Houston",
         "Horror",
         1532
        ],
        [
         "Houston",
         "Soap",
         1506
        ],
        [
         "Houston",
         "Animals",
         1387
        ],
        [
         "Houston",
         "Outdoors",
         1339
        ],
        [
         "Houston",
         "Nature",
         1319
        ],
        [
         "Houston",
         "Science",
         1315
        ],
        [
         "Houston",
         "Medical",
         1264
        ],
        [
         "Houston",
         "Bus./financial",
         1237
        ],
        [
         "Houston",
         "Comedy-drama",
         1214
        ],
        [
         "Houston",
         "Romance-comedy",
         1205
        ],
        [
         "Houston",
         "Weather",
         1196
        ],
        [
         "Houston",
         "Golf",
         970
        ],
        [
         "Houston",
         "Fashion",
         929
        ],
        [
         "Houston",
         "Historical drama",
         851
        ],
        [
         "Houston",
         "Auto",
         773
        ],
        [
         "Houston",
         "Awards",
         767
        ],
        [
         "Houston",
         "Biography",
         756
        ],
        [
         "Houston",
         "Western",
         755
        ],
        [
         "Houston",
         "Auto racing",
         754
        ],
        [
         "Houston",
         "War",
         749
        ],
        [
         "Houston",
         "Football",
         708
        ],
        [
         "Houston",
         "Docudrama",
         659
        ],
        [
         "Houston",
         "Health",
         564
        ],
        [
         "Houston",
         "Musical",
         562
        ],
        [
         "Houston",
         "Spanish",
         533
        ],
        [
         "Houston",
         "Collectibles",
         515
        ],
        [
         "Houston",
         "Parenting",
         502
        ],
        [
         "Houston",
         "Variety",
         496
        ],
        [
         "Houston",
         "Art",
         429
        ],
        [
         "Houston",
         "Fishing",
         421
        ],
        [
         "Houston",
         "Community",
         416
        ],
        [
         "Houston",
         "Auction",
         336
        ],
        [
         "Houston",
         "Hunting",
         320
        ],
        [
         "Houston",
         "Pro wrestling",
         317
        ],
        [
         "Houston",
         "Technology",
         317
        ],
        [
         "Houston",
         "Anthology",
         292
        ],
        [
         "Houston",
         "Soccer",
         288
        ],
        [
         "Houston",
         "Dance",
         256
        ],
        [
         "Houston",
         "Hockey",
         254
        ],
        [
         "Houston",
         "Aviation",
         236
        ],
        [
         "Houston",
         "Mixed martial arts",
         229
        ],
        [
         "Houston",
         "Baseball",
         174
        ],
        [
         "Houston",
         "Military",
         168
        ],
        [
         "Houston",
         "Adults only",
         145
        ],
        [
         "Houston",
         "Dog show",
         140
        ],
        [
         "Houston",
         "Exercise",
         136
        ],
        [
         "Houston",
         "Gymnastics",
         134
        ],
        [
         "Houston",
         "Figure skating",
         131
        ],
        [
         "Houston",
         "Martial arts",
         113
        ],
        [
         "Houston",
         "Self improvement",
         105
        ],
        [
         "Houston",
         "Musical comedy",
         100
        ],
        [
         "Houston",
         "Standup",
         92
        ],
        [
         "Houston",
         "Action sports",
         92
        ],
        [
         "Houston",
         "Environment",
         89
        ],
        [
         "Houston",
         "Softball",
         87
        ],
        [
         "Houston",
         "Shooting",
         87
        ],
        [
         "Houston",
         "Skiing",
         81
        ],
        [
         "Houston",
         "Anime",
         73
        ],
        [
         "Houston",
         "Boxing",
         66
        ],
        [
         "Houston",
         "Arts/crafts",
         62
        ],
        [
         "Houston",
         "Rodeo",
         62
        ],
        [
         "Houston",
         "Rugby",
         53
        ],
        [
         "Houston",
         "Agriculture",
         49
        ],
        [
         "Houston",
         "Motorcycle racing",
         46
        ],
        [
         "Houston",
         "Wrestling",
         42
        ],
        [
         "Houston",
         "Motorcycle",
         37
        ],
        [
         "Houston",
         "Bowling",
         34
        ],
        [
         "Houston",
         "Drag racing",
         29
        ],
        [
         "Houston",
         "Motorsports",
         27
        ],
        [
         "Houston",
         "Performing arts",
         25
        ],
        [
         "Houston",
         "Miniseries",
         25
        ],
        [
         "Houston",
         "Card games",
         23
        ],
        [
         "Houston",
         "Track/field",
         23
        ],
        [
         "Houston",
         "Curling",
         22
        ],
        [
         "Houston",
         "Poker",
         21
        ],
        [
         "Houston",
         "Gay/lesbian",
         18
        ],
        [
         "Houston",
         "Luge",
         17
        ],
        [
         "Houston",
         "Equestrian",
         15
        ],
        [
         "Houston",
         "Archery",
         12
        ],
        [
         "Houston",
         "Intl soccer",
         8
        ],
        [
         "Houston",
         "Computers",
         8
        ],
        [
         "Houston",
         "Yacht racing",
         7
        ],
        [
         "Houston",
         "Cricket",
         7
        ],
        [
         "Houston",
         "Snowboarding",
         6
        ],
        [
         "Houston",
         "Boat racing",
         5
        ],
        [
         "Houston",
         "Snowmobile",
         4
        ],
        [
         "Houston",
         "Playoff sports",
         4
        ],
        [
         "Houston",
         "Event",
         3
        ],
        [
         "Houston",
         "Horse",
         3
        ],
        [
         "Houston",
         "Bicycle racing",
         2
        ],
        [
         "Houston",
         "Lacrosse",
         2
        ],
        [
         "Houston",
         "Tennis",
         2
        ],
        [
         "Houston",
         "Music special",
         2
        ],
        [
         "Houston",
         "Holiday special",
         2
        ],
        [
         "Houston",
         "Speed skating",
         2
        ],
        [
         "Houston",
         "Watersports",
         1
        ],
        [
         "Houston",
         "Running",
         1
        ],
        [
         "Houston",
         "Kayaking",
         1
        ],
        [
         "Houston",
         "Cheerleading",
         1
        ],
        [
         "Sacramnto-Stkton-Modesto",
         "News",
         6145
        ],
        [
         "Sacramnto-Stkton-Modesto",
         "Reality",
         5897
        ],
        [
         "Sacramnto-Stkton-Modesto",
         "Comedy",
         5238
        ],
        [
         "Sacramnto-Stkton-Modesto",
         "Talk",
         5085
        ],
        [
         "Sacramnto-Stkton-Modesto",
         "Sitcom",
         4904
        ],
        [
         "Sacramnto-Stkton-Modesto",
         "Drama",
         4700
        ],
        [
         "Sacramnto-Stkton-Modesto",
         "Adventure",
         4053
        ],
        [
         "Sacramnto-Stkton-Modesto",
         "Action",
         3723
        ],
        [
         "Sacramnto-Stkton-Modesto",
         "Entertainment",
         3651
        ],
        [
         "Sacramnto-Stkton-Modesto",
         "Documentary",
         3632
        ],
        [
         "Sacramnto-Stkton-Modesto",
         "Crime drama",
         3582
        ],
        [
         "Sacramnto-Stkton-Modesto",
         "Consumer",
         3217
        ],
        [
         "Sacramnto-Stkton-Modesto",
         "Animated",
         3029
        ],
        [
         "Sacramnto-Stkton-Modesto",
         "Children",
         2909
        ],
        [
         "Sacramnto-Stkton-Modesto",
         "Newsmagazine",
         2854
        ],
        [
         "Sacramnto-Stkton-Modesto",
         "Suspense",
         2801
        ],
        [
         "Sacramnto-Stkton-Modesto",
         "Fantasy",
         2728
        ],
        [
         "Sacramnto-Stkton-Modesto",
         "Crime",
         2683
        ],
        [
         "Sacramnto-Stkton-Modesto",
         "Special",
         2662
        ],
        [
         "Sacramnto-Stkton-Modesto",
         "Mystery",
         2465
        ],
        [
         "Sacramnto-Stkton-Modesto",
         "Sports event",
         2459
        ],
        [
         "Sacramnto-Stkton-Modesto",
         "Sports non-event",
         2414
        ],
        [
         "Sacramnto-Stkton-Modesto",
         "Music",
         2136
        ],
        [
         "Sacramnto-Stkton-Modesto",
         "House/garden",
         2009
        ],
        [
         "Sacramnto-Stkton-Modesto",
         "Law",
         1998
        ],
        [
         "Sacramnto-Stkton-Modesto",
         "Game show",
         1954
        ],
        [
         "Sacramnto-Stkton-Modesto",
         "Science fiction",
         1909
        ],
        [
         "Sacramnto-Stkton-Modesto",
         "Travel",
         1892
        ],
        [
         "Sacramnto-Stkton-Modesto",
         "Cooking",
         1836
        ],
        [
         "Sacramnto-Stkton-Modesto",
         "Shopping",
         1721
        ],
        [
         "Sacramnto-Stkton-Modesto",
         "Educational",
         1640
        ],
        [
         "Sacramnto-Stkton-Modesto",
         "Interview",
         1603
        ],
        [
         "Sacramnto-Stkton-Modesto",
         "Basketball",
         1540
        ],
        [
         "Sacramnto-Stkton-Modesto",
         "Romance",
         1497
        ],
        [
         "Sacramnto-Stkton-Modesto",
         "Public affairs",
         1446
        ],
        [
         "Sacramnto-Stkton-Modesto",
         "Sports talk",
         1373
        ],
        [
         "Sacramnto-Stkton-Modesto",
         "Home improvement",
         1341
        ],
        [
         "Sacramnto-Stkton-Modesto",
         "Comedy-drama",
         1313
        ],
        [
         "Sacramnto-Stkton-Modesto",
         "Horror",
         1261
        ],
        [
         "Sacramnto-Stkton-Modesto",
         "Romance-comedy",
         1255
        ],
        [
         "Sacramnto-Stkton-Modesto",
         "Politics",
         1249
        ],
        [
         "Sacramnto-Stkton-Modesto",
         "How-to",
         1246
        ],
        [
         "Sacramnto-Stkton-Modesto",
         "Animals",
         1243
        ],
        [
         "Sacramnto-Stkton-Modesto",
         "Western",
         1176
        ],
        [
         "Sacramnto-Stkton-Modesto",
         "Outdoors",
         1126
        ],
        [
         "Sacramnto-Stkton-Modesto",
         "Medical",
         1090
        ],
        [
         "Sacramnto-Stkton-Modesto",
         "Bus./financial",
         1000
        ],
        [
         "Sacramnto-Stkton-Modesto",
         "Soap",
         970
        ],
        [
         "Sacramnto-Stkton-Modesto",
         "History",
         957
        ],
        [
         "Sacramnto-Stkton-Modesto",
         "Nature",
         910
        ],
        [
         "Sacramnto-Stkton-Modesto",
         "Paranormal",
         872
        ],
        [
         "Sacramnto-Stkton-Modesto",
         "Health",
         868
        ],
        [
         "Sacramnto-Stkton-Modesto",
         "Historical drama",
         820
        ],
        [
         "Sacramnto-Stkton-Modesto",
         "Science",
         814
        ],
        [
         "Sacramnto-Stkton-Modesto",
         "Golf",
         752
        ],
        [
         "Sacramnto-Stkton-Modesto",
         "Fashion",
         735
        ],
        [
         "Sacramnto-Stkton-Modesto",
         "Religious",
         677
        ],
        [
         "Sacramnto-Stkton-Modesto",
         "Auto",
         660
        ],
        [
         "Sacramnto-Stkton-Modesto",
         "Biography",
         646
        ],
        [
         "Sacramnto-Stkton-Modesto",
         "Awards",
         636
        ],
        [
         "Sacramnto-Stkton-Modesto",
         "Docudrama",
         635
        ],
        [
         "Sacramnto-Stkton-Modesto",
         "War",
         612
        ],
        [
         "Sacramnto-Stkton-Modesto",
         "Auto racing",
         567
        ],
        [
         "Sacramnto-Stkton-Modesto",
         "Weather",
         518
        ],
        [
         "Sacramnto-Stkton-Modesto",
         "Musical",
         512
        ],
        [
         "Sacramnto-Stkton-Modesto",
         "Variety",
         506
        ],
        [
         "Sacramnto-Stkton-Modesto",
         "Football",
         458
        ],
        [
         "Sacramnto-Stkton-Modesto",
         "Community",
         427
        ],
        [
         "Sacramnto-Stkton-Modesto",
         "Hockey",
         417
        ],
        [
         "Sacramnto-Stkton-Modesto",
         "Collectibles",
         400
        ],
        [
         "Sacramnto-Stkton-Modesto",
         "Fishing",
         367
        ],
        [
         "Sacramnto-Stkton-Modesto",
         "Parenting",
         365
        ],
        [
         "Sacramnto-Stkton-Modesto",
         "Anthology",
         342
        ],
        [
         "Sacramnto-Stkton-Modesto",
         "Soccer",
         309
        ],
        [
         "Sacramnto-Stkton-Modesto",
         "Art",
         307
        ],
        [
         "Sacramnto-Stkton-Modesto",
         "Spanish",
         297
        ],
        [
         "Sacramnto-Stkton-Modesto",
         "Mixed martial arts",
         270
        ],
        [
         "Sacramnto-Stkton-Modesto",
         "Pro wrestling",
         252
        ],
        [
         "Sacramnto-Stkton-Modesto",
         "Auction",
         250
        ],
        [
         "Sacramnto-Stkton-Modesto",
         "Musical comedy",
         240
        ],
        [
         "Sacramnto-Stkton-Modesto",
         "Hunting",
         222
        ],
        [
         "Sacramnto-Stkton-Modesto",
         "Baseball",
         222
        ],
        [
         "Sacramnto-Stkton-Modesto",
         "Dog show",
         213
        ],
        [
         "Sacramnto-Stkton-Modesto",
         "Action sports",
         196
        ],
        [
         "Sacramnto-Stkton-Modesto",
         "Technology",
         193
        ],
        [
         "Sacramnto-Stkton-Modesto",
         "Dance",
         164
        ],
        [
         "Sacramnto-Stkton-Modesto",
         "Martial arts",
         152
        ],
        [
         "Sacramnto-Stkton-Modesto",
         "Adults only",
         150
        ],
        [
         "Sacramnto-Stkton-Modesto",
         "Standup",
         149
        ],
        [
         "Sacramnto-Stkton-Modesto",
         "Boxing",
         140
        ],
        [
         "Sacramnto-Stkton-Modesto",
         "Figure skating",
         102
        ],
        [
         "Sacramnto-Stkton-Modesto",
         "Skiing",
         100
        ],
        [
         "Sacramnto-Stkton-Modesto",
         "Exercise",
         97
        ],
        [
         "Sacramnto-Stkton-Modesto",
         "Military",
         96
        ],
        [
         "Sacramnto-Stkton-Modesto",
         "Self improvement",
         90
        ],
        [
         "Sacramnto-Stkton-Modesto",
         "Aviation",
         90
        ],
        [
         "Sacramnto-Stkton-Modesto",
         "Card games",
         86
        ],
        [
         "Sacramnto-Stkton-Modesto",
         "Poker",
         84
        ],
        [
         "Sacramnto-Stkton-Modesto",
         "Gymnastics",
         81
        ],
        [
         "Sacramnto-Stkton-Modesto",
         "Anime",
         72
        ],
        [
         "Sacramnto-Stkton-Modesto",
         "Rugby",
         71
        ],
        [
         "Sacramnto-Stkton-Modesto",
         "Tennis",
         70
        ],
        [
         "Sacramnto-Stkton-Modesto",
         "Motorcycle",
         50
        ],
        [
         "Sacramnto-Stkton-Modesto",
         "Environment",
         48
        ],
        [
         "Sacramnto-Stkton-Modesto",
         "Performing arts",
         43
        ],
        [
         "Sacramnto-Stkton-Modesto",
         "Drag racing",
         43
        ],
        [
         "Sacramnto-Stkton-Modesto",
         "Shooting",
         41
        ],
        [
         "Sacramnto-Stkton-Modesto",
         "Miniseries",
         39
        ],
        [
         "Sacramnto-Stkton-Modesto",
         "Agriculture",
         37
        ],
        [
         "Sacramnto-Stkton-Modesto",
         "Gay/lesbian",
         32
        ],
        [
         "Sacramnto-Stkton-Modesto",
         "Snowboarding",
         32
        ],
        [
         "Sacramnto-Stkton-Modesto",
         "Wrestling",
         28
        ],
        [
         "Sacramnto-Stkton-Modesto",
         "Rodeo",
         27
        ],
        [
         "Sacramnto-Stkton-Modesto",
         "Motorcycle racing",
         26
        ],
        [
         "Sacramnto-Stkton-Modesto",
         "Swimming",
         19
        ],
        [
         "Sacramnto-Stkton-Modesto",
         "Arts/crafts",
         18
        ],
        [
         "Sacramnto-Stkton-Modesto",
         "Computers",
         15
        ],
        [
         "Sacramnto-Stkton-Modesto",
         "Curling",
         15
        ],
        [
         "Sacramnto-Stkton-Modesto",
         "Track/field",
         14
        ],
        [
         "Sacramnto-Stkton-Modesto",
         "Intl soccer",
         14
        ],
        [
         "Sacramnto-Stkton-Modesto",
         "Bowling",
         14
        ],
        [
         "Sacramnto-Stkton-Modesto",
         "Volleyball",
         13
        ],
        [
         "Sacramnto-Stkton-Modesto",
         "Music special",
         12
        ],
        [
         "Sacramnto-Stkton-Modesto",
         "Running",
         11
        ],
        [
         "Sacramnto-Stkton-Modesto",
         "Motorsports",
         9
        ],
        [
         "Sacramnto-Stkton-Modesto",
         "Cricket",
         9
        ],
        [
         "Sacramnto-Stkton-Modesto",
         "Horse",
         9
        ],
        [
         "Sacramnto-Stkton-Modesto",
         "Archery",
         8
        ],
        [
         "Sacramnto-Stkton-Modesto",
         "Watersports",
         8
        ],
        [
         "Sacramnto-Stkton-Modesto",
         "Debate",
         8
        ],
        [
         "Sacramnto-Stkton-Modesto",
         "Lacrosse",
         8
        ],
        [
         "Sacramnto-Stkton-Modesto",
         "Bicycle racing",
         7
        ],
        [
         "Sacramnto-Stkton-Modesto",
         "Snowmobile",
         7
        ],
        [
         "Sacramnto-Stkton-Modesto",
         "Yacht racing",
         5
        ],
        [
         "Sacramnto-Stkton-Modesto",
         "Equestrian",
         4
        ],
        [
         "Sacramnto-Stkton-Modesto",
         "Diving",
         4
        ],
        [
         "Sacramnto-Stkton-Modesto",
         "Surfing",
         4
        ],
        [
         "Sacramnto-Stkton-Modesto",
         "Playoff sports",
         3
        ],
        [
         "Sacramnto-Stkton-Modesto",
         "Boat racing",
         3
        ],
        [
         "Sacramnto-Stkton-Modesto",
         "Kayaking",
         3
        ],
        [
         "Sacramnto-Stkton-Modesto",
         "Mountain biking",
         2
        ],
        [
         "Sacramnto-Stkton-Modesto",
         "Speed skating",
         2
        ],
        [
         "Sacramnto-Stkton-Modesto",
         "Event",
         2
        ],
        [
         "Sacramnto-Stkton-Modesto",
         "Luge",
         2
        ],
        [
         "Sacramnto-Stkton-Modesto",
         "Holiday",
         1
        ],
        [
         "Sacramnto-Stkton-Modesto",
         "Cheerleading",
         1
        ],
        [
         "Sacramnto-Stkton-Modesto",
         "Softball",
         1
        ],
        [
         "Sacramnto-Stkton-Modesto",
         "Water polo",
         1
        ],
        [
         "Sacramnto-Stkton-Modesto",
         "Bobsled",
         1
        ],
        [
         "Sacramnto-Stkton-Modesto",
         "Darts",
         1
        ],
        [
         "Sacramnto-Stkton-Modesto",
         "Triathlon",
         1
        ],
        [
         "Sacramnto-Stkton-Modesto",
         "Skeleton",
         1
        ],
        [
         "San Francisco-Oak-San Jose",
         "Reality",
         190
        ],
        [
         "San Francisco-Oak-San Jose",
         "News",
         166
        ],
        [
         "San Francisco-Oak-San Jose",
         "Comedy",
         147
        ],
        [
         "San Francisco-Oak-San Jose",
         "Music",
         146
        ],
        [
         "San Francisco-Oak-San Jose",
         "Sitcom",
         143
        ],
        [
         "San Francisco-Oak-San Jose",
         "Talk",
         136
        ],
        [
         "San Francisco-Oak-San Jose",
         "Drama",
         128
        ],
        [
         "San Francisco-Oak-San Jose",
         "Documentary",
         127
        ],
        [
         "San Francisco-Oak-San Jose",
         "Adventure",
         116
        ],
        [
         "San Francisco-Oak-San Jose",
         "Children",
         107
        ],
        [
         "San Francisco-Oak-San Jose",
         "Action",
         102
        ],
        [
         "San Francisco-Oak-San Jose",
         "Entertainment",
         95
        ],
        [
         "San Francisco-Oak-San Jose",
         "Consumer",
         95
        ],
        [
         "San Francisco-Oak-San Jose",
         "Animated",
         92
        ],
        [
         "San Francisco-Oak-San Jose",
         "Crime",
         85
        ],
        [
         "San Francisco-Oak-San Jose",
         "Sports non-event",
         83
        ],
        [
         "San Francisco-Oak-San Jose",
         "Sports event",
         79
        ],
        [
         "San Francisco-Oak-San Jose",
         "Educational",
         79
        ],
        [
         "San Francisco-Oak-San Jose",
         "Crime drama",
         77
        ],
        [
         "San Francisco-Oak-San Jose",
         "Fantasy",
         71
        ],
        [
         "San Francisco-Oak-San Jose",
         "Special",
         69
        ],
        [
         "San Francisco-Oak-San Jose",
         "Newsmagazine",
         67
        ],
        [
         "San Francisco-Oak-San Jose",
         "Suspense",
         63
        ],
        [
         "San Francisco-Oak-San Jose",
         "Shopping",
         62
        ],
        [
         "San Francisco-Oak-San Jose",
         "Law",
         59
        ],
        [
         "San Francisco-Oak-San Jose",
         "House/garden",
         59
        ],
        [
         "San Francisco-Oak-San Jose",
         "Cooking",
         58
        ],
        [
         "San Francisco-Oak-San Jose",
         "Mystery",
         57
        ],
        [
         "San Francisco-Oak-San Jose",
         "Game show",
         56
        ],
        [
         "San Francisco-Oak-San Jose",
         "Science fiction",
         52
        ],
        [
         "San Francisco-Oak-San Jose",
         "Basketball",
         50
        ],
        [
         "San Francisco-Oak-San Jose",
         "Travel",
         48
        ],
        [
         "San Francisco-Oak-San Jose",
         "Animals",
         44
        ],
        [
         "San Francisco-Oak-San Jose",
         "Science",
         43
        ],
        [
         "San Francisco-Oak-San Jose",
         "How-to",
         42
        ],
        [
         "San Francisco-Oak-San Jose",
         "Sports talk",
         41
        ],
        [
         "San Francisco-Oak-San Jose",
         "Home improvement",
         41
        ],
        [
         "San Francisco-Oak-San Jose",
         "Comedy-drama",
         38
        ],
        [
         "San Francisco-Oak-San Jose",
         "Interview",
         38
        ],
        [
         "San Francisco-Oak-San Jose",
         "Soap",
         37
        ],
        [
         "San Francisco-Oak-San Jose",
         "Public affairs",
         36
        ],
        [
         "San Francisco-Oak-San Jose",
         "Outdoors",
         33
        ],
        [
         "San Francisco-Oak-San Jose",
         "Nature",
         33
        ],
        [
         "San Francisco-Oak-San Jose",
         "Religious",
         33
        ],
        [
         "San Francisco-Oak-San Jose",
         "Romance",
         32
        ],
        [
         "San Francisco-Oak-San Jose",
         "Spanish",
         31
        ],
        [
         "San Francisco-Oak-San Jose",
         "Romance-comedy",
         30
        ],
        [
         "San Francisco-Oak-San Jose",
         "Bus./financial",
         29
        ],
        [
         "San Francisco-Oak-San Jose",
         "Politics",
         28
        ],
        [
         "San Francisco-Oak-San Jose",
         "History",
         27
        ],
        [
         "San Francisco-Oak-San Jose",
         "Horror",
         27
        ],
        [
         "San Francisco-Oak-San Jose",
         "Medical",
         25
        ],
        [
         "San Francisco-Oak-San Jose",
         "Historical drama",
         24
        ],
        [
         "San Francisco-Oak-San Jose",
         "Variety",
         24
        ],
        [
         "San Francisco-Oak-San Jose",
         "Auto",
         22
        ],
        [
         "San Francisco-Oak-San Jose",
         "Fashion",
         22
        ],
        [
         "San Francisco-Oak-San Jose",
         "Paranormal",
         22
        ],
        [
         "San Francisco-Oak-San Jose",
         "Western",
         20
        ],
        [
         "San Francisco-Oak-San Jose",
         "Football",
         20
        ],
        [
         "San Francisco-Oak-San Jose",
         "Musical",
         19
        ],
        [
         "San Francisco-Oak-San Jose",
         "Weather",
         19
        ],
        [
         "San Francisco-Oak-San Jose",
         "Health",
         18
        ],
        [
         "San Francisco-Oak-San Jose",
         "Community",
         15
        ],
        [
         "San Francisco-Oak-San Jose",
         "Auto racing",
         15
        ],
        [
         "San Francisco-Oak-San Jose",
         "Docudrama",
         14
        ],
        [
         "San Francisco-Oak-San Jose",
         "Biography",
         13
        ],
        [
         "San Francisco-Oak-San Jose",
         "Parenting",
         13
        ],
        [
         "San Francisco-Oak-San Jose",
         "War",
         12
        ],
        [
         "San Francisco-Oak-San Jose",
         "Hockey",
         12
        ],
        [
         "San Francisco-Oak-San Jose",
         "Soccer",
         11
        ],
        [
         "San Francisco-Oak-San Jose",
         "Golf",
         11
        ],
        [
         "San Francisco-Oak-San Jose",
         "Fishing",
         10
        ],
        [
         "San Francisco-Oak-San Jose",
         "Art",
         9
        ],
        [
         "San Francisco-Oak-San Jose",
         "Technology",
         8
        ],
        [
         "San Francisco-Oak-San Jose",
         "Musical comedy",
         8
        ],
        [
         "San Francisco-Oak-San Jose",
         "Auction",
         8
        ],
        [
         "San Francisco-Oak-San Jose",
         "Collectibles",
         8
        ],
        [
         "San Francisco-Oak-San Jose",
         "Action sports",
         7
        ],
        [
         "San Francisco-Oak-San Jose",
         "Anthology",
         7
        ],
        [
         "San Francisco-Oak-San Jose",
         "Baseball",
         6
        ],
        [
         "San Francisco-Oak-San Jose",
         "Standup",
         6
        ],
        [
         "San Francisco-Oak-San Jose",
         "Boxing",
         5
        ],
        [
         "San Francisco-Oak-San Jose",
         "Dance",
         5
        ],
        [
         "San Francisco-Oak-San Jose",
         "Exercise",
         5
        ],
        [
         "San Francisco-Oak-San Jose",
         "Mixed martial arts",
         5
        ],
        [
         "San Francisco-Oak-San Jose",
         "Dog show",
         4
        ],
        [
         "San Francisco-Oak-San Jose",
         "Pro wrestling",
         4
        ],
        [
         "San Francisco-Oak-San Jose",
         "Anime",
         4
        ],
        [
         "San Francisco-Oak-San Jose",
         "Awards",
         4
        ],
        [
         "San Francisco-Oak-San Jose",
         "Card games",
         3
        ],
        [
         "San Francisco-Oak-San Jose",
         "Adults only",
         3
        ],
        [
         "San Francisco-Oak-San Jose",
         "Poker",
         3
        ],
        [
         "San Francisco-Oak-San Jose",
         "Skiing",
         3
        ],
        [
         "San Francisco-Oak-San Jose",
         "Computers",
         3
        ],
        [
         "San Francisco-Oak-San Jose",
         "Wrestling",
         3
        ],
        [
         "San Francisco-Oak-San Jose",
         "Military",
         2
        ],
        [
         "San Francisco-Oak-San Jose",
         "Snowboarding",
         2
        ],
        [
         "San Francisco-Oak-San Jose",
         "Rugby",
         2
        ],
        [
         "San Francisco-Oak-San Jose",
         "Aviation",
         2
        ],
        [
         "San Francisco-Oak-San Jose",
         "Tennis",
         2
        ],
        [
         "San Francisco-Oak-San Jose",
         "Gymnastics",
         2
        ],
        [
         "San Francisco-Oak-San Jose",
         "Gay/lesbian",
         2
        ],
        [
         "San Francisco-Oak-San Jose",
         "Martial arts",
         2
        ],
        [
         "San Francisco-Oak-San Jose",
         "Swimming",
         2
        ],
        [
         "San Francisco-Oak-San Jose",
         "Arts/crafts",
         2
        ],
        [
         "San Francisco-Oak-San Jose",
         "Performing arts",
         1
        ],
        [
         "San Francisco-Oak-San Jose",
         "Watersports",
         1
        ],
        [
         "San Francisco-Oak-San Jose",
         "Miniseries",
         1
        ],
        [
         "San Francisco-Oak-San Jose",
         "Event",
         1
        ],
        [
         "San Francisco-Oak-San Jose",
         "Triathlon",
         1
        ],
        [
         "San Francisco-Oak-San Jose",
         "Running",
         1
        ],
        [
         "San Francisco-Oak-San Jose",
         "Yacht racing",
         1
        ],
        [
         "San Francisco-Oak-San Jose",
         "Surfing",
         1
        ],
        [
         "San Francisco-Oak-San Jose",
         "Hunting",
         1
        ],
        [
         "San Francisco-Oak-San Jose",
         "Self improvement",
         1
        ],
        [
         "San Francisco-Oak-San Jose",
         "Snowmobile",
         1
        ],
        [
         "San Francisco-Oak-San Jose",
         "Bowling",
         1
        ],
        [
         "San Francisco-Oak-San Jose",
         "Motorcycle",
         1
        ],
        [
         "San Francisco-Oak-San Jose",
         "Agriculture",
         1
        ],
        [
         "San Francisco-Oak-San Jose",
         "Environment",
         1
        ],
        [
         "San Francisco-Oak-San Jose",
         "Figure skating",
         1
        ],
        [
         "San Francisco-Oak-San Jose",
         "Luge",
         1
        ],
        [
         "Seattle-Tacoma",
         "News",
         12180
        ],
        [
         "Seattle-Tacoma",
         "Reality",
         11519
        ],
        [
         "Seattle-Tacoma",
         "Talk",
         10190
        ],
        [
         "Seattle-Tacoma",
         "Comedy",
         10018
        ],
        [
         "Seattle-Tacoma",
         "Sitcom",
         9153
        ],
        [
         "Seattle-Tacoma",
         "Drama",
         9019
        ],
        [
         "Seattle-Tacoma",
         "Adventure",
         8262
        ],
        [
         "Seattle-Tacoma",
         "Documentary",
         7701
        ],
        [
         "Seattle-Tacoma",
         "Consumer",
         7641
        ],
        [
         "Seattle-Tacoma",
         "Crime drama",
         7507
        ],
        [
         "Seattle-Tacoma",
         "Action",
         7420
        ],
        [
         "Seattle-Tacoma",
         "Entertainment",
         6447
        ],
        [
         "Seattle-Tacoma",
         "Suspense",
         5579
        ],
        [
         "Seattle-Tacoma",
         "Special",
         5564
        ],
        [
         "Seattle-Tacoma",
         "Animated",
         5479
        ],
        [
         "Seattle-Tacoma",
         "Children",
         5418
        ],
        [
         "Seattle-Tacoma",
         "Mystery",
         5387
        ],
        [
         "Seattle-Tacoma",
         "Crime",
         5215
        ],
        [
         "Seattle-Tacoma",
         "Fantasy",
         5084
        ],
        [
         "Seattle-Tacoma",
         "Sports non-event",
         4754
        ],
        [
         "Seattle-Tacoma",
         "House/garden",
         4627
        ],
        [
         "Seattle-Tacoma",
         "Newsmagazine",
         4440
        ],
        [
         "Seattle-Tacoma",
         "Sports event",
         4210
        ],
        [
         "Seattle-Tacoma",
         "Travel",
         4085
        ],
        [
         "Seattle-Tacoma",
         "Science fiction",
         4023
        ],
        [
         "Seattle-Tacoma",
         "Music",
         4000
        ],
        [
         "Seattle-Tacoma",
         "Cooking",
         3854
        ],
        [
         "Seattle-Tacoma",
         "Shopping",
         3838
        ],
        [
         "Seattle-Tacoma",
         "Educational",
         3829
        ],
        [
         "Seattle-Tacoma",
         "Law",
         3772
        ],
        [
         "Seattle-Tacoma",
         "Game show",
         3744
        ],
        [
         "Seattle-Tacoma",
         "Interview",
         3584
        ],
        [
         "Seattle-Tacoma",
         "How-to",
         3236
        ],
        [
         "Seattle-Tacoma",
         "Home improvement",
         3121
        ],
        [
         "Seattle-Tacoma",
         "Outdoors",
         3113
        ],
        [
         "Seattle-Tacoma",
         "Animals",
         2899
        ],
        [
         "Seattle-Tacoma",
         "Public affairs",
         2849
        ],
        [
         "Seattle-Tacoma",
         "Politics",
         2684
        ],
        [
         "Seattle-Tacoma",
         "Romance",
         2637
        ],
        [
         "Seattle-Tacoma",
         "Medical",
         2629
        ],
        [
         "Seattle-Tacoma",
         "Basketball",
         2608
        ],
        [
         "Seattle-Tacoma",
         "Horror",
         2579
        ],
        [
         "Seattle-Tacoma",
         "Sports talk",
         2578
        ],
        [
         "Seattle-Tacoma",
         "Western",
         2454
        ],
        [
         "Seattle-Tacoma",
         "Science",
         2289
        ],
        [
         "Seattle-Tacoma",
         "Nature",
         2267
        ],
        [
         "Seattle-Tacoma",
         "Comedy-drama",
         2191
        ],
        [
         "Seattle-Tacoma",
         "Religious",
         2186
        ],
        [
         "Seattle-Tacoma",
         "History",
         2167
        ],
        [
         "Seattle-Tacoma",
         "Romance-comedy",
         2163
        ],
        [
         "Seattle-Tacoma",
         "Paranormal",
         1978
        ],
        [
         "Seattle-Tacoma",
         "Bus./financial",
         1880
        ],
        [
         "Seattle-Tacoma",
         "Health",
         1764
        ],
        [
         "Seattle-Tacoma",
         "Soap",
         1759
        ],
        [
         "Seattle-Tacoma",
         "Historical drama",
         1677
        ],
        [
         "Seattle-Tacoma",
         "Auto",
         1590
        ],
        [
         "Seattle-Tacoma",
         "Fashion",
         1446
        ],
        [
         "Seattle-Tacoma",
         "Awards",
         1312
        ],
        [
         "Seattle-Tacoma",
         "War",
         1286
        ],
        [
         "Seattle-Tacoma",
         "Auto racing",
         1247
        ],
        [
         "Seattle-Tacoma",
         "Docudrama",
         1182
        ],
        [
         "Seattle-Tacoma",
         "Golf",
         1135
        ],
        [
         "Seattle-Tacoma",
         "Biography",
         1130
        ],
        [
         "Seattle-Tacoma",
         "Fishing",
         1107
        ],
        [
         "Seattle-Tacoma",
         "Community",
         1067
        ],
        [
         "Seattle-Tacoma",
         "Football",
         1004
        ],
        [
         "Seattle-Tacoma",
         "Musical",
         989
        ],
        [
         "Seattle-Tacoma",
         "Weather",
         957
        ],
        [
         "Seattle-Tacoma",
         "Anthology",
         800
        ],
        [
         "Seattle-Tacoma",
         "Parenting",
         772
        ],
        [
         "Seattle-Tacoma",
         "Hunting",
         765
        ],
        [
         "Seattle-Tacoma",
         "Collectibles",
         762
        ],
        [
         "Seattle-Tacoma",
         "Hockey",
         668
        ],
        [
         "Seattle-Tacoma",
         "Variety",
         627
        ],
        [
         "Seattle-Tacoma",
         "Mixed martial arts",
         551
        ],
        [
         "Seattle-Tacoma",
         "Art",
         550
        ],
        [
         "Seattle-Tacoma",
         "Auction",
         530
        ],
        [
         "Seattle-Tacoma",
         "Soccer",
         489
        ],
        [
         "Seattle-Tacoma",
         "Dog show",
         487
        ],
        [
         "Seattle-Tacoma",
         "Pro wrestling",
         469
        ],
        [
         "Seattle-Tacoma",
         "Technology",
         451
        ],
        [
         "Seattle-Tacoma",
         "Musical comedy",
         433
        ],
        [
         "Seattle-Tacoma",
         "Action sports",
         384
        ],
        [
         "Seattle-Tacoma",
         "Self improvement",
         383
        ],
        [
         "Seattle-Tacoma",
         "Standup",
         325
        ],
        [
         "Seattle-Tacoma",
         "Baseball",
         292
        ],
        [
         "Seattle-Tacoma",
         "Dance",
         286
        ],
        [
         "Seattle-Tacoma",
         "Military",
         264
        ],
        [
         "Seattle-Tacoma",
         "Aviation",
         253
        ],
        [
         "Seattle-Tacoma",
         "Martial arts",
         249
        ],
        [
         "Seattle-Tacoma",
         "Figure skating",
         244
        ],
        [
         "Seattle-Tacoma",
         "Adults only",
         202
        ],
        [
         "Seattle-Tacoma",
         "Gymnastics",
         186
        ],
        [
         "Seattle-Tacoma",
         "Skiing",
         185
        ],
        [
         "Seattle-Tacoma",
         "Boxing",
         167
        ],
        [
         "Seattle-Tacoma",
         "Anime",
         154
        ],
        [
         "Seattle-Tacoma",
         "Environment",
         148
        ],
        [
         "Seattle-Tacoma",
         "Card games",
         138
        ],
        [
         "Seattle-Tacoma",
         "Poker",
         137
        ],
        [
         "Seattle-Tacoma",
         "Shooting",
         128
        ],
        [
         "Seattle-Tacoma",
         "Drag racing",
         126
        ],
        [
         "Seattle-Tacoma",
         "Rugby",
         118
        ],
        [
         "Seattle-Tacoma",
         "Motorcycle",
         105
        ],
        [
         "Seattle-Tacoma",
         "Tennis",
         101
        ],
        [
         "Seattle-Tacoma",
         "Arts/crafts",
         100
        ],
        [
         "Seattle-Tacoma",
         "Motorcycle racing",
         85
        ],
        [
         "Seattle-Tacoma",
         "Performing arts",
         74
        ],
        [
         "Seattle-Tacoma",
         "Exercise",
         64
        ],
        [
         "Seattle-Tacoma",
         "Rodeo",
         61
        ],
        [
         "Seattle-Tacoma",
         "Miniseries",
         57
        ],
        [
         "Seattle-Tacoma",
         "Snowboarding",
         56
        ],
        [
         "Seattle-Tacoma",
         "Spanish",
         55
        ],
        [
         "Seattle-Tacoma",
         "Gay/lesbian",
         49
        ],
        [
         "Seattle-Tacoma",
         "Bowling",
         37
        ],
        [
         "Seattle-Tacoma",
         "Agriculture",
         35
        ],
        [
         "Seattle-Tacoma",
         "Computers",
         34
        ],
        [
         "Seattle-Tacoma",
         "Motorsports",
         31
        ],
        [
         "Seattle-Tacoma",
         "Wrestling",
         31
        ],
        [
         "Seattle-Tacoma",
         "Swimming",
         31
        ],
        [
         "Seattle-Tacoma",
         "Archery",
         29
        ],
        [
         "Seattle-Tacoma",
         "Volleyball",
         29
        ],
        [
         "Seattle-Tacoma",
         "Music special",
         22
        ],
        [
         "Seattle-Tacoma",
         "Debate",
         22
        ],
        [
         "Seattle-Tacoma",
         "Intl soccer",
         21
        ],
        [
         "Seattle-Tacoma",
         "Cricket",
         20
        ],
        [
         "Seattle-Tacoma",
         "Horse",
         19
        ],
        [
         "Seattle-Tacoma",
         "Yacht racing",
         18
        ],
        [
         "Seattle-Tacoma",
         "Curling",
         17
        ],
        [
         "Seattle-Tacoma",
         "Speed skating",
         16
        ],
        [
         "Seattle-Tacoma",
         "Snowmobile",
         15
        ],
        [
         "Seattle-Tacoma",
         "Boat",
         15
        ],
        [
         "Seattle-Tacoma",
         "Track/field",
         14
        ],
        [
         "Seattle-Tacoma",
         "Bicycle racing",
         14
        ],
        [
         "Seattle-Tacoma",
         "Watersports",
         14
        ],
        [
         "Seattle-Tacoma",
         "Luge",
         12
        ],
        [
         "Seattle-Tacoma",
         "Softball",
         8
        ],
        [
         "Seattle-Tacoma",
         "Running",
         8
        ],
        [
         "Seattle-Tacoma",
         "Kayaking",
         7
        ],
        [
         "Seattle-Tacoma",
         "Surfing",
         6
        ],
        [
         "Seattle-Tacoma",
         "Playoff sports",
         5
        ],
        [
         "Seattle-Tacoma",
         "Fundraiser",
         5
        ],
        [
         "Seattle-Tacoma",
         "Boat racing",
         5
        ],
        [
         "Seattle-Tacoma",
         "Bobsled",
         4
        ],
        [
         "Seattle-Tacoma",
         "Lacrosse",
         4
        ],
        [
         "Seattle-Tacoma",
         "Event",
         4
        ],
        [
         "Seattle-Tacoma",
         "Sailing",
         3
        ],
        [
         "Seattle-Tacoma",
         "Water polo",
         3
        ],
        [
         "Seattle-Tacoma",
         "Aerobics",
         3
        ],
        [
         "Seattle-Tacoma",
         "Diving",
         2
        ],
        [
         "Seattle-Tacoma",
         "Holiday special",
         2
        ],
        [
         "Seattle-Tacoma",
         "Holiday",
         2
        ],
        [
         "Seattle-Tacoma",
         "Cheerleading",
         2
        ],
        [
         "Seattle-Tacoma",
         "Skeleton",
         2
        ],
        [
         "Seattle-Tacoma",
         "Mountain biking",
         2
        ],
        [
         "Seattle-Tacoma",
         "Equestrian",
         1
        ],
        [
         "Seattle-Tacoma",
         "Olympics",
         1
        ],
        [
         "Seattle-Tacoma",
         "Gaming",
         1
        ]
       ],
       "datasetInfos": [],
       "dbfsResultPath": null,
       "isJsonSchema": true,
       "metadata": {},
       "overflow": false,
       "plotOptions": {
        "customPlotOptions": {},
        "displayType": "table",
        "pivotAggregation": null,
        "pivotColumns": null,
        "xColumns": null,
        "yColumns": null
       },
       "removedWidgets": [],
       "schema": [
        {
         "metadata": "{}",
         "name": "DMA",
         "type": "\"string\""
        },
        {
         "metadata": "{}",
         "name": "genre",
         "type": "\"string\""
        },
        {
         "metadata": "{}",
         "name": "device_count",
         "type": "\"long\""
        }
       ],
       "type": "table"
      }
     },
     "output_type": "display_data"
    }
   ],
   "source": [
    "from pyspark.sql.functions import split, explode, countDistinct, col\n",
    "\n",
    "# Step 1: Save top 10 DMA names\n",
    "top_10_dma_names = demo_clean.select(\"DMA\").rdd.flatMap(lambda x: x).collect()\n",
    "\n",
    "# Step 2: Get device_id and household_id for top 10 DMAs from Reference Data\n",
    "top_dma_devices = ref_data.filter(col(\"DMA\").isin(top_10_dma_names)) \\\n",
    "    .select(\"device_id\", \"household_id\", \"DMA\")\n",
    "\n",
    "# Step 3: Join with Program Viewing Data ✅ (correct name: viewing10m_df)\n",
    "view_with_dma = viewing10m_df.join(top_dma_devices, on=\"device_id\", how=\"inner\")\n",
    "\n",
    "# Step 4: Join with Daily Program Data ✅ (correct name: daily_prog_df)\n",
    "view_with_genres = view_with_dma.join(\n",
    "    daily_prog_df.select(\"prog_code\", \"genre\"), \n",
    "    on=\"prog_code\", \n",
    "    how=\"inner\"\n",
    ")\n",
    "\n",
    "# Step 5: Split prog_genres to array and explode\n",
    "view_with_genres = view_with_genres.withColumn(\"genre\", explode(split(col(\"genre\"), \",\")))\n",
    "\n",
    "# Step 6: Group by DMA and Genre and count distinct devices\n",
    "dma_genre_counts = view_with_genres.groupBy(\"DMA\", \"genre\") \\\n",
    "    .agg(countDistinct(\"device_id\").alias(\"device_count\")) \\\n",
    "    .orderBy(\"DMA\", col(\"device_count\").desc())\n",
    "\n",
    "# Step 7: Show results\n",
    "display(dma_genre_counts)\n"
   ]
  },
  {
   "cell_type": "code",
   "execution_count": 0,
   "metadata": {
    "application/vnd.databricks.v1+cell": {
     "cellMetadata": {
      "byteLimit": 2048000,
      "rowLimit": 10000
     },
     "inputWidgets": {},
     "nuid": "253464b3-7cb1-4f63-9589-39a68b2fa1b3",
     "showTitle": false,
     "tableResultSettingsMap": {},
     "title": ""
    }
   },
   "outputs": [
    {
     "output_type": "display_data",
     "data": {
      "text/html": [
       "<style scoped>\n",
       "  .table-result-container {\n",
       "    max-height: 300px;\n",
       "    overflow: auto;\n",
       "  }\n",
       "  table, th, td {\n",
       "    border: 1px solid black;\n",
       "    border-collapse: collapse;\n",
       "  }\n",
       "  th, td {\n",
       "    padding: 5px;\n",
       "  }\n",
       "  th {\n",
       "    text-align: left;\n",
       "  }\n",
       "</style><div class='table-result-container'><table class='table-result'><thead style='background-color: white'><tr><th>DMA</th><th>wealth_score</th><th>top_11_genres</th></tr></thead><tbody><tr><td>San Antonio</td><td>1.623931623931624</td><td>List()</td></tr><tr><td>San Francisco-Oak-San Jose</td><td>1.5422277562565332</td><td>List(Reality, News, Comedy, Music, Sitcom, Talk, Drama, Documentary, Adventure, Children, Action)</td></tr><tr><td>Baltimore</td><td>1.5220570915273188</td><td>List()</td></tr><tr><td>Sacramnto-Stkton-Modesto</td><td>1.478945452542812</td><td>List(Entertainment, Crime drama, Consumer, Animated, Newsmagazine, Suspense, Fantasy, Crime, Special, Mystery, Sports event)</td></tr><tr><td>Bend, OR</td><td>1.4565329736126789</td><td>List(Shopping, Sports non-event, Game show, House/garden, Educational, Law, Travel, Public affairs, Interview, Cooking, How-to)</td></tr><tr><td>Houston</td><td>1.435499606907069</td><td>List(Science fiction, Romance, Home improvement, Politics, History, Basketball, Religious, Sports talk, Paranormal, Horror, Soap)</td></tr><tr><td>Austin</td><td>1.4256070844518498</td><td>List(Bus./financial, Medical, Science, Animals, Western, Outdoors, Weather, Nature, Romance-comedy, Comedy-drama, Golf)</td></tr><tr><td>Miami-Ft. Lauderdale</td><td>1.421015585721468</td><td>List()</td></tr><tr><td>Seattle-Tacoma</td><td>1.4161407504201444</td><td>List(Health, Historical drama, Auto, Fashion, Awards, War, Auto racing, Docudrama, Biography, Fishing, Community)</td></tr><tr><td>Detroit</td><td>1.3571052908383296</td><td>List(Hockey, Variety, Football, Musical, Collectibles, Technology, Hunting, Baseball, Parenting, Auction, Anthology)</td></tr></tbody></table></div>"
      ]
     },
     "metadata": {
      "application/vnd.databricks.v1+output": {
       "addedWidgets": {},
       "aggData": [],
       "aggError": "",
       "aggOverflow": false,
       "aggSchema": [],
       "aggSeriesLimitReached": false,
       "aggType": "",
       "arguments": {},
       "columnCustomDisplayInfos": {},
       "data": [
        [
         "San Antonio",
         1.623931623931624,
         []
        ],
        [
         "San Francisco-Oak-San Jose",
         1.5422277562565332,
         [
          "Reality",
          "News",
          "Comedy",
          "Music",
          "Sitcom",
          "Talk",
          "Drama",
          "Documentary",
          "Adventure",
          "Children",
          "Action"
         ]
        ],
        [
         "Baltimore",
         1.5220570915273188,
         []
        ],
        [
         "Sacramnto-Stkton-Modesto",
         1.478945452542812,
         [
          "Entertainment",
          "Crime drama",
          "Consumer",
          "Animated",
          "Newsmagazine",
          "Suspense",
          "Fantasy",
          "Crime",
          "Special",
          "Mystery",
          "Sports event"
         ]
        ],
        [
         "Bend, OR",
         1.4565329736126789,
         [
          "Shopping",
          "Sports non-event",
          "Game show",
          "House/garden",
          "Educational",
          "Law",
          "Travel",
          "Public affairs",
          "Interview",
          "Cooking",
          "How-to"
         ]
        ],
        [
         "Houston",
         1.435499606907069,
         [
          "Science fiction",
          "Romance",
          "Home improvement",
          "Politics",
          "History",
          "Basketball",
          "Religious",
          "Sports talk",
          "Paranormal",
          "Horror",
          "Soap"
         ]
        ],
        [
         "Austin",
         1.4256070844518498,
         [
          "Bus./financial",
          "Medical",
          "Science",
          "Animals",
          "Western",
          "Outdoors",
          "Weather",
          "Nature",
          "Romance-comedy",
          "Comedy-drama",
          "Golf"
         ]
        ],
        [
         "Miami-Ft. Lauderdale",
         1.421015585721468,
         []
        ],
        [
         "Seattle-Tacoma",
         1.4161407504201444,
         [
          "Health",
          "Historical drama",
          "Auto",
          "Fashion",
          "Awards",
          "War",
          "Auto racing",
          "Docudrama",
          "Biography",
          "Fishing",
          "Community"
         ]
        ],
        [
         "Detroit",
         1.3571052908383296,
         [
          "Hockey",
          "Variety",
          "Football",
          "Musical",
          "Collectibles",
          "Technology",
          "Hunting",
          "Baseball",
          "Parenting",
          "Auction",
          "Anthology"
         ]
        ]
       ],
       "datasetInfos": [],
       "dbfsResultPath": null,
       "isJsonSchema": true,
       "metadata": {},
       "overflow": false,
       "plotOptions": {
        "customPlotOptions": {},
        "displayType": "table",
        "pivotAggregation": null,
        "pivotColumns": null,
        "xColumns": null,
        "yColumns": null
       },
       "removedWidgets": [],
       "schema": [
        {
         "metadata": "{}",
         "name": "DMA",
         "type": "\"string\""
        },
        {
         "metadata": "{}",
         "name": "wealth_score",
         "type": "\"double\""
        },
        {
         "metadata": "{}",
         "name": "top_11_genres",
         "type": "{\"type\":\"array\",\"elementType\":\"string\",\"containsNull\":true}"
        }
       ],
       "type": "table"
      }
     },
     "output_type": "display_data"
    }
   ],
   "source": [
    "from pyspark.sql import Row\n",
    "from pyspark.sql.functions import col\n",
    "\n",
    "# Step 1: קח את טופ 10 DMA עם עושר\n",
    "top_dma_df = demo_clean.orderBy(col(\"wealth_score\").desc()).select(\"DMA\", \"wealth_score\")\n",
    "top_dma_list = top_dma_df.rdd.map(lambda row: (row[\"DMA\"], row[\"wealth_score\"])).collect()\n",
    "\n",
    "# Step 2: הפוך את טבלת הדירוג לזיכרון (ז’אנר, DMA, צפיות)\n",
    "remaining_df = dma_genre_counts\n",
    "\n",
    "# Step 3: שמור את הז’אנרים שכבר השתמשנו בהם\n",
    "used_genres = set()\n",
    "\n",
    "# Step 4: בנה רשימת שורות לתוצאה הסופית\n",
    "result_rows = []\n",
    "\n",
    "for dma_name, score in top_dma_list:\n",
    "    # סנן רק עבור ה־DMA הנוכחי ובלי ז'אנרים שכבר נבחרו\n",
    "    filtered = remaining_df.filter((col(\"DMA\") == dma_name) & (~col(\"genre\").isin(used_genres)))\n",
    "    \n",
    "    # קח עד 11 הז'אנרים הפופולריים ביותר\n",
    "    top_genres = [row[\"genre\"] for row in filtered.orderBy(col(\"device_count\").desc()).limit(11).collect()]\n",
    "    \n",
    "    # הוסף את הז’אנרים שכבר השתמשנו בהם לרשימת איסור\n",
    "    used_genres.update(top_genres)\n",
    "    \n",
    "    # צור שורת תוצאה\n",
    "    result_rows.append(Row(DMA=dma_name, wealth_score=score, top_11_genres=top_genres))\n",
    "\n",
    "# Step 5: הפוך לטבלת Spark\n",
    "final_result_df = spark.createDataFrame(result_rows)\n",
    "\n",
    "# הצגה\n",
    "display(final_result_df)\n"
   ]
  }
 ],
 "metadata": {
  "application/vnd.databricks.v1+notebook": {
   "computePreferences": null,
   "dashboards": [],
   "environmentMetadata": null,
   "inputWidgetPreferences": null,
   "language": "python",
   "notebookMetadata": {
    "pythonIndentUnit": 4
   },
   "notebookName": "Project 1 - Distributed Database Systems - part2",
   "widgets": {}
  },
  "language_info": {
   "name": "python"
  }
 },
 "nbformat": 4,
 "nbformat_minor": 0
}