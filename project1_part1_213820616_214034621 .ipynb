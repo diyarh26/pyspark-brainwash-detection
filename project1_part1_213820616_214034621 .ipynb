{
 "cells": [
  {
   "cell_type": "markdown",
   "metadata": {
    "application/vnd.databricks.v1+cell": {
     "cellMetadata": {
      "byteLimit": 2048000,
      "rowLimit": 10000
     },
     "inputWidgets": {},
     "nuid": "9bf6f18a-5511-453d-a283-4e3de2276f24",
     "showTitle": false,
     "tableResultSettingsMap": {},
     "title": ""
    }
   },
   "source": [
    "# Project 1 - Starter Notebook\n"
   ]
  },
  {
   "cell_type": "code",
   "execution_count": 0,
   "metadata": {
    "application/vnd.databricks.v1+cell": {
     "cellMetadata": {
      "byteLimit": 2048000,
      "rowLimit": 10000
     },
     "inputWidgets": {},
     "nuid": "d4dffdc6-9b10-4156-84e3-2aa633287766",
     "showTitle": false,
     "tableResultSettingsMap": {},
     "title": ""
    }
   },
   "outputs": [],
   "source": [
    "from pyspark import SparkContext\n",
    "from pyspark.sql import SparkSession\n",
    " \n",
    "spark = SparkSession.builder.appName(\"my_project_1\").getOrCreate()\n"
   ]
  },
  {
   "cell_type": "markdown",
   "metadata": {
    "application/vnd.databricks.v1+cell": {
     "cellMetadata": {
      "byteLimit": 2048000,
      "rowLimit": 10000
     },
     "inputWidgets": {},
     "nuid": "579829f5-7738-4fb9-99e4-972192e1def9",
     "showTitle": false,
     "tableResultSettingsMap": {},
     "title": ""
    }
   },
   "source": [
    "Importing all spark data types and spark functions for your convenience."
   ]
  },
  {
   "cell_type": "code",
   "execution_count": 0,
   "metadata": {
    "application/vnd.databricks.v1+cell": {
     "cellMetadata": {
      "byteLimit": 2048000,
      "rowLimit": 10000
     },
     "inputWidgets": {},
     "nuid": "d6e4411a-9b08-48bb-a30a-b4ba7f591532",
     "showTitle": false,
     "tableResultSettingsMap": {},
     "title": ""
    }
   },
   "outputs": [],
   "source": [
    "from pyspark.sql.types import *\n",
    "from pyspark.sql.functions import *"
   ]
  },
  {
   "cell_type": "code",
   "execution_count": 0,
   "metadata": {
    "application/vnd.databricks.v1+cell": {
     "cellMetadata": {
      "byteLimit": 2048000,
      "rowLimit": 10000
     },
     "inputWidgets": {},
     "nuid": "b349e896-490f-4440-94cd-40a65cc635f1",
     "showTitle": false,
     "tableResultSettingsMap": {},
     "title": ""
    }
   },
   "outputs": [],
   "source": [
    "# Read a CSV into a dataframe\n",
    "# There is a smarter version, that will first check if there is a Parquet file and use it\n",
    "def load_csv_file(filename, schema):\n",
    "  # Reads the relevant file from distributed file system using the given schema\n",
    "\n",
    "  allowed_files = {'Daily program data': ('Daily program data', \"|\"),\n",
    "                   'demographic': ('demographic', \"|\")}\n",
    "\n",
    "  if filename not in allowed_files.keys():\n",
    "    print(f'You were trying to access unknown file \\\"{filename}\\\". Only valid options are {allowed_files.keys()}')\n",
    "    return None\n",
    "\n",
    "  filepath = allowed_files[filename][0]\n",
    "  dataPath = f\"dbfs:/mnt/coursedata2024/fwm-stb-data/{filepath}\"\n",
    "  delimiter = allowed_files[filename][1]\n",
    "\n",
    "  df = spark.read.format(\"csv\")\\\n",
    "    .option(\"header\",\"false\")\\\n",
    "    .option(\"delimiter\",delimiter)\\\n",
    "    .schema(schema)\\\n",
    "    .load(dataPath)\n",
    "  return df\n",
    "\n",
    "# This dict holds the correct schemata for easily loading the CSVs\n",
    "schemas_dict = {'Daily program data':\n",
    "                  StructType([\n",
    "                    StructField('prog_code', StringType()),\n",
    "                    StructField('title', StringType()),\n",
    "                    StructField('genre', StringType()),\n",
    "                    StructField('air_date', StringType()),\n",
    "                    StructField('air_time', StringType()),\n",
    "                    StructField('Duration', FloatType())\n",
    "                  ]),\n",
    "                'viewing':\n",
    "                  StructType([\n",
    "                    StructField('device_id', StringType()),\n",
    "                    StructField('event_date', StringType()),\n",
    "                    StructField('event_time', IntegerType()),\n",
    "                    StructField('mso_code', StringType()),\n",
    "                    StructField('prog_code', StringType()),\n",
    "                    StructField('station_num', StringType())\n",
    "                  ]),\n",
    "                'viewing_full':\n",
    "                  StructType([\n",
    "                    StructField('mso_code', StringType()),\n",
    "                    StructField('device_id', StringType()),\n",
    "                    StructField('event_date', IntegerType()),\n",
    "                    StructField('event_time', IntegerType()),\n",
    "                    StructField('station_num', StringType()),\n",
    "                    StructField('prog_code', StringType())\n",
    "                  ]),\n",
    "                'demographic':\n",
    "                  StructType([StructField('household_id',StringType()),\n",
    "                    StructField('household_size',IntegerType()),\n",
    "                    StructField('num_adults',IntegerType()),\n",
    "                    StructField('num_generations',IntegerType()),\n",
    "                    StructField('adult_range',StringType()),\n",
    "                    StructField('marital_status',StringType()),\n",
    "                    StructField('race_code',StringType()),\n",
    "                    StructField('presence_children',StringType()),\n",
    "                    StructField('num_children',IntegerType()),\n",
    "                    StructField('age_children',StringType()), #format like range - 'bitwise'\n",
    "                    StructField('age_range_children',StringType()),\n",
    "                    StructField('dwelling_type',StringType()),\n",
    "                    StructField('home_owner_status',StringType()),\n",
    "                    StructField('length_residence',IntegerType()),\n",
    "                    StructField('home_market_value',StringType()),\n",
    "                    StructField('num_vehicles',IntegerType()),\n",
    "                    StructField('vehicle_make',StringType()),\n",
    "                    StructField('vehicle_model',StringType()),\n",
    "                    StructField('vehicle_year',IntegerType()),\n",
    "                    StructField('net_worth',IntegerType()),\n",
    "                    StructField('income',StringType()),\n",
    "                    StructField('gender_individual',StringType()),\n",
    "                    StructField('age_individual',IntegerType()),\n",
    "                    StructField('education_highest',StringType()),\n",
    "                    StructField('occupation_highest',StringType()),\n",
    "                    StructField('education_1',StringType()),\n",
    "                    StructField('occupation_1',StringType()),\n",
    "                    StructField('age_2',IntegerType()),\n",
    "                    StructField('education_2',StringType()),\n",
    "                    StructField('occupation_2',StringType()),\n",
    "                    StructField('age_3',IntegerType()),\n",
    "                    StructField('education_3',StringType()),\n",
    "                    StructField('occupation_3',StringType()),\n",
    "                    StructField('age_4',IntegerType()),\n",
    "                    StructField('education_4',StringType()),\n",
    "                    StructField('occupation_4',StringType()),\n",
    "                    StructField('age_5',IntegerType()),\n",
    "                    StructField('education_5',StringType()),\n",
    "                    StructField('occupation_5',StringType()),\n",
    "                    StructField('polit_party_regist',StringType()),\n",
    "                    StructField('polit_party_input',StringType()),\n",
    "                    StructField('household_clusters',StringType()),\n",
    "                    StructField('insurance_groups',StringType()),\n",
    "                    StructField('financial_groups',StringType()),\n",
    "                    StructField('green_living',StringType())\n",
    "                  ])\n",
    "}"
   ]
  },
  {
   "cell_type": "markdown",
   "metadata": {
    "application/vnd.databricks.v1+cell": {
     "cellMetadata": {
      "byteLimit": 2048000,
      "rowLimit": 10000
     },
     "inputWidgets": {},
     "nuid": "d75618ed-374f-42cd-8a52-7502b98a0b23",
     "showTitle": false,
     "tableResultSettingsMap": {},
     "title": ""
    }
   },
   "source": [
    "# Read demogrphic data\n"
   ]
  },
  {
   "cell_type": "code",
   "execution_count": 0,
   "metadata": {
    "application/vnd.databricks.v1+cell": {
     "cellMetadata": {
      "byteLimit": 2048000,
      "rowLimit": 10000
     },
     "inputWidgets": {},
     "nuid": "4be54f16-04af-4c90-81c9-42a0abfd3156",
     "showTitle": false,
     "tableResultSettingsMap": {},
     "title": ""
    }
   },
   "outputs": [
    {
     "output_type": "stream",
     "name": "stdout",
     "output_type": "stream",
     "text": [
      "root\n |-- household_id: string (nullable = true)\n |-- household_size: integer (nullable = true)\n |-- num_adults: integer (nullable = true)\n |-- num_generations: integer (nullable = true)\n |-- adult_range: string (nullable = true)\n |-- marital_status: string (nullable = true)\n |-- race_code: string (nullable = true)\n |-- presence_children: string (nullable = true)\n |-- num_children: integer (nullable = true)\n |-- age_children: string (nullable = true)\n |-- age_range_children: string (nullable = true)\n |-- dwelling_type: string (nullable = true)\n |-- home_owner_status: string (nullable = true)\n |-- length_residence: integer (nullable = true)\n |-- home_market_value: string (nullable = true)\n |-- num_vehicles: integer (nullable = true)\n |-- vehicle_make: string (nullable = true)\n |-- vehicle_model: string (nullable = true)\n |-- vehicle_year: integer (nullable = true)\n |-- net_worth: integer (nullable = true)\n |-- income: string (nullable = true)\n |-- gender_individual: string (nullable = true)\n |-- age_individual: integer (nullable = true)\n |-- education_highest: string (nullable = true)\n |-- occupation_highest: string (nullable = true)\n |-- education_1: string (nullable = true)\n |-- occupation_1: string (nullable = true)\n |-- age_2: integer (nullable = true)\n |-- education_2: string (nullable = true)\n |-- occupation_2: string (nullable = true)\n |-- age_3: integer (nullable = true)\n |-- education_3: string (nullable = true)\n |-- occupation_3: string (nullable = true)\n |-- age_4: integer (nullable = true)\n |-- education_4: string (nullable = true)\n |-- occupation_4: string (nullable = true)\n |-- age_5: integer (nullable = true)\n |-- education_5: string (nullable = true)\n |-- occupation_5: string (nullable = true)\n |-- polit_party_regist: string (nullable = true)\n |-- polit_party_input: string (nullable = true)\n |-- household_clusters: string (nullable = true)\n |-- insurance_groups: string (nullable = true)\n |-- financial_groups: string (nullable = true)\n |-- green_living: string (nullable = true)\n\ndemo_df contains 357721 records!\n"
     ]
    },
    {
     "output_type": "display_data",
     "data": {
      "text/html": [
       "<style scoped>\n",
       "  .table-result-container {\n",
       "    max-height: 300px;\n",
       "    overflow: auto;\n",
       "  }\n",
       "  table, th, td {\n",
       "    border: 1px solid black;\n",
       "    border-collapse: collapse;\n",
       "  }\n",
       "  th, td {\n",
       "    padding: 5px;\n",
       "  }\n",
       "  th {\n",
       "    text-align: left;\n",
       "  }\n",
       "</style><div class='table-result-container'><table class='table-result'><thead style='background-color: white'><tr><th>household_id</th><th>household_size</th><th>num_adults</th><th>num_generations</th><th>adult_range</th><th>marital_status</th><th>race_code</th><th>presence_children</th><th>num_children</th><th>age_children</th><th>age_range_children</th><th>dwelling_type</th><th>home_owner_status</th><th>length_residence</th><th>home_market_value</th><th>num_vehicles</th><th>vehicle_make</th><th>vehicle_model</th><th>vehicle_year</th><th>net_worth</th><th>income</th><th>gender_individual</th><th>age_individual</th><th>education_highest</th><th>occupation_highest</th><th>education_1</th><th>occupation_1</th><th>age_2</th><th>education_2</th><th>occupation_2</th><th>age_3</th><th>education_3</th><th>occupation_3</th><th>age_4</th><th>education_4</th><th>occupation_4</th><th>age_5</th><th>education_5</th><th>occupation_5</th><th>polit_party_regist</th><th>polit_party_input</th><th>household_clusters</th><th>insurance_groups</th><th>financial_groups</th><th>green_living</th></tr></thead><tbody><tr><td>00000015</td><td>2</td><td>2</td><td>1</td><td>000000000000100000000</td><td>S</td><td>B</td><td>null</td><td>null</td><td>0000000000000000000</td><td>000000000000000</td><td>S</td><td>O</td><td>5</td><td>E</td><td>null</td><td>null</td><td>null</td><td>null</td><td>6</td><td>4</td><td>M</td><td>60</td><td>4</td><td>null</td><td>null</td><td>null</td><td>null</td><td>null</td><td>null</td><td>null</td><td>null</td><td>null</td><td>null</td><td>null</td><td>null</td><td>null</td><td>null</td><td>null</td><td>null</td><td>D</td><td>443</td><td>02C3</td><td>08C3</td><td>null</td></tr><tr><td>00000024</td><td>2</td><td>2</td><td>1</td><td>000000000100000000000</td><td>null</td><td>W</td><td>null</td><td>null</td><td>0000000000000000000</td><td>000000000000000</td><td>M</td><td>O</td><td>null</td><td>F</td><td>null</td><td>null</td><td>null</td><td>null</td><td>7</td><td>7</td><td>F</td><td>46</td><td>3</td><td>Z</td><td>null</td><td>null</td><td>null</td><td>null</td><td>null</td><td>null</td><td>null</td><td>null</td><td>null</td><td>null</td><td>null</td><td>null</td><td>null</td><td>null</td><td>null</td><td>R</td><td>223</td><td>09O3</td><td>03O3</td><td>null</td></tr><tr><td>00000026</td><td>null</td><td>null</td><td>null</td><td>000000000000000000000</td><td>null</td><td>null</td><td>null</td><td>null</td><td>0000000000000000000</td><td>000000000000000</td><td>S</td><td>null</td><td>null</td><td>F</td><td>null</td><td>null</td><td>null</td><td>null</td><td>null</td><td>null</td><td>null</td><td>null</td><td>null</td><td>null</td><td>null</td><td>null</td><td>null</td><td>null</td><td>null</td><td>null</td><td>null</td><td>null</td><td>null</td><td>null</td><td>null</td><td>null</td><td>null</td><td>null</td><td>null</td><td>null</td><td>46G</td><td>04CG</td><td>08CG</td><td>null</td></tr><tr><td>00000028</td><td>3</td><td>2</td><td>2</td><td>000000110000000000000</td><td>S</td><td>W</td><td>Y</td><td>1</td><td>0000010000000000000</td><td>000001000000000</td><td>S</td><td>O</td><td>3</td><td>H</td><td>null</td><td>null</td><td>null</td><td>null</td><td>5</td><td>7</td><td>M</td><td>38</td><td>2</td><td>4</td><td>null</td><td>null</td><td>34</td><td>1</td><td>7</td><td>null</td><td>null</td><td>null</td><td>null</td><td>null</td><td>null</td><td>null</td><td>null</td><td>null</td><td>null</td><td>V</td><td>473</td><td>11R3</td><td>09C3</td><td>1</td></tr><tr><td>00000035</td><td>1</td><td>1</td><td>1</td><td>000000000100000000000</td><td>null</td><td>W</td><td>null</td><td>null</td><td>0000000000000000000</td><td>000000000000000</td><td>null</td><td>null</td><td>null</td><td>G</td><td>null</td><td>null</td><td>null</td><td>null</td><td>4</td><td>null</td><td>M</td><td>50</td><td>2</td><td>1</td><td>null</td><td>null</td><td>null</td><td>null</td><td>null</td><td>null</td><td>null</td><td>null</td><td>null</td><td>null</td><td>null</td><td>null</td><td>null</td><td>null</td><td>null</td><td>D</td><td>523</td><td>13C3</td><td>08C3</td><td>null</td></tr><tr><td>00000036</td><td>null</td><td>null</td><td>null</td><td>000000000000000000000</td><td>null</td><td>null</td><td>null</td><td>null</td><td>0000000000000000000</td><td>000000000000000</td><td>null</td><td>null</td><td>null</td><td>G</td><td>null</td><td>null</td><td>null</td><td>null</td><td>null</td><td>null</td><td>null</td><td>null</td><td>null</td><td>null</td><td>null</td><td>null</td><td>null</td><td>null</td><td>null</td><td>null</td><td>null</td><td>null</td><td>null</td><td>null</td><td>null</td><td>null</td><td>null</td><td>null</td><td>null</td><td>null</td><td>51G</td><td>10RG</td><td>10RG</td><td>null</td></tr></tbody></table></div>"
      ]
     },
     "metadata": {
      "application/vnd.databricks.v1+output": {
       "addedWidgets": {},
       "aggData": [],
       "aggError": "",
       "aggOverflow": false,
       "aggSchema": [],
       "aggSeriesLimitReached": false,
       "aggType": "",
       "arguments": {},
       "columnCustomDisplayInfos": {},
       "data": [
        [
         "00000015",
         2,
         2,
         1,
         "000000000000100000000",
         "S",
         "B",
         null,
         null,
         "0000000000000000000",
         "000000000000000",
         "S",
         "O",
         5,
         "E",
         null,
         null,
         null,
         null,
         6,
         "4",
         "M",
         60,
         "4",
         null,
         null,
         null,
         null,
         null,
         null,
         null,
         null,
         null,
         null,
         null,
         null,
         null,
         null,
         null,
         null,
         "D",
         "443",
         "02C3",
         "08C3",
         null
        ],
        [
         "00000024",
         2,
         2,
         1,
         "000000000100000000000",
         null,
         "W",
         null,
         null,
         "0000000000000000000",
         "000000000000000",
         "M",
         "O",
         null,
         "F",
         null,
         null,
         null,
         null,
         7,
         "7",
         "F",
         46,
         "3",
         "Z",
         null,
         null,
         null,
         null,
         null,
         null,
         null,
         null,
         null,
         null,
         null,
         null,
         null,
         null,
         null,
         "R",
         "223",
         "09O3",
         "03O3",
         null
        ],
        [
         "00000026",
         null,
         null,
         null,
         "000000000000000000000",
         null,
         null,
         null,
         null,
         "0000000000000000000",
         "000000000000000",
         "S",
         null,
         null,
         "F",
         null,
         null,
         null,
         null,
         null,
         null,
         null,
         null,
         null,
         null,
         null,
         null,
         null,
         null,
         null,
         null,
         null,
         null,
         null,
         null,
         null,
         null,
         null,
         null,
         null,
         null,
         "46G",
         "04CG",
         "08CG",
         null
        ],
        [
         "00000028",
         3,
         2,
         2,
         "000000110000000000000",
         "S",
         "W",
         "Y",
         1,
         "0000010000000000000",
         "000001000000000",
         "S",
         "O",
         3,
         "H",
         null,
         null,
         null,
         null,
         5,
         "7",
         "M",
         38,
         "2",
         "4",
         null,
         null,
         34,
         "1",
         "7",
         null,
         null,
         null,
         null,
         null,
         null,
         null,
         null,
         null,
         null,
         "V",
         "473",
         "11R3",
         "09C3",
         "1"
        ],
        [
         "00000035",
         1,
         1,
         1,
         "000000000100000000000",
         null,
         "W",
         null,
         null,
         "0000000000000000000",
         "000000000000000",
         null,
         null,
         null,
         "G",
         null,
         null,
         null,
         null,
         4,
         null,
         "M",
         50,
         "2",
         "1",
         null,
         null,
         null,
         null,
         null,
         null,
         null,
         null,
         null,
         null,
         null,
         null,
         null,
         null,
         null,
         "D",
         "523",
         "13C3",
         "08C3",
         null
        ],
        [
         "00000036",
         null,
         null,
         null,
         "000000000000000000000",
         null,
         null,
         null,
         null,
         "0000000000000000000",
         "000000000000000",
         null,
         null,
         null,
         "G",
         null,
         null,
         null,
         null,
         null,
         null,
         null,
         null,
         null,
         null,
         null,
         null,
         null,
         null,
         null,
         null,
         null,
         null,
         null,
         null,
         null,
         null,
         null,
         null,
         null,
         null,
         "51G",
         "10RG",
         "10RG",
         null
        ]
       ],
       "datasetInfos": [],
       "dbfsResultPath": null,
       "isJsonSchema": true,
       "metadata": {},
       "overflow": false,
       "plotOptions": {
        "customPlotOptions": {},
        "displayType": "table",
        "pivotAggregation": null,
        "pivotColumns": null,
        "xColumns": null,
        "yColumns": null
       },
       "removedWidgets": [],
       "schema": [
        {
         "metadata": "{}",
         "name": "household_id",
         "type": "\"string\""
        },
        {
         "metadata": "{}",
         "name": "household_size",
         "type": "\"integer\""
        },
        {
         "metadata": "{}",
         "name": "num_adults",
         "type": "\"integer\""
        },
        {
         "metadata": "{}",
         "name": "num_generations",
         "type": "\"integer\""
        },
        {
         "metadata": "{}",
         "name": "adult_range",
         "type": "\"string\""
        },
        {
         "metadata": "{}",
         "name": "marital_status",
         "type": "\"string\""
        },
        {
         "metadata": "{}",
         "name": "race_code",
         "type": "\"string\""
        },
        {
         "metadata": "{}",
         "name": "presence_children",
         "type": "\"string\""
        },
        {
         "metadata": "{}",
         "name": "num_children",
         "type": "\"integer\""
        },
        {
         "metadata": "{}",
         "name": "age_children",
         "type": "\"string\""
        },
        {
         "metadata": "{}",
         "name": "age_range_children",
         "type": "\"string\""
        },
        {
         "metadata": "{}",
         "name": "dwelling_type",
         "type": "\"string\""
        },
        {
         "metadata": "{}",
         "name": "home_owner_status",
         "type": "\"string\""
        },
        {
         "metadata": "{}",
         "name": "length_residence",
         "type": "\"integer\""
        },
        {
         "metadata": "{}",
         "name": "home_market_value",
         "type": "\"string\""
        },
        {
         "metadata": "{}",
         "name": "num_vehicles",
         "type": "\"integer\""
        },
        {
         "metadata": "{}",
         "name": "vehicle_make",
         "type": "\"string\""
        },
        {
         "metadata": "{}",
         "name": "vehicle_model",
         "type": "\"string\""
        },
        {
         "metadata": "{}",
         "name": "vehicle_year",
         "type": "\"integer\""
        },
        {
         "metadata": "{}",
         "name": "net_worth",
         "type": "\"integer\""
        },
        {
         "metadata": "{}",
         "name": "income",
         "type": "\"string\""
        },
        {
         "metadata": "{}",
         "name": "gender_individual",
         "type": "\"string\""
        },
        {
         "metadata": "{}",
         "name": "age_individual",
         "type": "\"integer\""
        },
        {
         "metadata": "{}",
         "name": "education_highest",
         "type": "\"string\""
        },
        {
         "metadata": "{}",
         "name": "occupation_highest",
         "type": "\"string\""
        },
        {
         "metadata": "{}",
         "name": "education_1",
         "type": "\"string\""
        },
        {
         "metadata": "{}",
         "name": "occupation_1",
         "type": "\"string\""
        },
        {
         "metadata": "{}",
         "name": "age_2",
         "type": "\"integer\""
        },
        {
         "metadata": "{}",
         "name": "education_2",
         "type": "\"string\""
        },
        {
         "metadata": "{}",
         "name": "occupation_2",
         "type": "\"string\""
        },
        {
         "metadata": "{}",
         "name": "age_3",
         "type": "\"integer\""
        },
        {
         "metadata": "{}",
         "name": "education_3",
         "type": "\"string\""
        },
        {
         "metadata": "{}",
         "name": "occupation_3",
         "type": "\"string\""
        },
        {
         "metadata": "{}",
         "name": "age_4",
         "type": "\"integer\""
        },
        {
         "metadata": "{}",
         "name": "education_4",
         "type": "\"string\""
        },
        {
         "metadata": "{}",
         "name": "occupation_4",
         "type": "\"string\""
        },
        {
         "metadata": "{}",
         "name": "age_5",
         "type": "\"integer\""
        },
        {
         "metadata": "{}",
         "name": "education_5",
         "type": "\"string\""
        },
        {
         "metadata": "{}",
         "name": "occupation_5",
         "type": "\"string\""
        },
        {
         "metadata": "{}",
         "name": "polit_party_regist",
         "type": "\"string\""
        },
        {
         "metadata": "{}",
         "name": "polit_party_input",
         "type": "\"string\""
        },
        {
         "metadata": "{}",
         "name": "household_clusters",
         "type": "\"string\""
        },
        {
         "metadata": "{}",
         "name": "insurance_groups",
         "type": "\"string\""
        },
        {
         "metadata": "{}",
         "name": "financial_groups",
         "type": "\"string\""
        },
        {
         "metadata": "{}",
         "name": "green_living",
         "type": "\"string\""
        }
       ],
       "type": "table"
      }
     },
     "output_type": "display_data"
    },
    {
     "output_type": "stream",
     "name": "stdout",
     "output_type": "stream",
     "text": [
      "CPU times: user 93.5 ms, sys: 13.1 ms, total: 107 ms\nWall time: 23.8 s\n"
     ]
    }
   ],
   "source": [
    "%%time\n",
    "# demographic data filename is 'demographic'\n",
    "demo_df = load_csv_file('demographic', schemas_dict['demographic'])\n",
    "demo_df.count()\n",
    "demo_df.printSchema()\n",
    "print(f'demo_df contains {demo_df.count()} records!')\n",
    "display(demo_df.limit(6))"
   ]
  },
  {
   "cell_type": "markdown",
   "metadata": {
    "application/vnd.databricks.v1+cell": {
     "cellMetadata": {
      "byteLimit": 2048000,
      "rowLimit": 10000
     },
     "inputWidgets": {},
     "nuid": "fc877be4-441e-4ffb-946c-af0d57012e93",
     "showTitle": false,
     "tableResultSettingsMap": {},
     "title": ""
    }
   },
   "source": [
    "# Read Daily program data"
   ]
  },
  {
   "cell_type": "code",
   "execution_count": 0,
   "metadata": {
    "application/vnd.databricks.v1+cell": {
     "cellMetadata": {
      "byteLimit": 2048000,
      "rowLimit": 10000
     },
     "inputWidgets": {},
     "nuid": "337f900c-e411-418c-9126-12171701156a",
     "showTitle": false,
     "tableResultSettingsMap": {},
     "title": ""
    }
   },
   "outputs": [
    {
     "output_type": "stream",
     "name": "stdout",
     "output_type": "stream",
     "text": [
      "root\n |-- prog_code: string (nullable = true)\n |-- title: string (nullable = true)\n |-- genre: string (nullable = true)\n |-- air_date: string (nullable = true)\n |-- air_time: string (nullable = true)\n |-- Duration: float (nullable = true)\n\ndaily_prog_df contains 13194849 records!\n"
     ]
    },
    {
     "output_type": "display_data",
     "data": {
      "text/html": [
       "<style scoped>\n",
       "  .table-result-container {\n",
       "    max-height: 300px;\n",
       "    overflow: auto;\n",
       "  }\n",
       "  table, th, td {\n",
       "    border: 1px solid black;\n",
       "    border-collapse: collapse;\n",
       "  }\n",
       "  th, td {\n",
       "    padding: 5px;\n",
       "  }\n",
       "  th {\n",
       "    text-align: left;\n",
       "  }\n",
       "</style><div class='table-result-container'><table class='table-result'><thead style='background-color: white'><tr><th>prog_code</th><th>title</th><th>genre</th><th>air_date</th><th>air_time</th><th>Duration</th></tr></thead><tbody><tr><td>EP000000250035</td><td>21 Jump Street</td><td>Crime drama</td><td>20151219</td><td>050000</td><td>60.0</td></tr><tr><td>EP000000250035</td><td>21 Jump Street</td><td>Crime drama</td><td>20151219</td><td>110000</td><td>60.0</td></tr><tr><td>EP000000250063</td><td>21 Jump Street</td><td>Crime drama</td><td>20151219</td><td>180000</td><td>60.0</td></tr><tr><td>EP000000510007</td><td>A Different World</td><td>Sitcom</td><td>20151219</td><td>100000</td><td>30.0</td></tr><tr><td>EP000000510008</td><td>A Different World</td><td>Sitcom</td><td>20151219</td><td>103000</td><td>30.0</td></tr><tr><td>EP000000510159</td><td>A Different World</td><td>Sitcom</td><td>20151219</td><td>080300</td><td>29.0</td></tr></tbody></table></div>"
      ]
     },
     "metadata": {
      "application/vnd.databricks.v1+output": {
       "addedWidgets": {},
       "aggData": [],
       "aggError": "",
       "aggOverflow": false,
       "aggSchema": [],
       "aggSeriesLimitReached": false,
       "aggType": "",
       "arguments": {},
       "columnCustomDisplayInfos": {},
       "data": [
        [
         "EP000000250035",
         "21 Jump Street",
         "Crime drama",
         "20151219",
         "050000",
         60.0
        ],
        [
         "EP000000250035",
         "21 Jump Street",
         "Crime drama",
         "20151219",
         "110000",
         60.0
        ],
        [
         "EP000000250063",
         "21 Jump Street",
         "Crime drama",
         "20151219",
         "180000",
         60.0
        ],
        [
         "EP000000510007",
         "A Different World",
         "Sitcom",
         "20151219",
         "100000",
         30.0
        ],
        [
         "EP000000510008",
         "A Different World",
         "Sitcom",
         "20151219",
         "103000",
         30.0
        ],
        [
         "EP000000510159",
         "A Different World",
         "Sitcom",
         "20151219",
         "080300",
         29.0
        ]
       ],
       "datasetInfos": [],
       "dbfsResultPath": null,
       "isJsonSchema": true,
       "metadata": {},
       "overflow": false,
       "plotOptions": {
        "customPlotOptions": {},
        "displayType": "table",
        "pivotAggregation": null,
        "pivotColumns": null,
        "xColumns": null,
        "yColumns": null
       },
       "removedWidgets": [],
       "schema": [
        {
         "metadata": "{}",
         "name": "prog_code",
         "type": "\"string\""
        },
        {
         "metadata": "{}",
         "name": "title",
         "type": "\"string\""
        },
        {
         "metadata": "{}",
         "name": "genre",
         "type": "\"string\""
        },
        {
         "metadata": "{}",
         "name": "air_date",
         "type": "\"string\""
        },
        {
         "metadata": "{}",
         "name": "air_time",
         "type": "\"string\""
        },
        {
         "metadata": "{}",
         "name": "Duration",
         "type": "\"float\""
        }
       ],
       "type": "table"
      }
     },
     "output_type": "display_data"
    },
    {
     "output_type": "stream",
     "name": "stdout",
     "output_type": "stream",
     "text": [
      "CPU times: user 17.6 ms, sys: 7.37 ms, total: 25 ms\nWall time: 15.1 s\n"
     ]
    }
   ],
   "source": [
    "%%time\n",
    "# daily_program data filename is 'Daily program data'\n",
    "daily_prog_df = load_csv_file('Daily program data', schemas_dict['Daily program data'])\n",
    "\n",
    "daily_prog_df.printSchema()\n",
    "print(f'daily_prog_df contains {daily_prog_df.count()} records!')\n",
    "display(daily_prog_df.limit(6))"
   ]
  },
  {
   "cell_type": "markdown",
   "metadata": {
    "application/vnd.databricks.v1+cell": {
     "cellMetadata": {
      "byteLimit": 2048000,
      "rowLimit": 10000
     },
     "inputWidgets": {},
     "nuid": "27e339d4-c508-4a7c-8acb-2a43baa0da8e",
     "showTitle": false,
     "tableResultSettingsMap": {},
     "title": ""
    }
   },
   "source": [
    "# Read viewing data"
   ]
  },
  {
   "cell_type": "code",
   "execution_count": 0,
   "metadata": {
    "application/vnd.databricks.v1+cell": {
     "cellMetadata": {
      "byteLimit": 2048000,
      "rowLimit": 10000
     },
     "inputWidgets": {},
     "nuid": "a127c6a4-75cf-40ba-a0f5-a2ca5c0b5bfe",
     "showTitle": false,
     "tableResultSettingsMap": {},
     "title": ""
    }
   },
   "outputs": [
    {
     "output_type": "display_data",
     "data": {
      "text/html": [
       "<style scoped>\n",
       "  .table-result-container {\n",
       "    max-height: 300px;\n",
       "    overflow: auto;\n",
       "  }\n",
       "  table, th, td {\n",
       "    border: 1px solid black;\n",
       "    border-collapse: collapse;\n",
       "  }\n",
       "  th, td {\n",
       "    padding: 5px;\n",
       "  }\n",
       "  th {\n",
       "    text-align: left;\n",
       "  }\n",
       "</style><div class='table-result-container'><table class='table-result'><thead style='background-color: white'><tr><th>mso_code</th><th>device_id</th><th>event_date</th><th>event_time</th><th>station_num</th><th>prog_code</th></tr></thead><tbody><tr><td>01540</td><td>0000000050f3</td><td>20150222</td><td>193802</td><td>61812</td><td>EP009279780033</td></tr><tr><td>01540</td><td>0000000050f3</td><td>20150222</td><td>195314</td><td>31709</td><td>EP021056430002</td></tr><tr><td>01540</td><td>0000000050f3</td><td>20150222</td><td>200151</td><td>61812</td><td>EP009279780033</td></tr><tr><td>01540</td><td>000000005518</td><td>20150222</td><td>111139</td><td>46784</td><td>EP004891370013</td></tr><tr><td>01540</td><td>000000005518</td><td>20150222</td><td>190000</td><td>14771</td><td>EP012124070127</td></tr><tr><td>01540</td><td>000000005518</td><td>20150222</td><td>200000</td><td>14771</td><td>EP010237320166</td></tr></tbody></table></div>"
      ]
     },
     "metadata": {
      "application/vnd.databricks.v1+output": {
       "addedWidgets": {},
       "aggData": [],
       "aggError": "",
       "aggOverflow": false,
       "aggSchema": [],
       "aggSeriesLimitReached": false,
       "aggType": "",
       "arguments": {},
       "columnCustomDisplayInfos": {},
       "data": [
        [
         "01540",
         "0000000050f3",
         20150222,
         193802,
         "61812",
         "EP009279780033"
        ],
        [
         "01540",
         "0000000050f3",
         20150222,
         195314,
         "31709",
         "EP021056430002"
        ],
        [
         "01540",
         "0000000050f3",
         20150222,
         200151,
         "61812",
         "EP009279780033"
        ],
        [
         "01540",
         "000000005518",
         20150222,
         111139,
         "46784",
         "EP004891370013"
        ],
        [
         "01540",
         "000000005518",
         20150222,
         190000,
         "14771",
         "EP012124070127"
        ],
        [
         "01540",
         "000000005518",
         20150222,
         200000,
         "14771",
         "EP010237320166"
        ]
       ],
       "datasetInfos": [],
       "dbfsResultPath": null,
       "isJsonSchema": true,
       "metadata": {},
       "overflow": false,
       "plotOptions": {
        "customPlotOptions": {},
        "displayType": "table",
        "pivotAggregation": null,
        "pivotColumns": null,
        "xColumns": null,
        "yColumns": null
       },
       "removedWidgets": [],
       "schema": [
        {
         "metadata": "{}",
         "name": "mso_code",
         "type": "\"string\""
        },
        {
         "metadata": "{}",
         "name": "device_id",
         "type": "\"string\""
        },
        {
         "metadata": "{}",
         "name": "event_date",
         "type": "\"integer\""
        },
        {
         "metadata": "{}",
         "name": "event_time",
         "type": "\"integer\""
        },
        {
         "metadata": "{}",
         "name": "station_num",
         "type": "\"string\""
        },
        {
         "metadata": "{}",
         "name": "prog_code",
         "type": "\"string\""
        }
       ],
       "type": "table"
      }
     },
     "output_type": "display_data"
    },
    {
     "output_type": "stream",
     "name": "stdout",
     "output_type": "stream",
     "text": [
      "viewing10m_df contains 9935852 rows!\n"
     ]
    }
   ],
   "source": [
    "dataPath = \"dbfs:/FileStore/ddm/10m_viewing\"\n",
    "\n",
    "viewing10m_df = spark.read.format(\"csv\")\\\n",
    "    .option(\"header\",\"true\")\\\n",
    "    .option(\"delimiter\",\",\")\\\n",
    "    .schema(schemas_dict['viewing_full'])\\\n",
    "    .load(dataPath)\n",
    "\n",
    "display(viewing10m_df.limit(6))\n",
    "print(f'viewing10m_df contains {viewing10m_df.count()} rows!')"
   ]
  },
  {
   "cell_type": "markdown",
   "metadata": {
    "application/vnd.databricks.v1+cell": {
     "cellMetadata": {
      "byteLimit": 2048000,
      "rowLimit": 10000
     },
     "inputWidgets": {},
     "nuid": "1c12a188-ba94-431f-ace1-668c36be86ff",
     "showTitle": false,
     "tableResultSettingsMap": {},
     "title": ""
    }
   },
   "source": [
    "# Read reference data"
   ]
  },
  {
   "cell_type": "markdown",
   "metadata": {
    "application/vnd.databricks.v1+cell": {
     "cellMetadata": {
      "byteLimit": 2048000,
      "rowLimit": 10000
     },
     "inputWidgets": {},
     "nuid": "08701cf0-0ea4-4af6-b678-b6b6f984c8d5",
     "showTitle": false,
     "tableResultSettingsMap": {},
     "title": ""
    }
   },
   "source": [
    "Note that we removed the 'System Type' column."
   ]
  },
  {
   "cell_type": "code",
   "execution_count": 0,
   "metadata": {
    "application/vnd.databricks.v1+cell": {
     "cellMetadata": {
      "byteLimit": 2048000,
      "rowLimit": 10000
     },
     "inputWidgets": {},
     "nuid": "4852dbfb-72ea-4ef2-8574-a8e5477a2adb",
     "showTitle": false,
     "tableResultSettingsMap": {},
     "title": ""
    }
   },
   "outputs": [
    {
     "output_type": "display_data",
     "data": {
      "text/html": [
       "<style scoped>\n",
       "  .table-result-container {\n",
       "    max-height: 300px;\n",
       "    overflow: auto;\n",
       "  }\n",
       "  table, th, td {\n",
       "    border: 1px solid black;\n",
       "    border-collapse: collapse;\n",
       "  }\n",
       "  th, td {\n",
       "    padding: 5px;\n",
       "  }\n",
       "  th {\n",
       "    text-align: left;\n",
       "  }\n",
       "</style><div class='table-result-container'><table class='table-result'><thead style='background-color: white'><tr><th>device_id</th><th>dma</th><th>dma_code</th><th>household_id</th><th>zipcode</th></tr></thead><tbody><tr><td>0000000050f3</td><td>Toledo</td><td>547</td><td>1471346</td><td>43609</td></tr><tr><td>000000006785</td><td>Amarillo</td><td>634</td><td>1924512</td><td>79119</td></tr><tr><td>000000007320</td><td>Lake Charles</td><td>643</td><td>3154808</td><td>70634</td></tr><tr><td>000000007df9</td><td>Lake Charles</td><td>643</td><td>1924566</td><td>70601</td></tr><tr><td>000000009595</td><td>Lexington</td><td>541</td><td>1600886</td><td>40601</td></tr><tr><td>000000009c6a</td><td>Houston</td><td>618</td><td>1924713</td><td>77339</td></tr></tbody></table></div>"
      ]
     },
     "metadata": {
      "application/vnd.databricks.v1+output": {
       "addedWidgets": {},
       "aggData": [],
       "aggError": "",
       "aggOverflow": false,
       "aggSchema": [],
       "aggSeriesLimitReached": false,
       "aggType": "",
       "arguments": {},
       "columnCustomDisplayInfos": {},
       "data": [
        [
         "0000000050f3",
         "Toledo",
         "547",
         "1471346",
         43609
        ],
        [
         "000000006785",
         "Amarillo",
         "634",
         "1924512",
         79119
        ],
        [
         "000000007320",
         "Lake Charles",
         "643",
         "3154808",
         70634
        ],
        [
         "000000007df9",
         "Lake Charles",
         "643",
         "1924566",
         70601
        ],
        [
         "000000009595",
         "Lexington",
         "541",
         "1600886",
         40601
        ],
        [
         "000000009c6a",
         "Houston",
         "618",
         "1924713",
         77339
        ]
       ],
       "datasetInfos": [],
       "dbfsResultPath": null,
       "isJsonSchema": true,
       "metadata": {},
       "overflow": false,
       "plotOptions": {
        "customPlotOptions": {},
        "displayType": "table",
        "pivotAggregation": null,
        "pivotColumns": null,
        "xColumns": null,
        "yColumns": null
       },
       "removedWidgets": [],
       "schema": [
        {
         "metadata": "{}",
         "name": "device_id",
         "type": "\"string\""
        },
        {
         "metadata": "{}",
         "name": "dma",
         "type": "\"string\""
        },
        {
         "metadata": "{}",
         "name": "dma_code",
         "type": "\"string\""
        },
        {
         "metadata": "{}",
         "name": "household_id",
         "type": "\"string\""
        },
        {
         "metadata": "{}",
         "name": "zipcode",
         "type": "\"long\""
        }
       ],
       "type": "table"
      }
     },
     "output_type": "display_data"
    },
    {
     "output_type": "stream",
     "name": "stdout",
     "output_type": "stream",
     "text": [
      "ref_data contains 704172 rows!\n"
     ]
    }
   ],
   "source": [
    "# Read the new parquet\n",
    "ref_data_schema = StructType([\n",
    "    StructField('device_id', StringType()),\n",
    "    StructField('dma', StringType()),\n",
    "    StructField('dma_code', StringType()),\n",
    "    StructField('household_id', IntegerType()),\n",
    "    StructField('zipcode', IntegerType())\n",
    "])\n",
    "\n",
    "# Reading as a Parquet\n",
    "dataPath = f\"dbfs:/FileStore/ddm/ref_data\"\n",
    "ref_data = spark.read.format('parquet') \\\n",
    "                    .option(\"inferSchema\",\"true\")\\\n",
    "                    .load(dataPath)\n",
    "                    \n",
    "display(ref_data.limit(6))\n",
    "print(f'ref_data contains {ref_data.count()} rows!')"
   ]
  },
  {
   "cell_type": "code",
   "execution_count": 0,
   "metadata": {
    "application/vnd.databricks.v1+cell": {
     "cellMetadata": {
      "byteLimit": 2048000,
      "rowLimit": 10000
     },
     "inputWidgets": {},
     "nuid": "cff62a3a-3b4d-49c1-8ae0-6e2ebfc7b098",
     "showTitle": false,
     "tableResultSettingsMap": {},
     "title": ""
    }
   },
   "outputs": [
    {
     "output_type": "display_data",
     "data": {
      "text/html": [
       "<style scoped>\n",
       "  .table-result-container {\n",
       "    max-height: 300px;\n",
       "    overflow: auto;\n",
       "  }\n",
       "  table, th, td {\n",
       "    border: 1px solid black;\n",
       "    border-collapse: collapse;\n",
       "  }\n",
       "  th, td {\n",
       "    padding: 5px;\n",
       "  }\n",
       "  th {\n",
       "    text-align: left;\n",
       "  }\n",
       "</style><div class='table-result-container'><table class='table-result'><thead style='background-color: white'><tr><th>prog_code</th><th>device_id</th></tr></thead><tbody><tr><td>EP009279780033</td><td>0000000050f3</td></tr><tr><td>EP021056430002</td><td>0000000050f3</td></tr><tr><td>EP009279780033</td><td>0000000050f3</td></tr><tr><td>EP004891370013</td><td>000000005518</td></tr><tr><td>EP012124070127</td><td>000000005518</td></tr><tr><td>EP010237320166</td><td>000000005518</td></tr></tbody></table></div>"
      ]
     },
     "metadata": {
      "application/vnd.databricks.v1+output": {
       "addedWidgets": {},
       "aggData": [],
       "aggError": "",
       "aggOverflow": false,
       "aggSchema": [],
       "aggSeriesLimitReached": false,
       "aggType": "",
       "arguments": {},
       "columnCustomDisplayInfos": {},
       "data": [
        [
         "EP009279780033",
         "0000000050f3"
        ],
        [
         "EP021056430002",
         "0000000050f3"
        ],
        [
         "EP009279780033",
         "0000000050f3"
        ],
        [
         "EP004891370013",
         "000000005518"
        ],
        [
         "EP012124070127",
         "000000005518"
        ],
        [
         "EP010237320166",
         "000000005518"
        ]
       ],
       "datasetInfos": [],
       "dbfsResultPath": null,
       "isJsonSchema": true,
       "metadata": {},
       "overflow": false,
       "plotOptions": {
        "customPlotOptions": {},
        "displayType": "table",
        "pivotAggregation": null,
        "pivotColumns": null,
        "xColumns": null,
        "yColumns": null
       },
       "removedWidgets": [],
       "schema": [
        {
         "metadata": "{}",
         "name": "prog_code",
         "type": "\"string\""
        },
        {
         "metadata": "{}",
         "name": "device_id",
         "type": "\"string\""
        }
       ],
       "type": "table"
      }
     },
     "output_type": "display_data"
    },
    {
     "output_type": "stream",
     "name": "stdout",
     "output_type": "stream",
     "text": [
      " contains 9935852 rows!\n"
     ]
    }
   ],
   "source": [
    "viewing_clean_df = viewing10m_df.select(['prog_code', 'device_id'])\n",
    "\n",
    "display(viewing_clean_df.limit(6))\n",
    "print(f' contains {viewing_clean_df.count()} rows!')"
   ]
  },
  {
   "cell_type": "code",
   "execution_count": 0,
   "metadata": {
    "application/vnd.databricks.v1+cell": {
     "cellMetadata": {
      "byteLimit": 2048000,
      "rowLimit": 10000
     },
     "inputWidgets": {},
     "nuid": "18d7ffce-80e7-4d55-b0d3-1434eac03ac7",
     "showTitle": false,
     "tableResultSettingsMap": {},
     "title": ""
    }
   },
   "outputs": [
    {
     "output_type": "display_data",
     "data": {
      "text/html": [
       "<style scoped>\n",
       "  .table-result-container {\n",
       "    max-height: 300px;\n",
       "    overflow: auto;\n",
       "  }\n",
       "  table, th, td {\n",
       "    border: 1px solid black;\n",
       "    border-collapse: collapse;\n",
       "  }\n",
       "  th, td {\n",
       "    padding: 5px;\n",
       "  }\n",
       "  th {\n",
       "    text-align: left;\n",
       "  }\n",
       "</style><div class='table-result-container'><table class='table-result'><thead style='background-color: white'><tr><th>household_id</th><th>device_id</th><th>device_count</th></tr></thead><tbody><tr><td>1471346</td><td>0000000050f3</td><td>1</td></tr><tr><td>1924512</td><td>000000006785</td><td>3</td></tr><tr><td>3154808</td><td>000000007320</td><td>2</td></tr><tr><td>1924566</td><td>000000007df9</td><td>3</td></tr><tr><td>1600886</td><td>000000009595</td><td>3</td></tr><tr><td>1924713</td><td>000000009c6a</td><td>2</td></tr></tbody></table></div>"
      ]
     },
     "metadata": {
      "application/vnd.databricks.v1+output": {
       "addedWidgets": {},
       "aggData": [],
       "aggError": "",
       "aggOverflow": false,
       "aggSchema": [],
       "aggSeriesLimitReached": false,
       "aggType": "",
       "arguments": {},
       "columnCustomDisplayInfos": {},
       "data": [
        [
         "1471346",
         "0000000050f3",
         1
        ],
        [
         "1924512",
         "000000006785",
         3
        ],
        [
         "3154808",
         "000000007320",
         2
        ],
        [
         "1924566",
         "000000007df9",
         3
        ],
        [
         "1600886",
         "000000009595",
         3
        ],
        [
         "1924713",
         "000000009c6a",
         2
        ]
       ],
       "datasetInfos": [],
       "dbfsResultPath": null,
       "isJsonSchema": true,
       "metadata": {},
       "overflow": false,
       "plotOptions": {
        "customPlotOptions": {},
        "displayType": "table",
        "pivotAggregation": null,
        "pivotColumns": null,
        "xColumns": null,
        "yColumns": null
       },
       "removedWidgets": [],
       "schema": [
        {
         "metadata": "{}",
         "name": "household_id",
         "type": "\"string\""
        },
        {
         "metadata": "{}",
         "name": "device_id",
         "type": "\"string\""
        },
        {
         "metadata": "{}",
         "name": "device_count",
         "type": "\"long\""
        }
       ],
       "type": "table"
      }
     },
     "output_type": "display_data"
    },
    {
     "output_type": "stream",
     "name": "stdout",
     "output_type": "stream",
     "text": [
      " contains 704172 rows!\n"
     ]
    }
   ],
   "source": [
    "ref_data = ref_data.select(['device_id','household_id'])\n",
    "ref_data = ref_data.withColumn('temp', lit(1))\n",
    "device_count_df = ref_data.groupBy('household_id').agg(sum('temp').alias('device_count'))\n",
    "ref_data = ref_data.join(device_count_df, on='household_id', how='left')\n",
    "ref_data = ref_data.drop('temp')\n",
    "display(ref_data.limit(6))\n",
    "print(f' contains {ref_data.count()} rows!')"
   ]
  },
  {
   "cell_type": "code",
   "execution_count": 0,
   "metadata": {
    "application/vnd.databricks.v1+cell": {
     "cellMetadata": {
      "byteLimit": 2048000,
      "rowLimit": 10000
     },
     "inputWidgets": {},
     "nuid": "2bb3e7aa-5a8d-4387-b1da-909cddfc4bae",
     "showTitle": false,
     "tableResultSettingsMap": {},
     "title": ""
    }
   },
   "outputs": [
    {
     "output_type": "display_data",
     "data": {
      "text/html": [
       "<style scoped>\n",
       "  .table-result-container {\n",
       "    max-height: 300px;\n",
       "    overflow: auto;\n",
       "  }\n",
       "  table, th, td {\n",
       "    border: 1px solid black;\n",
       "    border-collapse: collapse;\n",
       "  }\n",
       "  th, td {\n",
       "    padding: 5px;\n",
       "  }\n",
       "  th {\n",
       "    text-align: left;\n",
       "  }\n",
       "</style><div class='table-result-container'><table class='table-result'><thead style='background-color: white'><tr><th>household_id</th><th>num_adults</th><th>age_individual</th><th>age_2</th><th>vehicle_make</th><th>income</th><th>cond_3</th></tr></thead><tbody><tr><td>00000015</td><td>2</td><td>60</td><td>null</td><td>null</td><td>4.0</td><td>false</td></tr><tr><td>00000024</td><td>2</td><td>46</td><td>null</td><td>null</td><td>7.0</td><td>false</td></tr><tr><td>00000026</td><td>null</td><td>null</td><td>null</td><td>null</td><td>null</td><td>false</td></tr><tr><td>00000028</td><td>2</td><td>38</td><td>34</td><td>null</td><td>7.0</td><td>true</td></tr><tr><td>00000035</td><td>1</td><td>50</td><td>null</td><td>null</td><td>null</td><td>false</td></tr><tr><td>00000036</td><td>null</td><td>null</td><td>null</td><td>null</td><td>null</td><td>false</td></tr></tbody></table></div>"
      ]
     },
     "metadata": {
      "application/vnd.databricks.v1+output": {
       "addedWidgets": {},
       "aggData": [],
       "aggError": "",
       "aggOverflow": false,
       "aggSchema": [],
       "aggSeriesLimitReached": false,
       "aggType": "",
       "arguments": {},
       "columnCustomDisplayInfos": {},
       "data": [
        [
         "00000015",
         2,
         60,
         null,
         null,
         4.0,
         false
        ],
        [
         "00000024",
         2,
         46,
         null,
         null,
         7.0,
         false
        ],
        [
         "00000026",
         null,
         null,
         null,
         null,
         null,
         false
        ],
        [
         "00000028",
         2,
         38,
         34,
         null,
         7.0,
         true
        ],
        [
         "00000035",
         1,
         50,
         null,
         null,
         null,
         false
        ],
        [
         "00000036",
         null,
         null,
         null,
         null,
         null,
         false
        ]
       ],
       "datasetInfos": [],
       "dbfsResultPath": null,
       "isJsonSchema": true,
       "metadata": {},
       "overflow": false,
       "plotOptions": {
        "customPlotOptions": {},
        "displayType": "table",
        "pivotAggregation": null,
        "pivotColumns": null,
        "xColumns": null,
        "yColumns": null
       },
       "removedWidgets": [],
       "schema": [
        {
         "metadata": "{}",
         "name": "household_id",
         "type": "\"string\""
        },
        {
         "metadata": "{}",
         "name": "num_adults",
         "type": "\"integer\""
        },
        {
         "metadata": "{}",
         "name": "age_individual",
         "type": "\"integer\""
        },
        {
         "metadata": "{}",
         "name": "age_2",
         "type": "\"integer\""
        },
        {
         "metadata": "{}",
         "name": "vehicle_make",
         "type": "\"string\""
        },
        {
         "metadata": "{}",
         "name": "income",
         "type": "\"double\""
        },
        {
         "metadata": "{}",
         "name": "cond_3",
         "type": "\"boolean\""
        }
       ],
       "type": "table"
      }
     },
     "output_type": "display_data"
    },
    {
     "output_type": "stream",
     "name": "stdout",
     "output_type": "stream",
     "text": [
      " contains 357721 rows!\n"
     ]
    }
   ],
   "source": [
    "demo_df = demo_df.select(['household_id','num_adults','age_individual','age_2','vehicle_make','income'])\n",
    "demo_df = demo_df.withColumn('income',\n",
    "                             when(col('income') == 'A', 10.0)\n",
    "                             .when(col('income') == 'B', 11.0)\n",
    "                             .when(col('income') == 'C', 12.0)\n",
    "                             .when(col('income') == 'D', 13.0)\n",
    "                             .otherwise(col('income').cast(\"double\")))\n",
    "house_avg = demo_df.agg(avg(col('income'))).first()[0]\n",
    "demo_df = demo_df.withColumn('cond_3',\n",
    "                              when(\n",
    "                                 (col('num_adults') == 2) & (abs(col('age_individual')-col('age_2')) <= 6), True)\n",
    "                              .otherwise(False))\n",
    "\n",
    "display(demo_df.limit(6))\n",
    "print(f' contains {demo_df.count()} rows!') "
   ]
  },
  {
   "cell_type": "code",
   "execution_count": 0,
   "metadata": {
    "application/vnd.databricks.v1+cell": {
     "cellMetadata": {
      "byteLimit": 2048000,
      "rowLimit": 10000
     },
     "inputWidgets": {},
     "nuid": "2956f6da-8d7e-4742-a501-854ccfbeb8a5",
     "showTitle": false,
     "tableResultSettingsMap": {},
     "title": ""
    }
   },
   "outputs": [
    {
     "output_type": "display_data",
     "data": {
      "text/html": [
       "<style scoped>\n",
       "  .table-result-container {\n",
       "    max-height: 300px;\n",
       "    overflow: auto;\n",
       "  }\n",
       "  table, th, td {\n",
       "    border: 1px solid black;\n",
       "    border-collapse: collapse;\n",
       "  }\n",
       "  th, td {\n",
       "    padding: 5px;\n",
       "  }\n",
       "  th {\n",
       "    text-align: left;\n",
       "  }\n",
       "</style><div class='table-result-container'><table class='table-result'><thead style='background-color: white'><tr><th>prog_code</th><th>title</th><th>air_date</th><th>Duration</th><th>cnt_title</th><th>genre_array</th><th>is_suspicious_genre</th></tr></thead><tbody><tr><td>EP000000250035</td><td>21 Jump Street</td><td>20151219</td><td>60.0</td><td>0</td><td>List(Crime drama)</td><td>false</td></tr><tr><td>EP000000250035</td><td>21 Jump Street</td><td>20151219</td><td>60.0</td><td>0</td><td>List(Crime drama)</td><td>false</td></tr><tr><td>EP000000250063</td><td>21 Jump Street</td><td>20151219</td><td>60.0</td><td>0</td><td>List(Crime drama)</td><td>false</td></tr><tr><td>EP000000510007</td><td>A Different World</td><td>20151219</td><td>30.0</td><td>0</td><td>List(Sitcom)</td><td>false</td></tr><tr><td>EP000000510008</td><td>A Different World</td><td>20151219</td><td>30.0</td><td>0</td><td>List(Sitcom)</td><td>false</td></tr><tr><td>EP000000510159</td><td>A Different World</td><td>20151219</td><td>29.0</td><td>0</td><td>List(Sitcom)</td><td>false</td></tr></tbody></table></div>"
      ]
     },
     "metadata": {
      "application/vnd.databricks.v1+output": {
       "addedWidgets": {},
       "aggData": [],
       "aggError": "",
       "aggOverflow": false,
       "aggSchema": [],
       "aggSeriesLimitReached": false,
       "aggType": "",
       "arguments": {},
       "columnCustomDisplayInfos": {},
       "data": [
        [
         "EP000000250035",
         "21 Jump Street",
         "20151219",
         60.0,
         0,
         [
          "Crime drama"
         ],
         false
        ],
        [
         "EP000000250035",
         "21 Jump Street",
         "20151219",
         60.0,
         0,
         [
          "Crime drama"
         ],
         false
        ],
        [
         "EP000000250063",
         "21 Jump Street",
         "20151219",
         60.0,
         0,
         [
          "Crime drama"
         ],
         false
        ],
        [
         "EP000000510007",
         "A Different World",
         "20151219",
         30.0,
         0,
         [
          "Sitcom"
         ],
         false
        ],
        [
         "EP000000510008",
         "A Different World",
         "20151219",
         30.0,
         0,
         [
          "Sitcom"
         ],
         false
        ],
        [
         "EP000000510159",
         "A Different World",
         "20151219",
         29.0,
         0,
         [
          "Sitcom"
         ],
         false
        ]
       ],
       "datasetInfos": [],
       "dbfsResultPath": null,
       "isJsonSchema": true,
       "metadata": {},
       "overflow": false,
       "plotOptions": {
        "customPlotOptions": {},
        "displayType": "table",
        "pivotAggregation": null,
        "pivotColumns": null,
        "xColumns": null,
        "yColumns": null
       },
       "removedWidgets": [],
       "schema": [
        {
         "metadata": "{}",
         "name": "prog_code",
         "type": "\"string\""
        },
        {
         "metadata": "{}",
         "name": "title",
         "type": "\"string\""
        },
        {
         "metadata": "{}",
         "name": "air_date",
         "type": "\"string\""
        },
        {
         "metadata": "{}",
         "name": "Duration",
         "type": "\"float\""
        },
        {
         "metadata": "{}",
         "name": "cnt_title",
         "type": "\"integer\""
        },
        {
         "metadata": "{}",
         "name": "genre_array",
         "type": "{\"type\":\"array\",\"elementType\":\"string\",\"containsNull\":false}"
        },
        {
         "metadata": "{}",
         "name": "is_suspicious_genre",
         "type": "\"boolean\""
        }
       ],
       "type": "table"
      }
     },
     "output_type": "display_data"
    },
    {
     "output_type": "stream",
     "name": "stdout",
     "output_type": "stream",
     "text": [
      " contains 13194849 rows!\n"
     ]
    }
   ],
   "source": [
    "daily_prog_temp = daily_prog_df.drop('air_time')\n",
    "avg_duration = daily_prog_df.select(avg(col(\"Duration\"))).first()[0]\n",
    "suspicious =[\"Collectibles\", \"Art\", \"Snowmobile\", \"Public affairs\", \"Animated\", \"Music\"]\n",
    "title_word = [\"better\", \"girls\", \"the\", \"call\"]\n",
    "suspicious_genre = False\n",
    "daily_prog_temp = daily_prog_temp.withColumn(\n",
    "    'cnt_title',\n",
    "    (\n",
    "    when(lower(col('title')).contains('better'),1).otherwise(0) +\n",
    "    when(lower(col('title')).contains('girls'),1).otherwise(0) +\n",
    "    when(lower(col('title')).contains('the'),1).otherwise(0) +\n",
    "    when(lower(col('title')).contains('call'), 1).otherwise(0)\n",
    "    )\n",
    ")\n",
    "daily_prog_temp = daily_prog_temp.withColumn(\n",
    "    \"genre_array\",\n",
    "    split(col(\"genre\"), \",\")\n",
    ")\n",
    "\n",
    "daily_prog_temp = daily_prog_temp.withColumn(\n",
    "    \"genre_array\",\n",
    "    expr(\"transform(genre_array, x -> trim(x))\")\n",
    ")\n",
    "\n",
    "daily_prog_temp = daily_prog_temp.withColumn(\n",
    "    \"is_suspicious_genre\",\n",
    "    expr(f\"\"\"\n",
    "        size(\n",
    "            filter(\n",
    "                genre_array,\n",
    "                g -> array_contains(array({','.join([f'\"{g}\"' for g in suspicious])}), g)\n",
    "            )\n",
    "        ) > 0\n",
    "    \"\"\")\n",
    ")\n",
    "daily_prog_temp = daily_prog_temp.drop('genre')\n",
    "display(daily_prog_temp.limit(6))\n",
    "print(f' contains {daily_prog_temp.count()} rows!') "
   ]
  },
  {
   "cell_type": "code",
   "execution_count": 0,
   "metadata": {
    "application/vnd.databricks.v1+cell": {
     "cellMetadata": {
      "byteLimit": 2048000,
      "rowLimit": 10000
     },
     "inputWidgets": {},
     "nuid": "841da99c-9eed-4553-8128-cfe2c2753893",
     "showTitle": false,
     "tableResultSettingsMap": {},
     "title": ""
    }
   },
   "outputs": [],
   "source": [
    "ref_data = ref_data.withColumn(\"household_id\", lpad(col(\"household_id\"), 8, \"0\"))"
   ]
  },
  {
   "cell_type": "markdown",
   "metadata": {
    "application/vnd.databricks.v1+cell": {
     "cellMetadata": {
      "byteLimit": 2048000,
      "rowLimit": 10000
     },
     "inputWidgets": {},
     "nuid": "1c65017b-424b-4bbc-b094-75deab8cad1f",
     "showTitle": false,
     "tableResultSettingsMap": {},
     "title": ""
    }
   },
   "source": [
    "**part 1.2 :**"
   ]
  },
  {
   "cell_type": "code",
   "execution_count": 0,
   "metadata": {
    "application/vnd.databricks.v1+cell": {
     "cellMetadata": {
      "byteLimit": 2048000,
      "rowLimit": 10000
     },
     "inputWidgets": {},
     "nuid": "290d48b5-e23f-420a-8d44-7209f6108fc0",
     "showTitle": false,
     "tableResultSettingsMap": {},
     "title": ""
    }
   },
   "outputs": [
    {
     "output_type": "stream",
     "name": "stdout",
     "output_type": "stream",
     "text": [
      " contains 36494 rows!\n"
     ]
    }
   ],
   "source": [
    "# Step 1: Get only households with Toyota vehicles\n",
    "toyota_households_df = demo_df.filter(col('vehicle_make') == 91).select('household_id')\n",
    "\n",
    "# Step 2: Join viewing data to household mapping\n",
    "viewing_ref_df = viewing_clean_df.join(ref_data, on='device_id', how='left')\n",
    "\n",
    "# Step 3: Join only Toyota households (inner join filters early)\n",
    "toyota_viewings_df = viewing_ref_df.join(toyota_households_df, on='household_id', how='inner')\n",
    "\n",
    "# Step 4: Get unique program codes watched by these households\n",
    "toyota_prog_df = toyota_viewings_df.select('prog_code').distinct() \\\n",
    "    .withColumn('has_toyota_viewing', lit(True))\n",
    "\n",
    "print(f' contains {toyota_prog_df.count()} rows!') \n"
   ]
  },
  {
   "cell_type": "code",
   "execution_count": 0,
   "metadata": {
    "application/vnd.databricks.v1+cell": {
     "cellMetadata": {
      "byteLimit": 2048000,
      "rowLimit": 10000
     },
     "inputWidgets": {},
     "nuid": "da9552f5-1d76-45fe-bbc1-238d5ae6c0bd",
     "showTitle": false,
     "tableResultSettingsMap": {},
     "title": ""
    }
   },
   "outputs": [
    {
     "output_type": "stream",
     "name": "stdout",
     "output_type": "stream",
     "text": [
      "Friday the 13th programs (including Thursday overlap): 24350\n"
     ]
    }
   ],
   "source": [
    "temp2 = daily_prog_df.select('prog_code', 'air_date', 'air_time', 'Duration')\n",
    "\n",
    "temp2 = temp2.withColumn('air_date', to_date(col('air_date'), 'yyyyMMdd'))\n",
    "temp2 = temp2.withColumn(\n",
    "    'air_start',\n",
    "    to_timestamp(concat_ws(' ', col('air_date'), col('air_time')), 'yyyy-MM-dd HHmmss')\n",
    ")\n",
    "\n",
    "temp2 = temp2.withColumn('duration_int', floor(col('Duration')).cast('int'))\n",
    "\n",
    "temp2 = temp2.withColumn(\n",
    "    'air_end',\n",
    "    expr(\"CAST(air_start AS TIMESTAMP) + duration_int * INTERVAL 1 MINUTE\")\n",
    ")\n",
    "temp2 = temp2.filter(\n",
    "    (\n",
    "        (dayofmonth(col('air_date')) == 13) &\n",
    "        (date_format(col('air_date'), 'E') == 'Fri')\n",
    "    ) |\n",
    "    (\n",
    "        (dayofmonth(col('air_date')) == 12) &\n",
    "        (date_format(col('air_date'), 'E') == 'Thu') &\n",
    "        (dayofmonth(col('air_end')) == 13) &\n",
    "        (date_format(col('air_end'), 'E') == 'Fri')\n",
    "    )\n",
    ")\n",
    "\n",
    "friday_prog_df = temp2.select('prog_code').distinct() \\\n",
    "    .withColumn('is_friday', lit(True))\n",
    "\n",
    "print(f\"Friday the 13th programs (including Thursday overlap): {friday_prog_df.count()}\")\n"
   ]
  },
  {
   "cell_type": "code",
   "execution_count": 0,
   "metadata": {
    "application/vnd.databricks.v1+cell": {
     "cellMetadata": {
      "byteLimit": 2048000,
      "rowLimit": 10000
     },
     "inputWidgets": {},
     "nuid": "4c7335c2-a6ec-4225-a785-2449d1a9cb08",
     "showTitle": false,
     "tableResultSettingsMap": {},
     "title": ""
    }
   },
   "outputs": [
    {
     "output_type": "stream",
     "name": "stdout",
     "output_type": "stream",
     "text": [
      "Condition #5 programs count: 36396\n"
     ]
    }
   ],
   "source": [
    "high_device_households_df = ref_data \\\n",
    "    .filter(col('device_count') > 3) \\\n",
    "    .select('device_id', 'household_id')\n",
    "\n",
    "low_income_households_df = demo_df \\\n",
    "    .filter(col('income') <= house_avg) \\\n",
    "    .select('household_id')\n",
    "\n",
    "cond_5_viewings_df = viewing_clean_df \\\n",
    "    .join(high_device_households_df, on='device_id', how='inner') \\\n",
    "    .join(low_income_households_df, on='household_id', how='inner')\n",
    "\n",
    "cond_5_df = cond_5_viewings_df.select('prog_code').distinct() \\\n",
    "    .withColumn('cond_5', lit(True))\n",
    "\n",
    "print(f\"Condition #5 programs count: {cond_5_df.count()}\")"
   ]
  },
  {
   "cell_type": "code",
   "execution_count": 0,
   "metadata": {
    "application/vnd.databricks.v1+cell": {
     "cellMetadata": {
      "byteLimit": 2048000,
      "rowLimit": 10000
     },
     "inputWidgets": {},
     "nuid": "50cd0a59-4c82-4b90-ad57-2657808eb8cb",
     "showTitle": false,
     "tableResultSettingsMap": {},
     "title": ""
    }
   },
   "outputs": [
    {
     "output_type": "stream",
     "name": "stdout",
     "output_type": "stream",
     "text": [
      " contains 9935852 rows1!\n contains 9935852 rows2!\n contains 9935852 rows3!\n contains 9935852 rows4!\n contains 9935852 rows5!\n contains 9935852 rows6!\n"
     ]
    }
   ],
   "source": [
    "final_df = viewing_clean_df.join(ref_data, on='device_id', how='left')\n",
    "print(f' contains {final_df.count()} rows1!')\n",
    "\n",
    "final_df = final_df.join(demo_df.select('household_id', 'cond_3'), on='household_id', how='left')\n",
    "print(f' contains {final_df.count()} rows2!')\n",
    "\n",
    "daily_clean = daily_prog_temp \\\n",
    "    .select('prog_code', 'title', 'duration', 'is_suspicious_genre', 'cnt_title').dropDuplicates(['prog_code'])\n",
    "\n",
    "final_df = final_df.join(daily_clean, on='prog_code', how='left')\n",
    "print(f' contains {final_df.count()} rows3!')\n",
    "\n",
    "final_df = final_df.join(toyota_prog_df.select('prog_code', 'has_toyota_viewing'), on='prog_code', how='left')\n",
    "print(f' contains {final_df.count()} rows4!')\n",
    "\n",
    "final_df = final_df.join(friday_prog_df, on='prog_code', how='left')\n",
    "print(f' contains {final_df.count()} rows5!')\n",
    "\n",
    "final_df = final_df.join(cond_5_df, on='prog_code', how='left')\n",
    "print(f' contains {final_df.count()} rows6!')"
   ]
  },
  {
   "cell_type": "code",
   "execution_count": 0,
   "metadata": {
    "application/vnd.databricks.v1+cell": {
     "cellMetadata": {
      "byteLimit": 2048000,
      "rowLimit": 10000
     },
     "inputWidgets": {},
     "nuid": "5a70d803-b093-4f77-a13a-067d2ca03a76",
     "showTitle": false,
     "tableResultSettingsMap": {},
     "title": ""
    }
   },
   "outputs": [],
   "source": [
    "final_df = final_df.fillna({\n",
    "    'cond_3': False,\n",
    "    'is_suspicious_genre': False,\n",
    "    'cnt_title': 0,\n",
    "    'has_toyota_viewing': False,\n",
    "    'is_friday': False,\n",
    "    'cond_5': False\n",
    "})\n"
   ]
  },
  {
   "cell_type": "code",
   "execution_count": 0,
   "metadata": {
    "application/vnd.databricks.v1+cell": {
     "cellMetadata": {
      "byteLimit": 2048000,
      "rowLimit": 10000
     },
     "inputWidgets": {},
     "nuid": "3acab97e-0e65-490a-9ce1-3a23bc8e095c",
     "showTitle": false,
     "tableResultSettingsMap": {},
     "title": ""
    }
   },
   "outputs": [],
   "source": [
    "final_df = final_df.withColumn(\n",
    "    'cond_1',\n",
    "    when(col('duration').isNotNull() & (col('duration') > avg_duration), 1).otherwise(0)\n",
    ")\n",
    "\n",
    "final_df = final_df.withColumn(\n",
    "    'cond_2',\n",
    "    when(col('has_toyota_viewing') == True, 1).otherwise(0)\n",
    ")\n",
    "\n",
    "final_df = final_df.withColumn(\n",
    "    'cond_3',\n",
    "    when(col('cond_3') == True, 1).otherwise(0)\n",
    ")\n",
    "\n",
    "final_df = final_df.withColumn(\n",
    "    'cond_4',\n",
    "    when(col('is_friday') == True, 1).otherwise(0)\n",
    ")\n",
    "\n",
    "final_df = final_df.withColumn(\n",
    "    'cond_5',\n",
    "    when(col('cond_5') == True, 1).otherwise(0)\n",
    ")\n",
    "\n",
    "final_df = final_df.withColumn(\n",
    "    'cond_6',\n",
    "    when(col('is_suspicious_genre') == True, 1).otherwise(0)\n",
    ")\n",
    "\n",
    "final_df = final_df.withColumn(\n",
    "    'cond_7',\n",
    "    when(col('cnt_title') >= 2, 1).otherwise(0)\n",
    ")\n",
    "\n",
    "# Add total score across all 7 flags\n",
    "final_df = final_df.withColumn(\n",
    "    'malicious_score',\n",
    "    col('cond_1') + col('cond_2') + col('cond_3') +\n",
    "    col('cond_4') + col('cond_5') + col('cond_6') + col('cond_7')\n",
    ")\n",
    "\n",
    "# Final malicious flag: at least 4 conditions met\n",
    "final_df = final_df.withColumn(\n",
    "    'is_malicious',\n",
    "    when(col('malicious_score') >= 4, True).otherwise(False)\n",
    ")\n"
   ]
  },
  {
   "cell_type": "code",
   "execution_count": 0,
   "metadata": {
    "application/vnd.databricks.v1+cell": {
     "cellMetadata": {
      "byteLimit": 2048000,
      "rowLimit": 10000
     },
     "inputWidgets": {},
     "nuid": "df972b50-1500-42e1-af32-c412c7b92c4c",
     "showTitle": false,
     "tableResultSettingsMap": {},
     "title": ""
    }
   },
   "outputs": [
    {
     "output_type": "display_data",
     "data": {
      "text/html": [
       "<style scoped>\n",
       "  .table-result-container {\n",
       "    max-height: 300px;\n",
       "    overflow: auto;\n",
       "  }\n",
       "  table, th, td {\n",
       "    border: 1px solid black;\n",
       "    border-collapse: collapse;\n",
       "  }\n",
       "  th, td {\n",
       "    padding: 5px;\n",
       "  }\n",
       "  th {\n",
       "    text-align: left;\n",
       "  }\n",
       "</style><div class='table-result-container'><table class='table-result'><thead style='background-color: white'><tr><th>title</th><th>total_count</th><th>malicious_count</th><th>percent</th></tr></thead><tbody><tr><td>The Trip</td><td>92</td><td>92</td><td>1.0</td></tr><tr><td>Classic Arts Showcase</td><td>61</td><td>61</td><td>1.0</td></tr><tr><td>Cocaine Cowboys</td><td>205</td><td>205</td><td>1.0</td></tr><tr><td>Fruitvale Station</td><td>208</td><td>208</td><td>1.0</td></tr><tr><td>Carreras, Domingo, Pavarotti in Concert</td><td>9</td><td>9</td><td>1.0</td></tr><tr><td>B.A.P.S</td><td>141</td><td>141</td><td>1.0</td></tr><tr><td>Lion vs. Lion</td><td>8</td><td>8</td><td>1.0</td></tr><tr><td>50 Years With Peter, Paul and Mary</td><td>265</td><td>265</td><td>1.0</td></tr><tr><td>Legislature Today</td><td>335</td><td>335</td><td>1.0</td></tr><tr><td>Telehits</td><td>60</td><td>60</td><td>1.0</td></tr><tr><td>Pottery Live! With Ben Owen III</td><td>95</td><td>95</td><td>1.0</td></tr><tr><td>Wheat Belly Total Health-William</td><td>126</td><td>126</td><td>1.0</td></tr><tr><td>The Facility</td><td>110</td><td>110</td><td>1.0</td></tr><tr><td>Golf Central Pregame</td><td>2695</td><td>2695</td><td>1.0</td></tr><tr><td>Jamie Marks Is Dead</td><td>30</td><td>30</td><td>1.0</td></tr><tr><td>My Best Friend's Wedding</td><td>78</td><td>78</td><td>1.0</td></tr><tr><td>GI Film Festival</td><td>167</td><td>167</td><td>1.0</td></tr><tr><td>Sea Beast</td><td>71</td><td>71</td><td>1.0</td></tr><tr><td>Una familia con suerte</td><td>125</td><td>125</td><td>1.0</td></tr><tr><td>Live Soul</td><td>33</td><td>33</td><td>1.0</td></tr></tbody></table></div>"
      ]
     },
     "metadata": {
      "application/vnd.databricks.v1+output": {
       "addedWidgets": {},
       "aggData": [],
       "aggError": "",
       "aggOverflow": false,
       "aggSchema": [],
       "aggSeriesLimitReached": false,
       "aggType": "",
       "arguments": {},
       "columnCustomDisplayInfos": {},
       "data": [
        [
         "The Trip",
         92,
         92,
         1.0
        ],
        [
         "Classic Arts Showcase",
         61,
         61,
         1.0
        ],
        [
         "Cocaine Cowboys",
         205,
         205,
         1.0
        ],
        [
         "Fruitvale Station",
         208,
         208,
         1.0
        ],
        [
         "Carreras, Domingo, Pavarotti in Concert",
         9,
         9,
         1.0
        ],
        [
         "B.A.P.S",
         141,
         141,
         1.0
        ],
        [
         "Lion vs. Lion",
         8,
         8,
         1.0
        ],
        [
         "50 Years With Peter, Paul and Mary",
         265,
         265,
         1.0
        ],
        [
         "Legislature Today",
         335,
         335,
         1.0
        ],
        [
         "Telehits",
         60,
         60,
         1.0
        ],
        [
         "Pottery Live! With Ben Owen III",
         95,
         95,
         1.0
        ],
        [
         "Wheat Belly Total Health-William",
         126,
         126,
         1.0
        ],
        [
         "The Facility",
         110,
         110,
         1.0
        ],
        [
         "Golf Central Pregame",
         2695,
         2695,
         1.0
        ],
        [
         "Jamie Marks Is Dead",
         30,
         30,
         1.0
        ],
        [
         "My Best Friend's Wedding",
         78,
         78,
         1.0
        ],
        [
         "GI Film Festival",
         167,
         167,
         1.0
        ],
        [
         "Sea Beast",
         71,
         71,
         1.0
        ],
        [
         "Una familia con suerte",
         125,
         125,
         1.0
        ],
        [
         "Live Soul",
         33,
         33,
         1.0
        ]
       ],
       "datasetInfos": [],
       "dbfsResultPath": null,
       "isJsonSchema": true,
       "metadata": {},
       "overflow": false,
       "plotOptions": {
        "customPlotOptions": {},
        "displayType": "table",
        "pivotAggregation": null,
        "pivotColumns": null,
        "xColumns": null,
        "yColumns": null
       },
       "removedWidgets": [],
       "schema": [
        {
         "metadata": "{}",
         "name": "title",
         "type": "\"string\""
        },
        {
         "metadata": "{}",
         "name": "total_count",
         "type": "\"long\""
        },
        {
         "metadata": "{}",
         "name": "malicious_count",
         "type": "\"long\""
        },
        {
         "metadata": "{}",
         "name": "percent",
         "type": "\"double\""
        }
       ],
       "type": "table"
      }
     },
     "output_type": "display_data"
    }
   ],
   "source": [
    "malicious_titles = final_df.groupBy('title').agg(\n",
    "    count('*').alias('total_count'),\n",
    "    sum(when(col('is_malicious'), 1).otherwise(0)).alias('malicious_count')\n",
    ").withColumn(\n",
    "    'percent', col('malicious_count') / col('total_count')\n",
    ").filter(\n",
    "    col('percent') > 0.4\n",
    ").orderBy(col('percent').desc())\n",
    "\n",
    "# Show top 20 malicious titles\n",
    "display(malicious_titles.limit(20))\n"
   ]
  },
  {
   "cell_type": "code",
   "execution_count": 0,
   "metadata": {
    "application/vnd.databricks.v1+cell": {
     "cellMetadata": {
      "byteLimit": 2048000,
      "rowLimit": 10000
     },
     "inputWidgets": {},
     "nuid": "05891d58-7e9e-45d3-b5e0-2f0d2717cda6",
     "showTitle": false,
     "tableResultSettingsMap": {},
     "title": ""
    }
   },
   "outputs": [
    {
     "output_type": "stream",
     "name": "stdout",
     "output_type": "stream",
     "text": [
      "+--------------------------+--------------+\n|title                     |num_prog_codes|\n+--------------------------+--------------+\n|College Basketball        |3526          |\n|MLB Baseball              |2804          |\n|NULL                      |2590          |\n|College Football          |2363          |\n|NHL Hockey                |1697          |\n|NBA Basketball            |1342          |\n|Family Feud               |1188          |\n|High School Football      |1119          |\n|Women's College Basketball|1100          |\n|Today                     |1090          |\n|Judge Judy                |800           |\n|College Baseball          |744           |\n|Doctor Who                |701           |\n|RightThisMinute           |636           |\n|The Simpsons              |609           |\n|Dr. Phil                  |598           |\n|High School Basketball    |586           |\n|Jerry Springer            |575           |\n|Saturday Night Live       |568           |\n|Maury                     |535           |\n+--------------------------+--------------+\nonly showing top 20 rows\n\n"
     ]
    }
   ],
   "source": [
    "daily_prog_df.groupBy('title').agg(countDistinct('prog_code').alias('num_prog_codes')).orderBy('num_prog_codes', ascending=False).show(20, truncate=False)"
   ]
  },
  {
   "cell_type": "code",
   "execution_count": 0,
   "metadata": {
    "application/vnd.databricks.v1+cell": {
     "cellMetadata": {
      "byteLimit": 2048000,
      "rowLimit": 10000
     },
     "inputWidgets": {},
     "nuid": "6f7e0f5e-9fec-4402-b992-0c86dbc35e7b",
     "showTitle": false,
     "tableResultSettingsMap": {},
     "title": ""
    }
   },
   "outputs": [
    {
     "output_type": "stream",
     "name": "stdout",
     "output_type": "stream",
     "text": [
      "+--------------+-----------+\n|     prog_code|title_count|\n+--------------+-----------+\n|SH000000010000|      74680|\n|SH009109720000|      58908|\n|SH009109710000|      58908|\n|SH000193310000|      33422|\n|SH007772610000|      29267|\n|SH000191120000|      28713|\n|SH018126570000|      24746|\n|SH000191160000|      23901|\n|SH011027320000|      23143|\n|SH015669460000|      20083|\n+--------------+-----------+\nonly showing top 10 rows\n\n"
     ]
    }
   ],
   "source": [
    "daily_prog_df.groupBy('prog_code').agg(count('title').alias('title_count')).orderBy('title_count', ascending=False).show(10)\n"
   ]
  },
  {
   "cell_type": "code",
   "execution_count": 0,
   "metadata": {
    "application/vnd.databricks.v1+cell": {
     "cellMetadata": {
      "byteLimit": 2048000,
      "rowLimit": 10000
     },
     "inputWidgets": {},
     "nuid": "a3531e6b-4777-426f-932c-ddf1e2d0848e",
     "showTitle": false,
     "tableResultSettingsMap": {},
     "title": ""
    }
   },
   "outputs": [
    {
     "output_type": "stream",
     "name": "stdout",
     "output_type": "stream",
     "text": [
      "+--------------+----------+\n|     prog_code|num_titles|\n+--------------+----------+\n|EP016186860070|         2|\n|EP017516880027|         2|\n|EP000048400405|         2|\n|SH014712800000|         2|\n|EP020942350002|         2|\n|EP017516880047|         2|\n|EP017825740017|         2|\n|EP015515980009|         2|\n|EP022802080002|         2|\n|SH022422810000|         2|\n|EP021732660001|         2|\n|SH022250880000|         2|\n|SH020932090000|         2|\n|MV003834600000|         2|\n|SH021553930000|         2|\n|SH021548840000|         2|\n|SH016285800000|         2|\n|SH021551390000|         2|\n|MV005735750000|         2|\n|EP017825740015|         2|\n+--------------+----------+\nonly showing top 20 rows\n\n"
     ]
    }
   ],
   "source": [
    "daily_prog_df.groupBy('prog_code').agg(countDistinct('title').alias('num_titles')).filter(col('num_titles') > 1).show()\n"
   ]
  }
 ],
 "metadata": {
  "application/vnd.databricks.v1+notebook": {
   "computePreferences": null,
   "dashboards": [],
   "environmentMetadata": null,
   "inputWidgetPreferences": null,
   "language": "python",
   "notebookMetadata": {
    "pythonIndentUnit": 4
   },
   "notebookName": "Project 1 - Distributed Database Systems - Starter Notebook",
   "widgets": {}
  },
  "language_info": {
   "name": "python"
  }
 },
 "nbformat": 4,
 "nbformat_minor": 0
}